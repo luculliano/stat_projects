{
 "cells": [
  {
   "cell_type": "code",
   "execution_count": 1,
   "id": "6c616d68",
   "metadata": {},
   "outputs": [
    {
     "data": {
      "text/plain": [
       "31100000.0"
      ]
     },
     "execution_count": 1,
     "metadata": {},
     "output_type": "execute_result"
    }
   ],
   "source": [
    "# Определить среднюю стоимость оборотного капитала за год на\n",
    "# основе исходной информации, которая представлена в таблице\n",
    "import pandas as pd\n",
    "import numpy as np\n",
    "\n",
    "d = {\n",
    "    'investments': (7_000_000, 6_000_000),\n",
    "    'stock': (10_200_000, 10_000_000),\n",
    "    'money': (5_000_000, 6_000_000),\n",
    "    'receivables': (8_000_000, 10_000_000)\n",
    "}\n",
    "beg = map(lambda x: x[0], d.values())\n",
    "end = map(lambda x: x[1], d.values())\n",
    "\n",
    "data = pd.DataFrame({\n",
    "    'beg': beg,\n",
    "    'end': end},\n",
    "    index=d.keys()\n",
    ")\n",
    "average_assets = (data.beg.sum() + data.end.sum()) / 2\n",
    "average_assets"
   ]
  },
  {
   "cell_type": "code",
   "execution_count": 10,
   "id": "0fc467b8",
   "metadata": {},
   "outputs": [
    {
     "data": {
      "text/html": [
       "<div>\n",
       "<style scoped>\n",
       "    .dataframe tbody tr th:only-of-type {\n",
       "        vertical-align: middle;\n",
       "    }\n",
       "\n",
       "    .dataframe tbody tr th {\n",
       "        vertical-align: top;\n",
       "    }\n",
       "\n",
       "    .dataframe thead th {\n",
       "        text-align: right;\n",
       "    }\n",
       "</style>\n",
       "<table border=\"1\" class=\"dataframe\">\n",
       "  <thead>\n",
       "    <tr style=\"text-align: right;\">\n",
       "      <th></th>\n",
       "      <th>beg</th>\n",
       "      <th>end</th>\n",
       "    </tr>\n",
       "  </thead>\n",
       "  <tbody>\n",
       "    <tr>\n",
       "      <th>absolute_liq</th>\n",
       "      <td>0.359579</td>\n",
       "      <td>0.406743</td>\n",
       "    </tr>\n",
       "    <tr>\n",
       "      <th>intermidiate_liq</th>\n",
       "      <td>0.939454</td>\n",
       "      <td>1.227881</td>\n",
       "    </tr>\n",
       "    <tr>\n",
       "      <th>common_liq</th>\n",
       "      <td>1.775725</td>\n",
       "      <td>3.015065</td>\n",
       "    </tr>\n",
       "  </tbody>\n",
       "</table>\n",
       "</div>"
      ],
      "text/plain": [
       "                       beg       end\n",
       "absolute_liq      0.359579  0.406743\n",
       "intermidiate_liq  0.939454  1.227881\n",
       "common_liq        1.775725  3.015065"
      ]
     },
     "execution_count": 10,
     "metadata": {},
     "output_type": "execute_result"
    }
   ],
   "source": [
    "# Рассчитать коэффициенты ликвидности на основе исходной\n",
    "# информации, представленной в таблице.\n",
    "\n",
    "data = pd.DataFrame({\n",
    "    'beg': (2_942_000, 2_040_000, 206_000, 1_059_000, 6_247_000, 3_518_000),\n",
    "    'end': (3_737_000, 1_717_000, 17_500, 833_000, 6_304_500, 2_091_000)},\n",
    "    index=('stock', 'receivables', 'investments', 'money', 'total', 'cur_liabilities')\n",
    ")\n",
    "\n",
    "liquidity = pd.DataFrame({\n",
    "    'beg': (np.NaN for _ in range(3)),\n",
    "    'end': (np.NaN for _ in range(3))},\n",
    "    index=('absolute_liq', 'intermidiate_liq', 'common_liq')\n",
    ")\n",
    "# K aбс ликв = (ДС + ФВ) / КО, К промеж ликв = (ДС+ФВ+ДЗ)/КО, К тек,общ ликв = об активы / КО\n",
    "liquidity.loc['absolute_liq'] = (\n",
    "    (data.loc['money', 'beg'] + data.loc['investments', 'beg']) / data.loc['cur_liabilities', 'beg'],\n",
    "    (data.loc['money', 'end'] + data.loc['investments', 'end']) / data.loc['cur_liabilities', 'end']\n",
    ")\n",
    "liquidity.loc['intermidiate_liq'] = (\n",
    "    (data.loc['money', 'beg'] + data.loc['investments', 'beg'] + data.loc['receivables', 'beg']) / data.loc['cur_liabilities', 'beg'],\n",
    "    (data.loc['money', 'end'] + data.loc['investments', 'end'] + data.loc['receivables', 'end']) / data.loc['cur_liabilities', 'end']\n",
    ")\n",
    "liquidity.loc['common_liq'] = (data.loc['total', 'beg'] / data.loc['cur_liabilities', 'beg'],\n",
    "                              data.loc['total', 'end'] / data.loc['cur_liabilities', 'end'])\n",
    "\n",
    "liquidity"
   ]
  },
  {
   "cell_type": "code",
   "execution_count": 27,
   "id": "0067b29e",
   "metadata": {},
   "outputs": [
    {
     "data": {
      "text/html": [
       "<div>\n",
       "<style scoped>\n",
       "    .dataframe tbody tr th:only-of-type {\n",
       "        vertical-align: middle;\n",
       "    }\n",
       "\n",
       "    .dataframe tbody tr th {\n",
       "        vertical-align: top;\n",
       "    }\n",
       "\n",
       "    .dataframe thead th {\n",
       "        text-align: right;\n",
       "    }\n",
       "</style>\n",
       "<table border=\"1\" class=\"dataframe\">\n",
       "  <thead>\n",
       "    <tr style=\"text-align: right;\">\n",
       "      <th></th>\n",
       "      <th>beg</th>\n",
       "      <th>end</th>\n",
       "    </tr>\n",
       "  </thead>\n",
       "  <tbody>\n",
       "    <tr>\n",
       "      <th>absolute_liq</th>\n",
       "      <td>24.0</td>\n",
       "      <td>14.0</td>\n",
       "    </tr>\n",
       "    <tr>\n",
       "      <th>fast_liq</th>\n",
       "      <td>39.0</td>\n",
       "      <td>27.0</td>\n",
       "    </tr>\n",
       "    <tr>\n",
       "      <th>slow_liq</th>\n",
       "      <td>37.0</td>\n",
       "      <td>59.0</td>\n",
       "    </tr>\n",
       "    <tr>\n",
       "      <th>total</th>\n",
       "      <td>100.0</td>\n",
       "      <td>100.0</td>\n",
       "    </tr>\n",
       "  </tbody>\n",
       "</table>\n",
       "</div>"
      ],
      "text/plain": [
       "                beg    end\n",
       "absolute_liq   24.0   14.0\n",
       "fast_liq       39.0   27.0\n",
       "slow_liq       37.0   59.0\n",
       "total         100.0  100.0"
      ]
     },
     "execution_count": 27,
     "metadata": {},
     "output_type": "execute_result"
    }
   ],
   "source": [
    "# Рассчитать структуру оборотного капитала по степени\n",
    "# ликвидности, на основе исходной информации, представленной в таблице\n",
    "\n",
    "data = pd.DataFrame({\n",
    "    'beg': (1_887_000, 1_989_000, 800_000, 424_000, 5_100_000),\n",
    "    'end': (3_719_360, 1_702_080, 49_560, 833_000, 6_304_000)},\n",
    "    index=('stock', 'receivables', 'investments', 'money', 'total')\n",
    ")\n",
    "\n",
    "liquidity = pd.DataFrame({\n",
    "    'beg': (np.NaN for _ in range(3)),\n",
    "    'end': (np.NaN for _ in range(3))},\n",
    "    index=('absolute_liq', 'fast_liq', 'slow_liq')\n",
    ")\n",
    "liquidity.loc['absolute_liq'] = (\n",
    "    (data.loc['investments', 'beg'] + data.loc['money', 'beg']) / data['beg'][:-1].sum() * 100,\n",
    "    (data.loc['investments', 'end'] + data.loc['money', 'end']) / data['end'][:-1].sum() * 100,\n",
    ")\n",
    "liquidity.loc['fast_liq'] = (\n",
    "    data.loc['receivables', 'beg'] / data['beg'][:-1].sum() * 100,\n",
    "    data.loc['receivables', 'end'] / data['end'][:-1].sum() * 100,\n",
    ")\n",
    "liquidity.loc['slow_liq'] = (\n",
    "    data.loc['stock', 'beg'] / data['beg'][:-1].sum() * 100,\n",
    "    data.loc['stock', 'end'] / data['end'][:-1].sum() * 100,\n",
    ")\n",
    "liquidity.loc['total'] = (liquidity['beg'].sum(), liquidity['end'].sum())\n",
    "liquidity"
   ]
  },
  {
   "cell_type": "code",
   "execution_count": 3,
   "id": "48c5d9e3",
   "metadata": {},
   "outputs": [
    {
     "name": "stdout",
     "output_type": "stream",
     "text": [
      "need to deposit 0.2 rub to get 1 rub of revenue\n",
      "working capital turns into a money for 73.0 days\n",
      "organization gets 0.09 rub of profit before tax from 1 rub deposited in work capital\n"
     ]
    }
   ],
   "source": [
    "# Выручка предприятия за год составила 15 000 000 руб.\n",
    "# Коэффициент оборачиваемости равен 5 оборотов за год. Прибыль до\n",
    "# налогообложения за год составила 270 000 руб. Рассчитать коэффициент\n",
    "# загрузки, длительность одного оборота и рентабельность оборотного капитала.\n",
    "\n",
    "Kz = 1 / 5\n",
    "turnover_duration = 365 / 5\n",
    "work_cap = 15_000_000 / 5\n",
    "work_cap_efficiency  = 270_000 / work_cap\n",
    "print(f'need to deposit {Kz} rub to get 1 rub of revenue')\n",
    "print(f'working capital turns into a money for {turnover_duration} days')\n",
    "print(f'organization gets {work_cap_efficiency} rub of profit before tax from 1 rub deposited in work capital')"
   ]
  },
  {
   "cell_type": "code",
   "execution_count": 22,
   "id": "8a445ae8",
   "metadata": {},
   "outputs": [
    {
     "name": "stdout",
     "output_type": "stream",
     "text": [
      "revenue new 9385714.285714285 rub\n",
      "work cap change is -73972.60273972596 with the same revenue\n"
     ]
    }
   ],
   "source": [
    "# Выручка предприятия за год составила 9 000 000 руб.\n",
    "# Величина оборотных средств в обороте – 1 800 000 руб. Рассчитать выручку\n",
    "# предприятия при ускорении оборачиваемости на 3 дня.\n",
    "\n",
    "Ko = 9_000_000 / 1_800_000\n",
    "turnover_duration = 365 / Ko\n",
    "\n",
    "Ko = 365 / (turnover_duration - 3)\n",
    "revenue = 1_800_000 * Ko\n",
    "print(f'revenue new {revenue} rub')\n",
    "\n",
    "work_cap = 9_000_000 / Ko\n",
    "print(f'work cap change is {work_cap - 1_800_000} with the same revenue')"
   ]
  },
  {
   "cell_type": "code",
   "execution_count": 66,
   "id": "0cb82bb8",
   "metadata": {},
   "outputs": [
    {
     "data": {
      "text/plain": [
       "(11.25, 9.0, 5493333.333333333, 11.25)"
      ]
     },
     "execution_count": 66,
     "metadata": {},
     "output_type": "execute_result"
    }
   ],
   "source": [
    "# Задача 8. В 1 квартале выручка торгового предприятия составила\n",
    "# 60 млн. руб. Величина оборотных средств в обороте – 6 млн. руб. Во 2\n",
    "# квартале предприятие планирует увеличить продажу товаров на 3% и\n",
    "# сократить время одного оборота на 1 день.\n",
    "# Рассчитать:\n",
    "# 1) коэффициент оборачиваемости и длительность одного оборота в 1\n",
    "# квартале;\n",
    "# 2) коэффициент оборачиваемости во 2 квартале;\n",
    "# 3) величину оборотных средств в обороте во 2 квартале\n",
    "Ko = 60_000_000 / 6_000_000\n",
    "turnover_duration = 90 / Ko\n",
    "\n",
    "revenue_new = (60_000_000 + (60_000_000*0.03))\n",
    "turnover_duration_new = turnover_duration - 1\n",
    "work_cap_new = revenue_new * turnover_duration_new / 90\n",
    "Ko = revenue_new / work_cap_new\n",
    "\n",
    "Ko, turnover_duration, work_cap_new, Ko"
   ]
  },
  {
   "cell_type": "code",
   "execution_count": 63,
   "id": "3e3994ad",
   "metadata": {},
   "outputs": [
    {
     "data": {
      "text/plain": [
       "5123287.671232876"
      ]
     },
     "execution_count": 63,
     "metadata": {},
     "output_type": "execute_result"
    }
   ],
   "source": [
    "# Выручка от продаж предприятия в отчетном году составила\n",
    "# 25 млн руб. при величине оборотных средств в обороте в размере 5 млн руб.\n",
    "# В следующем году предприятие планирует увеличить выручку на 10 % и\n",
    "# сократить время одного оборота на 5 дней. Рассчитать коэффициент\n",
    "# оборачиваемости, длительность одного оборота в отчетном году, величину\n",
    "# оборотных средств в обороте в следующем году и величину дополнительного\n",
    "# вовлечения в оборот для обеспечения выручки.\n",
    "\n",
    "# если выручка и длительность оборота меняется -> вычисляем оборотные средства, а после коэф.\n",
    "Ko = 25_000_000 / 5_000_000\n",
    "turnover_duration = 365 / Ko\n",
    "\n",
    "revenue_new = 25_000_000 + (25_000_000 * 0.1)\n",
    "turnover_duration_new = turnover_duration - 5\n",
    "work_cap_new = revenue_new * turnover_duration_new / 365\n",
    "work_cap_new"
   ]
  },
  {
   "cell_type": "code",
   "execution_count": 72,
   "id": "52f4065d",
   "metadata": {},
   "outputs": [
    {
     "data": {
      "text/plain": [
       "(30.41666666666667, 2500000.0)"
      ]
     },
     "execution_count": 72,
     "metadata": {},
     "output_type": "execute_result"
    }
   ],
   "source": [
    "# Выручка предприятия в предыдущем и отчетном году\n",
    "# составила 30 млн руб. Скорость оборота оборотных средств изменилась с 3\n",
    "# оборотов в предыдущем году до 4 оборотов в отчетном. Рассчитать, на\n",
    "# сколько дней изменилась длительность одного оборота и величину\n",
    "# высвобожденных средств из оборота.\n",
    "turnover_duration = 365 / 3\n",
    "turnover_duration_new = 365 / 4\n",
    "work_cap = 30_000_000 / 3\n",
    "work_cap_new = 30_000_000 / 4\n",
    "turnover_duration - turnover_duration_new, work_cap - work_cap_new"
   ]
  },
  {
   "cell_type": "code",
   "execution_count": 76,
   "id": "c03c622e",
   "metadata": {},
   "outputs": [
    {
     "data": {
      "text/plain": [
       "(2.0, 182.5, 0.12)"
      ]
     },
     "execution_count": 76,
     "metadata": {},
     "output_type": "execute_result"
    }
   ],
   "source": [
    "# Годовая выручка предприятия составляет 20 000 000 руб.,\n",
    "# себестоимость проданной продукции за год – 16 000 000 руб. Прочие доходы\n",
    "# предприятия за год – 1 200 000 руб. Прочие расходы предприятия за год –\n",
    "# 4 000 000 руб. Рассчитан коэффициент загрузки оборотных средств, который\n",
    "# составляет 0,5 руб./руб. Рассчитать коэффициент оборачиваемости,\n",
    "# длительность одного оборота, рентабельность оборотного капитала.\n",
    "Ko = 1 / 0.5\n",
    "turnover_duration = 365 / Ko\n",
    "work_cap = 20_000_000 / Ko\n",
    "work_cap_efficiency = (20_000_000 - 16_000_000 + 1_200_000 - 4_000_000) / work_cap\n",
    "Ko, turnover_duration, work_cap_efficiency"
   ]
  },
  {
   "cell_type": "code",
   "execution_count": 87,
   "id": "ad3d3444",
   "metadata": {},
   "outputs": [
    {
     "data": {
      "text/plain": [
       "(2.0, 182.5, 0.5, 0.08)"
      ]
     },
     "execution_count": 87,
     "metadata": {},
     "output_type": "execute_result"
    }
   ],
   "source": [
    "# Задача 4. Выручка предприятия за год составила 33 850 000 руб. Годовая\n",
    "# прибыль от продаж составляет 1 800 000 руб. Прочие доходы предприятия за\n",
    "# год – 1 100 000 руб. Прочие расходы за год – 1 546 000 руб. Данные о\n",
    "# величине имущества предприятия представлены в таблице.\n",
    "\n",
    "# Рассчитать рентабельность оборотного капитала, коэффициент\n",
    "# оборачиваемости, длительность одного оборота и коэффициент загрузки\n",
    "# оборотных средств\n",
    "\n",
    "data = pd.DataFrame({\n",
    "    'beg': (5_200_000, 1_950_000, 750_000, 1_400_000, 1_900_000, 4_900_000),\n",
    "    'end': (4_700_000, 1_750_000, 600_000, 2_100_000, 2_700_000, 5_900_000)},\n",
    "    index=('Запасы сырья и материалов', 'Дебиторская задолженность',\n",
    "           'Финансовые вложения (до 12 мес.)', 'Денежные средства', 'Запасы готовой продукции',\n",
    "           'Незавершенная продукция')\n",
    ")\n",
    "data.index.name = 'parameter'\n",
    "\n",
    "work_cap_efficiency = (1_800_000 + 1_100_000 - 1_546_000) / (data.sum().sum() / 2)\n",
    "Ko = 33_850_000 / (data.sum().sum() / 2)\n",
    "turnover_duration = 365 / Ko\n",
    "Kz = 1 / Ko\n",
    "Ko, turnover_duration, Kz, work_cap_efficiency"
   ]
  },
  {
   "cell_type": "code",
   "execution_count": 115,
   "id": "4f02a336",
   "metadata": {},
   "outputs": [
    {
     "data": {
      "text/html": [
       "<div>\n",
       "<style scoped>\n",
       "    .dataframe tbody tr th:only-of-type {\n",
       "        vertical-align: middle;\n",
       "    }\n",
       "\n",
       "    .dataframe tbody tr th {\n",
       "        vertical-align: top;\n",
       "    }\n",
       "\n",
       "    .dataframe thead th {\n",
       "        text-align: right;\n",
       "    }\n",
       "</style>\n",
       "<table border=\"1\" class=\"dataframe\">\n",
       "  <thead>\n",
       "    <tr style=\"text-align: right;\">\n",
       "      <th></th>\n",
       "      <th>org1</th>\n",
       "      <th>org2</th>\n",
       "    </tr>\n",
       "  </thead>\n",
       "  <tbody>\n",
       "    <tr>\n",
       "      <th>Ko</th>\n",
       "      <td>5.00</td>\n",
       "      <td>5.200000</td>\n",
       "    </tr>\n",
       "    <tr>\n",
       "      <th>turnover_duration</th>\n",
       "      <td>73.00</td>\n",
       "      <td>70.192308</td>\n",
       "    </tr>\n",
       "    <tr>\n",
       "      <th>work_cap_efficiency</th>\n",
       "      <td>0.28</td>\n",
       "      <td>0.300000</td>\n",
       "    </tr>\n",
       "  </tbody>\n",
       "</table>\n",
       "</div>"
      ],
      "text/plain": [
       "                      org1       org2\n",
       "Ko                    5.00   5.200000\n",
       "turnover_duration    73.00  70.192308\n",
       "work_cap_efficiency   0.28   0.300000"
      ]
     },
     "execution_count": 115,
     "metadata": {},
     "output_type": "execute_result"
    }
   ],
   "source": [
    "# Имеются следующие данные по двум торговым предприятиям,\n",
    "# представленные в таблице.\n",
    "# Рассчитать показатели эффективности использования оборотного\n",
    "# капитала по каждому предприятию, сделать вывод.\n",
    "\n",
    "data = pd.DataFrame({\n",
    "    'org1': (1400, 2100, 8750, 490),\n",
    "    'org2': (960, 2050, 7826, 451.5)},\n",
    "    index=('work_cap_beg', 'work_cap_end', 'revenue', 'profit_before_tax')\n",
    ")\n",
    "data.index.name = 'parameter'\n",
    "\n",
    "efficiency = data.copy()\n",
    "efficiency.index = ('Ko', 'turnover_duration', 'work_cap_efficiency', 'del')\n",
    "efficiency = efficiency.drop('del')\n",
    "\n",
    "efficiency.loc['Ko', 'org1'] = data.loc['revenue', 'org1'] / (data.loc[:'work_cap_end'].values[:, 0].sum() / 2)\n",
    "efficiency.loc['Ko', 'org2'] = data.loc['revenue', 'org2'] / (data.loc[:'work_cap_end'].values[:, 1].sum() / 2)\n",
    "efficiency.loc['turnover_duration', 'org1'] = 365 / efficiency.loc['Ko', 'org1']\n",
    "efficiency.loc['turnover_duration', 'org2'] = 365 / efficiency.loc['Ko', 'org2']\n",
    "efficiency.loc['work_cap_efficiency', 'org1'] = data.loc['profit_before_tax', 'org1'] \\\n",
    "                                                / (data.loc[:'work_cap_end'].values[:, 0].sum() / 2)\n",
    "efficiency.loc['work_cap_efficiency', 'org2'] = data.loc['profit_before_tax', 'org2'] \\\n",
    "                                                / (data.loc[:'work_cap_end'].values[:, 1].sum() / 2)\n",
    "\n",
    "\n",
    "efficiency"
   ]
  },
  {
   "cell_type": "code",
   "execution_count": 116,
   "id": "655acdc7",
   "metadata": {},
   "outputs": [
    {
     "name": "stdout",
     "output_type": "stream",
     "text": [
      "min work capital for stock is 780000.0 rub or 2000.0 kg\n"
     ]
    }
   ],
   "source": [
    "# Задача 1. Среднедневное потребление сырья составляет 60 000 руб./день.\n",
    "# Продолжительность интервала между поставками сырья составляет 20 дней.\n",
    "# Страховой запас составляет 30 % от текущего запаса. Цена 1 кг сырья – 390\n",
    "# руб. Рассчитать норматив оборотных средств в производственных запасах в\n",
    "# рублях и килограммах.\n",
    "\n",
    "cur_stock = 0.5 * 20 \n",
    "safe_stock = cur_stock * 0.3\n",
    "norm_stock = cur_stock + safe_stock\n",
    "norm_cap_stock = norm_stock * 60_000\n",
    "print(f'min work capital for stock is {norm_cap_stock} rub or {norm_cap_stock / 390} kg')"
   ]
  },
  {
   "cell_type": "code",
   "execution_count": 119,
   "id": "97e17e84",
   "metadata": {},
   "outputs": [
    {
     "data": {
      "text/plain": [
       "338600.0"
      ]
     },
     "execution_count": 119,
     "metadata": {},
     "output_type": "execute_result"
    }
   ],
   "source": [
    "# За год производится 10 000 изделий. На одно изделие\n",
    "# расходуется основных материалов на сумму 949 руб. Продолжительность\n",
    "# интервала между поставками для основного материала составляет 20 дней.\n",
    "# Продолжительность разгрузки, приемки и складской обработки основного\n",
    "# материала составляет 2 дня. Страховой запас по основному материалу\n",
    "# составляет 10 % от текущего запаса. За год потребляется вспомогательных\n",
    "# материалов на сумму 1 095 000 руб. Норматив запаса для вспомогательных\n",
    "# материалов составляет 8 дней. Рассчитать норматив оборотных средств\n",
    "# в производственных запасах.\n",
    "\n",
    "daily_consumption = 10_000 * 949 / 365\n",
    "cur_stock = 0.5 * (20 + 2)\n",
    "safe_stock = cur_stock * 0.1\n",
    "norm_stock = cur_stock + safe_stock\n",
    "norm_cap_stock = daily_consumption * norm_stock\n",
    "total_norm_cap_stock = norm_cap_stock + (1_095_000 / 365 * 8)\n",
    "total_norm_cap_stock"
   ]
  },
  {
   "cell_type": "code",
   "execution_count": 120,
   "id": "bb5e9df7",
   "metadata": {},
   "outputs": [
    {
     "data": {
      "text/plain": [
       "3171200.0"
      ]
     },
     "execution_count": 120,
     "metadata": {},
     "output_type": "execute_result"
    }
   ],
   "source": [
    "# Задача 5. За год было выпущено 20 002 изделия А. На одно изделие А\n",
    "# расходуется основных материалов на сумму 800 руб. Кроме изделия А, за год было\n",
    "# выпущено 34 894 изделия Б. На одно изделие Б расходуется основных материалов\n",
    "# на сумму 1200 руб. Рассчитать норматив оборотных средств в производственных\n",
    "# запасах, если норматив запаса в днях по основному материалу составляет 20\n",
    "# дней.\n",
    "daily_consumptionA = 20_002 * 800 / 365\n",
    "daily_consumptionB = 34_894 * 1200 / 365\n",
    "norm_cap_stock = 20 * daily_consumptionA + 20 * daily_consumptionB\n",
    "norm_cap_stock"
   ]
  },
  {
   "cell_type": "code",
   "execution_count": 122,
   "id": "3d1f832b",
   "metadata": {},
   "outputs": [
    {
     "name": "stdout",
     "output_type": "stream",
     "text": [
      "norm work capital of stock is 1251720.0 rub\n",
      "norm work capital of stock is 1245450.0 rub\n"
     ]
    }
   ],
   "source": [
    "# За год предприятием изготовлено 40 077 изделий. На одно\n",
    "# изделие расходуется основных материалов на сумму\n",
    "# 950 руб. Норматив запаса по основному материалу составляет\n",
    "# 12 дней. В следующем году предприятие планирует сократить расход\n",
    "# основных материалов на 5 % и увеличить выпуск продукции до 41 975 штук за\n",
    "# счет применения рациональной системы использования материала. Рассчитать\n",
    "# норматив оборотных средств в производственных запасах при заданных\n",
    "# условиях и при изменении нормы расхода материалов.\n",
    "daily_consumption = 40_077 * 950 / 365\n",
    "norm_cap_stock = daily_consumption * 12\n",
    "print(f'norm work capital of stock is {norm_cap_stock} rub')\n",
    "daily_consumption = 41_975 * (950 - (950*0.05)) / 365\n",
    "norm_cap_stock = daily_consumption * 12\n",
    "print(f'norm work capital of stock is {norm_cap_stock} rub')"
   ]
  },
  {
   "cell_type": "code",
   "execution_count": 124,
   "id": "302ec867",
   "metadata": {},
   "outputs": [
    {
     "name": "stdout",
     "output_type": "stream",
     "text": [
      "norm capital of work in progress is 893214.0 rub\n",
      "norm capital of work in progress is 774118.8 rub\n"
     ]
    }
   ],
   "source": [
    "# Полная себестоимость произведенной продукции за год\n",
    "# составляет 34 499 800 руб. Доля сырья в себестоимости – 0,26. Длительность\n",
    "# производственного цикла составляет 15 дней. В результате проведения\n",
    "# модернизации оборудования предприятие планирует сократить длительность\n",
    "# производственного цикла на 2 дня. Рассчитать норматив оборотных средств в\n",
    "# незавершенном производстве при заданных условиях и при изменении\n",
    "# длительности производственного цикла.\n",
    "daily_output = 34_499_800 / 365\n",
    "daily_consumption = 34_499_800 * 0.26 / 365\n",
    "A = daily_consumption / daily_output\n",
    "K_increased_cost = A + (1 - A) / 2\n",
    "norm_cap_wip = daily_output * 15 * K_increased_cost\n",
    "print(f'norm capital of work in progress is {norm_cap_wip} rub')\n",
    "norm_cap_wip = daily_output * 13 * K_increased_cost\n",
    "print(f'norm capital of work in progress is {norm_cap_wip} rub')"
   ]
  },
  {
   "cell_type": "code",
   "execution_count": 126,
   "id": "ce8403fa",
   "metadata": {},
   "outputs": [
    {
     "data": {
      "text/plain": [
       "2570000.0"
      ]
     },
     "execution_count": 126,
     "metadata": {},
     "output_type": "execute_result"
    }
   ],
   "source": [
    "# Величина норматива оборотных средств в производственных\n",
    "# запасах составляет 800 000 руб. Годовой выпуск продукции по полной\n",
    "# себестоимости – 21 900 000 руб. Длительность производственного цикла\n",
    "# составляет 30 дней. Доля сырья в себестоимости – 0,5. Время хранения\n",
    "# готовой продукции на складе (время формирования транспортной партии) – 7\n",
    "# дней. Определить нормируемый оборотный капитал.\n",
    "daily_output = 21_900_000 / 365\n",
    "daily_consumption = 21_900_000 * 0.5 / 365\n",
    "A = daily_consumption / daily_output\n",
    "K_increased_cost = A + (1 - A) / 2\n",
    "norm_cap_wip = daily_output * 30 * K_increased_cost\n",
    "norm_cap_goods = daily_output * 7\n",
    "norm_work_cap = 800_000 + norm_cap_wip + norm_cap_goods\n",
    "norm_work_cap"
   ]
  },
  {
   "cell_type": "code",
   "execution_count": 128,
   "id": "e6154cda",
   "metadata": {},
   "outputs": [
    {
     "data": {
      "text/plain": [
       "(1860000.0, 11.0)"
      ]
     },
     "execution_count": 128,
     "metadata": {},
     "output_type": "execute_result"
    }
   ],
   "source": [
    "# Задача 13. Величина норматива оборотных средств в производственных\n",
    "# запасах составляет 560 000 руб. Годовой выпуск продукции по полной\n",
    "# себестоимости составляет 18 980 000 руб. Длительность производственного\n",
    "# цикла составляет 28 дней. Доля сырья в себестоимости – 0,5. Время хранения\n",
    "# готовой продукции на складе (время формирования транспортной партии) – 4\n",
    "# дня. Годовая выручка от продаж составляет 20 460 000 руб. Определить\n",
    "# нормируемый оборотный капитал и коэффициент оборачиваемости\n",
    "\n",
    "daily_output = 18_980_000 / 365\n",
    "daily_consumption = 18_980_000 * 0.5 / 365\n",
    "A = daily_consumption / daily_output\n",
    "K_increased_cost = A + (1 - A) / 2\n",
    "norm_cap_wip = daily_output * K_increased_cost * 28\n",
    "norm_cap_goods = 4 * daily_output\n",
    "norm_work_cap = 560_000 + norm_cap_wip + norm_cap_goods\n",
    "ratio_turnover = 20_460_000 / norm_work_cap\n",
    "norm_work_cap, ratio_turnover"
   ]
  },
  {
   "cell_type": "code",
   "execution_count": 5,
   "id": "cc94679c",
   "metadata": {},
   "outputs": [
    {
     "data": {
      "text/plain": [
       "660000.0"
      ]
     },
     "execution_count": 5,
     "metadata": {},
     "output_type": "execute_result"
    }
   ],
   "source": [
    "#  Планируется продать товаров по розничным ценам магазина за\n",
    "# год на сумму 16 863 000 руб. Уровень торговой наценки составляет 40 %.\n",
    "# Время нахождения товара в запасе – 20 дней. Рассчитать нормируемый\n",
    "# оборотный капитал, связанный в товарных запасах.\n",
    "\n",
    "# наценка = (revenue - expenses) / expenses, т.е. равна рентабельности затрат\n",
    "total_expenses = 16_863_000 / 1.4\n",
    "daily_consumption =  total_expenses / 365\n",
    "norm_cap_stock = daily_consumption * 20\n",
    "norm_cap_stock"
   ]
  }
 ],
 "metadata": {
  "kernelspec": {
   "display_name": "Python 3 (ipykernel)",
   "language": "python",
   "name": "python3"
  },
  "language_info": {
   "codemirror_mode": {
    "name": "ipython",
    "version": 3
   },
   "file_extension": ".py",
   "mimetype": "text/x-python",
   "name": "python",
   "nbconvert_exporter": "python",
   "pygments_lexer": "ipython3",
   "version": "3.11.2"
  }
 },
 "nbformat": 4,
 "nbformat_minor": 5
}
