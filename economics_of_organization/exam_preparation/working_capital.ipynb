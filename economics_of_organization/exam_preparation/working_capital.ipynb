{
 "cells": [
  {
   "cell_type": "code",
   "execution_count": 2,
   "id": "6c616d68",
   "metadata": {},
   "outputs": [
    {
     "data": {
      "text/plain": [
       "31100000.0"
      ]
     },
     "execution_count": 2,
     "metadata": {},
     "output_type": "execute_result"
    }
   ],
   "source": [
    "# Определить среднюю стоимость оборотного капитала за год на\n",
    "# основе исходной информации, которая представлена в таблице\n",
    "import pandas as pd\n",
    "import numpy as np\n",
    "\n",
    "d = {\n",
    "    'investments': (7_000_000, 6_000_000),\n",
    "    'stock': (10_200_000, 10_000_000),\n",
    "    'money': (5_000_000, 6_000_000),\n",
    "    'receivables': (8_000_000, 10_000_000)\n",
    "}\n",
    "beg = map(lambda x: x[0], d.values())\n",
    "end = map(lambda x: x[1], d.values())\n",
    "\n",
    "data = pd.DataFrame({\n",
    "    'beg': beg,\n",
    "    'end': end},\n",
    "    index=d.keys()\n",
    ")\n",
    "average_assets = (data.beg.sum() + data.end.sum()) / 2\n",
    "average_assets"
   ]
  },
  {
   "cell_type": "code",
   "execution_count": 10,
   "id": "0fc467b8",
   "metadata": {},
   "outputs": [
    {
     "data": {
      "text/html": [
       "<div>\n",
       "<style scoped>\n",
       "    .dataframe tbody tr th:only-of-type {\n",
       "        vertical-align: middle;\n",
       "    }\n",
       "\n",
       "    .dataframe tbody tr th {\n",
       "        vertical-align: top;\n",
       "    }\n",
       "\n",
       "    .dataframe thead th {\n",
       "        text-align: right;\n",
       "    }\n",
       "</style>\n",
       "<table border=\"1\" class=\"dataframe\">\n",
       "  <thead>\n",
       "    <tr style=\"text-align: right;\">\n",
       "      <th></th>\n",
       "      <th>beg</th>\n",
       "      <th>end</th>\n",
       "    </tr>\n",
       "  </thead>\n",
       "  <tbody>\n",
       "    <tr>\n",
       "      <th>absolute_liq</th>\n",
       "      <td>0.359579</td>\n",
       "      <td>0.406743</td>\n",
       "    </tr>\n",
       "    <tr>\n",
       "      <th>intermidiate_liq</th>\n",
       "      <td>0.939454</td>\n",
       "      <td>1.227881</td>\n",
       "    </tr>\n",
       "    <tr>\n",
       "      <th>common_liq</th>\n",
       "      <td>1.775725</td>\n",
       "      <td>3.015065</td>\n",
       "    </tr>\n",
       "  </tbody>\n",
       "</table>\n",
       "</div>"
      ],
      "text/plain": [
       "                       beg       end\n",
       "absolute_liq      0.359579  0.406743\n",
       "intermidiate_liq  0.939454  1.227881\n",
       "common_liq        1.775725  3.015065"
      ]
     },
     "execution_count": 10,
     "metadata": {},
     "output_type": "execute_result"
    }
   ],
   "source": [
    "# Рассчитать коэффициенты ликвидности на основе исходной\n",
    "# информации, представленной в таблице.\n",
    "\n",
    "data = pd.DataFrame({\n",
    "    'beg': (2_942_000, 2_040_000, 206_000, 1_059_000, 6_247_000, 3_518_000),\n",
    "    'end': (3_737_000, 1_717_000, 17_500, 833_000, 6_304_500, 2_091_000)},\n",
    "    index=('stock', 'receivables', 'investments', 'money', 'total', 'cur_liabilities')\n",
    ")\n",
    "\n",
    "liquidity = pd.DataFrame({\n",
    "    'beg': (np.NaN for _ in range(3)),\n",
    "    'end': (np.NaN for _ in range(3))},\n",
    "    index=('absolute_liq', 'intermidiate_liq', 'common_liq')\n",
    ")\n",
    "# K aбс ликв = (ДС + ФВ) / КО, К промеж ликв = (ДС+ФВ+ДЗ)/КО, К тек,общ ликв = об активы / КО\n",
    "liquidity.loc['absolute_liq'] = (\n",
    "    (data.loc['money', 'beg'] + data.loc['investments', 'beg']) / data.loc['cur_liabilities', 'beg'],\n",
    "    (data.loc['money', 'end'] + data.loc['investments', 'end']) / data.loc['cur_liabilities', 'end']\n",
    ")\n",
    "liquidity.loc['intermidiate_liq'] = (\n",
    "    (data.loc['money', 'beg'] + data.loc['investments', 'beg'] + data.loc['receivables', 'beg']) / data.loc['cur_liabilities', 'beg'],\n",
    "    (data.loc['money', 'end'] + data.loc['investments', 'end'] + data.loc['receivables', 'end']) / data.loc['cur_liabilities', 'end']\n",
    ")\n",
    "liquidity.loc['common_liq'] = (data.loc['total', 'beg'] / data.loc['cur_liabilities', 'beg'],\n",
    "                              data.loc['total', 'end'] / data.loc['cur_liabilities', 'end'])\n",
    "\n",
    "liquidity"
   ]
  },
  {
   "cell_type": "code",
   "execution_count": 27,
   "id": "0067b29e",
   "metadata": {},
   "outputs": [
    {
     "data": {
      "text/html": [
       "<div>\n",
       "<style scoped>\n",
       "    .dataframe tbody tr th:only-of-type {\n",
       "        vertical-align: middle;\n",
       "    }\n",
       "\n",
       "    .dataframe tbody tr th {\n",
       "        vertical-align: top;\n",
       "    }\n",
       "\n",
       "    .dataframe thead th {\n",
       "        text-align: right;\n",
       "    }\n",
       "</style>\n",
       "<table border=\"1\" class=\"dataframe\">\n",
       "  <thead>\n",
       "    <tr style=\"text-align: right;\">\n",
       "      <th></th>\n",
       "      <th>beg</th>\n",
       "      <th>end</th>\n",
       "    </tr>\n",
       "  </thead>\n",
       "  <tbody>\n",
       "    <tr>\n",
       "      <th>absolute_liq</th>\n",
       "      <td>24.0</td>\n",
       "      <td>14.0</td>\n",
       "    </tr>\n",
       "    <tr>\n",
       "      <th>fast_liq</th>\n",
       "      <td>39.0</td>\n",
       "      <td>27.0</td>\n",
       "    </tr>\n",
       "    <tr>\n",
       "      <th>slow_liq</th>\n",
       "      <td>37.0</td>\n",
       "      <td>59.0</td>\n",
       "    </tr>\n",
       "    <tr>\n",
       "      <th>total</th>\n",
       "      <td>100.0</td>\n",
       "      <td>100.0</td>\n",
       "    </tr>\n",
       "  </tbody>\n",
       "</table>\n",
       "</div>"
      ],
      "text/plain": [
       "                beg    end\n",
       "absolute_liq   24.0   14.0\n",
       "fast_liq       39.0   27.0\n",
       "slow_liq       37.0   59.0\n",
       "total         100.0  100.0"
      ]
     },
     "execution_count": 27,
     "metadata": {},
     "output_type": "execute_result"
    }
   ],
   "source": [
    "# Рассчитать структуру оборотного капитала по степени\n",
    "# ликвидности, на основе исходной информации, представленной в таблице\n",
    "\n",
    "data = pd.DataFrame({\n",
    "    'beg': (1_887_000, 1_989_000, 800_000, 424_000, 5_100_000),\n",
    "    'end': (3_719_360, 1_702_080, 49_560, 833_000, 6_304_000)},\n",
    "    index=('stock', 'receivables', 'investments', 'money', 'total')\n",
    ")\n",
    "\n",
    "liquidity = pd.DataFrame({\n",
    "    'beg': (np.NaN for _ in range(3)),\n",
    "    'end': (np.NaN for _ in range(3))},\n",
    "    index=('absolute_liq', 'fast_liq', 'slow_liq')\n",
    ")\n",
    "liquidity.loc['absolute_liq'] = (\n",
    "    (data.loc['investments', 'beg'] + data.loc['money', 'beg']) / data['beg'][:-1].sum() * 100,\n",
    "    (data.loc['investments', 'end'] + data.loc['money', 'end']) / data['end'][:-1].sum() * 100,\n",
    ")\n",
    "liquidity.loc['fast_liq'] = (\n",
    "    data.loc['receivables', 'beg'] / data['beg'][:-1].sum() * 100,\n",
    "    data.loc['receivables', 'end'] / data['end'][:-1].sum() * 100,\n",
    ")\n",
    "liquidity.loc['slow_liq'] = (\n",
    "    data.loc['stock', 'beg'] / data['beg'][:-1].sum() * 100,\n",
    "    data.loc['stock', 'end'] / data['end'][:-1].sum() * 100,\n",
    ")\n",
    "liquidity.loc['total'] = (liquidity['beg'].sum(), liquidity['end'].sum())\n",
    "liquidity"
   ]
  }
 ],
 "metadata": {
  "kernelspec": {
   "display_name": "Python 3 (ipykernel)",
   "language": "python",
   "name": "python3"
  },
  "language_info": {
   "codemirror_mode": {
    "name": "ipython",
    "version": 3
   },
   "file_extension": ".py",
   "mimetype": "text/x-python",
   "name": "python",
   "nbconvert_exporter": "python",
   "pygments_lexer": "ipython3",
   "version": "3.11.2"
  }
 },
 "nbformat": 4,
 "nbformat_minor": 5
}
