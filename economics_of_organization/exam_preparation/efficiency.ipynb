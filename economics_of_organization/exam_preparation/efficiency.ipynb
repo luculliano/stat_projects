{
 "cells": [
  {
   "cell_type": "code",
   "execution_count": 2,
   "id": "778f4906",
   "metadata": {},
   "outputs": [
    {
     "name": "stdout",
     "output_type": "stream",
     "text": [
      "0.08333333333333333 rub of profit in 1 rub of revenue\n",
      "0.09090909090909091 rub of profit applies by 1 rub of expenses\n",
      "we get 0.11428571428571428 rub of profit from 1 rub deposited in assets\n"
     ]
    }
   ],
   "source": [
    "# Задача 1. За год предприятием было продано 40 000 штук по цене 150\n",
    "# руб. Себестоимость проданной продукции за год составила 5 000 000 руб.\n",
    "# Коммерческие расходы, связанные с продажей продукции, составили 500 000\n",
    "# руб. Величина прочих доходов составила 600 000 руб., а прочих расходов –\n",
    "# 300 000 руб. Активы (имущество) предприятия составляют 7 000 000 руб.\n",
    "# Рассчитать рентабельность продаж, затрат, активов.\n",
    "\n",
    "import pandas as pd\n",
    "import numpy as np\n",
    "\n",
    "revenue = 40_000 * 150\n",
    "profit = revenue - 5_000_000 - 500_000\n",
    "profit_before_tax = profit + 600_000 - 300_000\n",
    "efficincy_sale = profit / revenue\n",
    "efficincy_cost = profit / (5_000_000 + 500_000)\n",
    "efficincy_assets = profit_before_tax / 7_000_000\n",
    "print(f'{efficincy_sale} rub of profit in 1 rub of revenue')\n",
    "print(f'{efficincy_cost} rub of profit applies by 1 rub of expenses')\n",
    "print(f'we get {efficincy_assets} rub of profit from 1 rub deposited in assets')"
   ]
  },
  {
   "cell_type": "code",
   "execution_count": 4,
   "id": "d73dd777",
   "metadata": {},
   "outputs": [
    {
     "name": "stdout",
     "output_type": "stream",
     "text": [
      "0.16 rub of profit in 1 rub of revenue\n",
      "0.18 rub of profit applies by 1 rub of expenses\n",
      "we get 0.62 rub of profit before tax from 1 rub deposited in main assets\n",
      "we get 0.42 rub of profit before tax from 1 rub deposited in work assets\n"
     ]
    }
   ],
   "source": [
    "# Задача 2. За год предприятием было продано 45 000 штук по цене 100\n",
    "# руб. Себестоимость проданной продукции за год составила 2 000 000 руб.\n",
    "# Коммерческие расходы, связанные с продажей продукции, составили 1 800\n",
    "# 000 руб. Величина прочих доходов составила 1 800 000 руб., а прочих расходов\n",
    "# – 900 000 руб. Рентабельность активов составляет 25 %. На оборотные активы\n",
    "# приходится 60 % от общей стоимости имущества предприятия. Рассчитать\n",
    "# рентабельность продаж, затрат, основного капитала, оборотного капитала\n",
    "revenue = 45_000 * 100\n",
    "expenses = 2_000_000 + 1_800_000\n",
    "profit = revenue - expenses\n",
    "profit_before_tax = profit + 1_800_000 - 900_000\n",
    "assets = profit_before_tax / 0.25\n",
    "work_assets = 0.6 * assets\n",
    "main_assets = assets - work_assets\n",
    "print(f'{round(profit / revenue, 2)} rub of profit in 1 rub of revenue')\n",
    "print(f'{round(profit / expenses, 2)} rub of profit applies by 1 rub of expenses')\n",
    "print(f'we get {round(profit_before_tax / main_assets, 2)} rub of profit before tax from 1 rub deposited in main assets')\n",
    "print(f'we get {round(profit_before_tax / work_assets, 2)} rub of profit before tax from 1 rub deposited in work assets')"
   ]
  },
  {
   "cell_type": "code",
   "execution_count": 28,
   "id": "78e3229e",
   "metadata": {
    "scrolled": true
   },
   "outputs": [
    {
     "data": {
      "text/html": [
       "<div>\n",
       "<style scoped>\n",
       "    .dataframe tbody tr th:only-of-type {\n",
       "        vertical-align: middle;\n",
       "    }\n",
       "\n",
       "    .dataframe tbody tr th {\n",
       "        vertical-align: top;\n",
       "    }\n",
       "\n",
       "    .dataframe thead th {\n",
       "        text-align: right;\n",
       "    }\n",
       "</style>\n",
       "<table border=\"1\" class=\"dataframe\">\n",
       "  <thead>\n",
       "    <tr style=\"text-align: right;\">\n",
       "      <th></th>\n",
       "      <th>unit</th>\n",
       "      <th>1 year</th>\n",
       "      <th>2 year</th>\n",
       "      <th>3 year</th>\n",
       "    </tr>\n",
       "  </thead>\n",
       "  <tbody>\n",
       "    <tr>\n",
       "      <th>efficiency_sale</th>\n",
       "      <td>%</td>\n",
       "      <td>10.71</td>\n",
       "      <td>11.58</td>\n",
       "      <td>12.76</td>\n",
       "    </tr>\n",
       "    <tr>\n",
       "      <th>efficiency_cost</th>\n",
       "      <td>%</td>\n",
       "      <td>12.00</td>\n",
       "      <td>13.10</td>\n",
       "      <td>14.62</td>\n",
       "    </tr>\n",
       "    <tr>\n",
       "      <th>efficiency_assets</th>\n",
       "      <td>%</td>\n",
       "      <td>11.48</td>\n",
       "      <td>10.05</td>\n",
       "      <td>13.14</td>\n",
       "    </tr>\n",
       "    <tr>\n",
       "      <th>efficiency_main_assets</th>\n",
       "      <td>%</td>\n",
       "      <td>18.92</td>\n",
       "      <td>16.74</td>\n",
       "      <td>21.98</td>\n",
       "    </tr>\n",
       "    <tr>\n",
       "      <th>efficiency_work_assets</th>\n",
       "      <td>%</td>\n",
       "      <td>29.17</td>\n",
       "      <td>25.12</td>\n",
       "      <td>32.64</td>\n",
       "    </tr>\n",
       "  </tbody>\n",
       "</table>\n",
       "</div>"
      ],
      "text/plain": [
       "                       unit  1 year  2 year  3 year\n",
       "efficiency_sale           %   10.71   11.58   12.76\n",
       "efficiency_cost           %   12.00   13.10   14.62\n",
       "efficiency_assets         %   11.48   10.05   13.14\n",
       "efficiency_main_assets    %   18.92   16.74   21.98\n",
       "efficiency_work_assets    %   29.17   25.12   32.64"
      ]
     },
     "execution_count": 28,
     "metadata": {},
     "output_type": "execute_result"
    }
   ],
   "source": [
    "# Задача 5. На основе исходных данных, представленных в таблице,\n",
    "# рассчитать рентабельность продаж, затрат, активов, основного и оборотного\n",
    "# капитала по годам.\n",
    "\n",
    "data = pd.DataFrame({\n",
    "    'unit': ('amount', *('rub' for _ in range(5))),\n",
    "    '1 year': (10_000, 2500, 2800, 500_000, 18_500_000, 12_000_000),\n",
    "    '2 year': (10_500, 2_520, 2850, -200_000, 19_500_000, 13_000_000),\n",
    "    '3 year': (10_200, 2530, 2_900, 600_000, 19_900_000, 13_400_000)},\n",
    "    index=('quantity', 'expenses', 'price', 'other_profit', 'av_main_assets', 'min_work_assets')\n",
    ")\n",
    "\n",
    "efficiency = pd.DataFrame({\n",
    "    'unit': ('%' for _ in range(5)),\n",
    "    '1 year': (np.nan for _ in range(5)),\n",
    "    '2 year': (np.nan for _ in range(5)),\n",
    "    '3 year': (np.nan for _ in range(5))\n",
    "},\n",
    "    index=('efficiency_sale', 'efficiency_cost', 'efficiency_assets', 'efficiency_main_assets',\n",
    "          'efficiency_work_assets')\n",
    ")\n",
    "\n",
    "for year in efficiency.columns[1:]:\n",
    "    revenue = data.loc['quantity', year] * data.loc['price', year]\n",
    "    expenses = data.loc['expenses', year] * data.loc['quantity', year]\n",
    "    profit = revenue - expenses\n",
    "    profit_before_tax = profit + data.loc['other_profit', year]\n",
    "    efficiency.loc['efficiency_sale', year] = round(profit / revenue * 100, 2)\n",
    "    efficiency.loc['efficiency_cost', year] = round(profit / expenses * 100, 2)\n",
    "    efficiency.loc['efficiency_assets', year] = round(\n",
    "        profit_before_tax / data.loc['av_main_assets':'min_work_assets', year].sum() * 100, 2\n",
    "    )\n",
    "    efficiency.loc['efficiency_main_assets', year] = round(\n",
    "        profit_before_tax / data.loc['av_main_assets', year] * 100, 2\n",
    "    )\n",
    "    efficiency.loc['efficiency_work_assets', year] = round(\n",
    "        profit_before_tax / data.loc['min_work_assets', year] * 100, 2\n",
    "    )\n",
    "efficiency"
   ]
  }
 ],
 "metadata": {
  "kernelspec": {
   "display_name": "Python 3 (ipykernel)",
   "language": "python",
   "name": "python3"
  },
  "language_info": {
   "codemirror_mode": {
    "name": "ipython",
    "version": 3
   },
   "file_extension": ".py",
   "mimetype": "text/x-python",
   "name": "python",
   "nbconvert_exporter": "python",
   "pygments_lexer": "ipython3",
   "version": "3.11.2"
  }
 },
 "nbformat": 4,
 "nbformat_minor": 5
}
