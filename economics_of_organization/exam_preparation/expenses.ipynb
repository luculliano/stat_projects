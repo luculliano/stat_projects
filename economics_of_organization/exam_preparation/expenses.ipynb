{
 "cells": [
  {
   "cell_type": "code",
   "execution_count": 1,
   "id": "d4074587",
   "metadata": {},
   "outputs": [
    {
     "data": {
      "text/plain": [
       "670.0"
      ]
     },
     "execution_count": 1,
     "metadata": {},
     "output_type": "execute_result"
    }
   ],
   "source": [
    "# Задача 1. На заводе производят три товара: велосипедные рамы, колеса и\n",
    "# рули. На каждую раму расходуется легированной стали на сумму – 300 руб.,\n",
    "# краски – 40 руб. Основная заработная плата основных рабочих на одну раму\n",
    "# – 100 руб. Страховые взносы – 30 %. Цеховые расходы за год – 2000 тыс.\n",
    "# руб., заводские расходы по предприятию за год – 1600 тыс. руб. Базой\n",
    "# распределения косвенных затрат выступает основная заработная плата\n",
    "# основных рабочих, которая за год составила 1800 тыс. руб. Рассчитать\n",
    "# полную себестоимость одной велосипедной рамы\n",
    "\n",
    "import pandas as pd\n",
    "import numpy as np\n",
    "\n",
    "# сдельная зп, взносы на зп, материальные затраты\n",
    "dir_costA = 100 + 100 * 0.3 + 300 + 40\n",
    "\n",
    "# РСЭО (Амортизация), цеховые (общепроизводственные), заводские (общехозяйственные), внепроизводственные\n",
    "indir_cost_ratio = (2_000_000 + 1_600_000) / 1_800_000\n",
    "indir_cost = indir_cost_ratio * 100\n",
    "\n",
    "expensesA = dir_costA + indir_cost\n",
    "expensesA"
   ]
  },
  {
   "cell_type": "code",
   "execution_count": 2,
   "id": "6637a3d1",
   "metadata": {},
   "outputs": [
    {
     "data": {
      "text/plain": [
       "2343.3300000000004"
      ]
     },
     "execution_count": 2,
     "metadata": {},
     "output_type": "execute_result"
    }
   ],
   "source": [
    "# Задача 2. На заводе производят три товара: велосипедные рамы, колеса и\n",
    "# рули. На каждую раму расходуется легированной стали на сумму – 500 руб.,\n",
    "# краски – 50 руб. Основная заработная плата основных рабочих на одну раму\n",
    "# – 200 руб. Страховые взносы – 30 %. Цеховые расходы за год – 16 940 тыс.\n",
    "# руб., заводские расходы по предприятию за год – 18 920 тыс. руб. Базой\n",
    "# распределения косвенных затрат выступают прямые затраты, которые за год\n",
    "# составили 22 000 тыс. руб. Внепроизводственные расходы составляют 10%\n",
    "# от заводской себестоимости. Рассчитать полную себестоимость одной\n",
    "# велосипедной рамы.\n",
    "\n",
    "dir_costA = 200 + 200 * 0.3 + 500 + 50\n",
    "shop_costA = 16_940_000 / 22_000_000 * dir_costA\n",
    "factory_costA = 18_920_000 / 22_000_000 * dir_costA\n",
    "factory_expensesA = dir_costA + shop_costA + factory_costA\n",
    "commerce_costA = factory_expensesA * 0.1\n",
    "expensesA = factory_expensesA + commerce_costA\n",
    "expensesA"
   ]
  },
  {
   "cell_type": "code",
   "execution_count": 3,
   "id": "4757989d",
   "metadata": {},
   "outputs": [
    {
     "name": "stdout",
     "output_type": "stream",
     "text": [
      "avc=700.0, afc=300.0\n",
      "avc=700.0, afc=312.5\n"
     ]
    }
   ],
   "source": [
    "# Задача 3. Совокупные затраты на производство и продажу продукции за\n",
    "# месяц составляют 4 000 000 руб. при объеме 4000 штук. Доля переменных затрат\n",
    "# в совокупных затратах составляет 70 %. Рассчитать величину удельных\n",
    "# постоянных и удельных переменных затрат. Определить, сколько составят\n",
    "# удельные постоянные и удельные переменные затраты, если объем сократится\n",
    "# на 4 %.\n",
    "\n",
    "# var_cost: сдел зп, взносы на нее, мат. затраты. Т.е. == прямым.\n",
    "# fixed_cost: косвенные\n",
    "\n",
    "expensesA = 4_000_000 / 4_000\n",
    "variable_costA = expensesA * 0.7\n",
    "fixed_costA = expensesA - variable_costA\n",
    "print(f'avc={variable_costA}, afc={fixed_costA}')\n",
    "expensesA = 4_000_000 / (4_000 - (4_000 * 0.04))\n",
    "fixed_costA = expensesA * 0.3\n",
    "print(f'avc={variable_costA}, afc={fixed_costA}')"
   ]
  },
  {
   "cell_type": "code",
   "execution_count": 4,
   "id": "4cbaf93d",
   "metadata": {
    "scrolled": true
   },
   "outputs": [
    {
     "name": "stdout",
     "output_type": "stream",
     "text": [
      "profit limit is 3567123.2876712335 rub\n",
      "profit limit stock is -767123.2876712335 rub\n",
      "need to increase revenue on 27.4%\n"
     ]
    }
   ],
   "source": [
    "# За период продано продукции на сумму 2 800 000 руб., постоянные\n",
    "# затраты – 1 395 000 руб., их доля в себестоимости – 45 %. Рассчитать порог\n",
    "# рентабельности, запас финансовой прочности в рублях.\n",
    "total_cost = 1_395_000 * 100 / 45\n",
    "variable_cost = total_cost * 0.55\n",
    "margin_ratio = (2_800_000 - variable_cost) / 2_800_000\n",
    "profit_limit = 1_395_000 / margin_ratio\n",
    "profit_limit_stock = 2_800_000 - profit_limit\n",
    "print(f'profit limit is {profit_limit} rub')\n",
    "print(f'profit limit stock is {profit_limit_stock} rub')\n",
    "print(f'need to increase revenue on {abs(round(profit_limit_stock / 2_800_000 * 100, 2))}%')"
   ]
  },
  {
   "cell_type": "code",
   "execution_count": 5,
   "id": "5ad0bcb4",
   "metadata": {
    "scrolled": true
   },
   "outputs": [
    {
     "name": "stdout",
     "output_type": "stream",
     "text": [
      "margin is 0.55, so 0.55 rub of profit in 1 rub of revenue\n",
      "trade margin is 33.33, so 0.33 rub of profit applies to 1 rub of expenses\n",
      "we earn nothing when revenue is 10909090.91 rub\n",
      "we can decrease revenue by 45.45% to not be loss-making\n",
      "profit changes by 2.2% when revenue changes by 1%\n"
     ]
    }
   ],
   "source": [
    "# Предприятие продает единицу продукции по цене 2000 руб.\n",
    "# Величина совокупных затрат предприятия составляет 15 000 000 руб.\n",
    "# Постоянные затраты составляют 40 % от совокупных затрат предприятия.\n",
    "# Удельные переменные затраты составляют 900 руб. Рассчитать порог\n",
    "# рентабельности, запас финансовой прочности в рублях, запас финансовой\n",
    "# прочности в процентах, операционный рычаг.\n",
    "\n",
    "fixed_cost = 15_000_000 * 0.4\n",
    "variable_cost = 15_000_000 - fixed_cost\n",
    "quantity = variable_cost / 900\n",
    "revenue = 2000 * quantity\n",
    "margin_ratio = (revenue - variable_cost) / revenue\n",
    "profit_limit = fixed_cost / margin_ratio\n",
    "profit_limit_stock = revenue - profit_limit\n",
    "leverage = margin_ratio * revenue / (revenue - 15_000_000)\n",
    "print(f'margin is {round(margin_ratio, 2)}, so {round(margin_ratio, 2)} rub of profit in 1 rub of revenue')\n",
    "print(f'trade margin is {round((revenue - 15_000_000) / 15_000_000 * 100, 2)}, so '\n",
    "      f'{round((revenue - 15_000_000) / 15_000_000, 2)} rub of profit applies to 1 rub of expenses'\n",
    ")\n",
    "print(f'we earn nothing when revenue is {round(profit_limit, 2)} rub')\n",
    "print(f'we can decrease revenue by {round(profit_limit_stock / revenue * 100, 2)}% to not be loss-making')\n",
    "print(f'profit changes by {round(leverage, 2)}% when revenue changes by 1%')"
   ]
  },
  {
   "cell_type": "code",
   "execution_count": 6,
   "id": "78eff653",
   "metadata": {
    "scrolled": true
   },
   "outputs": [
    {
     "name": "stdout",
     "output_type": "stream",
     "text": [
      "                        summ_rub\n",
      "cost_item                       \n",
      "main_fabric             35000000\n",
      "addit_fabric             1850000\n",
      "oil_energy               1560000\n",
      "salary_workers           6300000\n",
      "amortization_builds     23000000\n",
      "amortization_equipment  14500000\n",
      "semifabric               2200000\n",
      "other_cost               6500000\n",
      "salary_managers          5500000\n",
      "                   summ_rub\n",
      "material_cost    40610000.0\n",
      "salary_workers   12430000.0\n",
      "salary_funds      3753860.0\n",
      "amortization     37500000.0\n",
      "other             6500000.0\n",
      "total           100793860.0\n"
     ]
    },
    {
     "data": {
      "text/plain": [
       "<matplotlib.legend.Legend at 0x2784e745ad0>"
      ]
     },
     "execution_count": 6,
     "metadata": {},
     "output_type": "execute_result"
    },
    {
     "data": {
      "image/png": "[encoded data removed]",
      "text/plain": [
       "<Figure size 500x600 with 1 Axes>"
      ]
     },
     "metadata": {},
     "output_type": "display_data"
    }
   ],
   "source": [
    "# Задача 1. Известна следующая информация о затратах предприятия за\n",
    "# год, представленная в таблице\n",
    "# Дополнительная заработная плата основных рабочих – 10 % от основной.\n",
    "# Страховые взносы – 30,2 %. Составить смету затрат на производство на\n",
    "# основе исходных данных.\n",
    "\n",
    "data = pd.DataFrame({\n",
    "    'summ_rub': (35_000_000, 1_850_000, 1_560_000, 6_300_000, 23_000_000, \n",
    "                 14_500_000, 2_200_000, 6_500_000, 5_500_000)},\n",
    "    index=('main_fabric', 'addit_fabric', 'oil_energy', 'salary_workers', 'amortization_builds', \n",
    "          'amortization_equipment', 'semifabric', 'other_cost', 'salary_managers')\n",
    ")\n",
    "data.index.name = 'cost_item'\n",
    "\n",
    "salary_cost = data.loc['salary_workers', 'summ_rub'] + data.loc['salary_workers', 'summ_rub'] * 0.1 + \\\n",
    "                        data.loc['salary_managers', 'summ_rub']\n",
    "prod_cost = pd.DataFrame({\n",
    "    'summ_rub': (data.loc[:'oil_energy'].sum().sum() + data.loc['semifabric', 'summ_rub'],\n",
    "            salary_cost,\n",
    "            salary_cost * 0.302,\n",
    "            data.loc['amortization_builds':'amortization_equipment'].sum().sum(),\n",
    "            data.loc['other_cost', 'summ_rub'],\n",
    "            np.NaN)},\n",
    "    index=('material_cost', 'salary_workers', 'salary_funds', 'amortization', 'other', 'total')\n",
    ")\n",
    "prod_cost.loc['total'] = prod_cost.sum()\n",
    "print(data)\n",
    "print(prod_cost)\n",
    "# prod_cost = round(prod_cost.loc[:'other'] / prod_cost.loc['total', 'summ_rub'] * 100, 3)\n",
    "# prod_cost.loc['total'] = prod_cost.sum()\n",
    "# print(prod_cost)\n",
    "\n",
    "import matplotlib.pyplot as plt\n",
    "from matplotlib.pyplot import get_cmap\n",
    "\n",
    "fig, ax = plt.subplots(figsize=(5, 6))\n",
    "cmap = get_cmap('tab20c')  # https://matplotlib.org/stable/tutorials/colors/colormaps.html\n",
    "colors = cmap(np.linspace(0, 1, len(prod_cost) - 1))\n",
    "ax.pie(prod_cost.loc[:'other', 'summ_rub'], labels=prod_cost.index[:-1], \n",
    "       explode=[0.02 for _ in range(len(prod_cost) - 1)], autopct='%1.1f%%', startangle=90,\n",
    "       colors=colors, pctdistance=0.7, textprops={'fontsize': 10})\n",
    "plt.legend(title=\"Cost items\", loc=\"best\", bbox_to_anchor=(1, 1.1)) "
   ]
  },
  {
   "cell_type": "code",
   "execution_count": 14,
   "id": "990d7957",
   "metadata": {},
   "outputs": [
    {
     "data": {
      "text/html": [
       "<div>\n",
       "<style scoped>\n",
       "    .dataframe tbody tr th:only-of-type {\n",
       "        vertical-align: middle;\n",
       "    }\n",
       "\n",
       "    .dataframe tbody tr th {\n",
       "        vertical-align: top;\n",
       "    }\n",
       "\n",
       "    .dataframe thead th {\n",
       "        text-align: right;\n",
       "    }\n",
       "</style>\n",
       "<table border=\"1\" class=\"dataframe\">\n",
       "  <thead>\n",
       "    <tr style=\"text-align: right;\">\n",
       "      <th></th>\n",
       "      <th>sum_rub</th>\n",
       "    </tr>\n",
       "    <tr>\n",
       "      <th>cost_item</th>\n",
       "      <th></th>\n",
       "    </tr>\n",
       "  </thead>\n",
       "  <tbody>\n",
       "    <tr>\n",
       "      <th>mater_cost</th>\n",
       "      <td>270.0</td>\n",
       "    </tr>\n",
       "    <tr>\n",
       "      <th>salary_cost</th>\n",
       "      <td>100.0</td>\n",
       "    </tr>\n",
       "    <tr>\n",
       "      <th>salary_fund</th>\n",
       "      <td>30.0</td>\n",
       "    </tr>\n",
       "    <tr>\n",
       "      <th>shop_cost</th>\n",
       "      <td>130.0</td>\n",
       "    </tr>\n",
       "    <tr>\n",
       "      <th>shop_expenses</th>\n",
       "      <td>530.0</td>\n",
       "    </tr>\n",
       "    <tr>\n",
       "      <th>prod_cost</th>\n",
       "      <td>80.0</td>\n",
       "    </tr>\n",
       "    <tr>\n",
       "      <th>prod_expenses</th>\n",
       "      <td>610.0</td>\n",
       "    </tr>\n",
       "    <tr>\n",
       "      <th>commerce_cost</th>\n",
       "      <td>2.4</td>\n",
       "    </tr>\n",
       "    <tr>\n",
       "      <th>total_expenses</th>\n",
       "      <td>612.4</td>\n",
       "    </tr>\n",
       "  </tbody>\n",
       "</table>\n",
       "</div>"
      ],
      "text/plain": [
       "                sum_rub\n",
       "cost_item              \n",
       "mater_cost        270.0\n",
       "salary_cost       100.0\n",
       "salary_fund        30.0\n",
       "shop_cost         130.0\n",
       "shop_expenses     530.0\n",
       "prod_cost          80.0\n",
       "prod_expenses     610.0\n",
       "commerce_cost       2.4\n",
       "total_expenses    612.4"
      ]
     },
     "execution_count": 14,
     "metadata": {},
     "output_type": "execute_result"
    }
   ],
   "source": [
    "# Известно, что на каждую единицу продукции расходуется\n",
    "# материалов на сумму 270 руб. Сумма основной заработной платы основных\n",
    "# рабочих на единицу продукции составляет 100 руб. Отчисления с заработной\n",
    "# платы (страховые взносы) составляют 30 %. Коэффициент цеховых\n",
    "# (общепроизводственных) расходов равен 1,3 руб./руб., коэффициент\n",
    "# заводских (общехозяйственных) расходов равен 0,8 руб./руб. Базой\n",
    "# распределения цеховых и заводских расходов является основная (сдельная)\n",
    "# заработная плата основных рабочих. Внепроизводственные (коммерческие)\n",
    "# расходы составляют 3 % от заводской себестоимости. Рассчитать полную\n",
    "# себестоимость единицы продукции, составить калькуляцию\n",
    "calculation = pd.DataFrame(\n",
    "    [np.NaN]*9,\n",
    "    columns=['sum_rub'],\n",
    "    index=('mater_cost', 'salary_cost', 'salary_fund', 'shop_cost', 'shop_expenses', 'prod_cost', \n",
    "          'prod_expenses', 'commerce_cost', 'total_expenses')\n",
    ")\n",
    "calculation.index.name = 'cost_item'\n",
    "\n",
    "calculation.sum_rub.mater_cost = 270\n",
    "calculation.sum_rub.salary_cost = 100\n",
    "calculation.sum_rub.salary_fund = 100 * 0.3\n",
    "calculation.sum_rub.shop_cost = 1.3 * 100\n",
    "calculation.sum_rub.shop_expenses = calculation.loc[:'shop_cost'].sum().sum()\n",
    "calculation.sum_rub.prod_cost = 0.8 * 100\n",
    "calculation.sum_rub.prod_expenses = calculation.sum_rub.prod_cost + calculation.sum_rub.shop_expenses\n",
    "calculation.sum_rub.commerce_cost = calculation.sum_rub.prod_cost * 0.03\n",
    "calculation.sum_rub.total_expenses = calculation.sum_rub.prod_expenses + calculation.sum_rub.commerce_cost\n",
    "\n",
    "calculation"
   ]
  },
  {
   "cell_type": "code",
   "execution_count": 15,
   "id": "2f8501ef",
   "metadata": {
    "scrolled": true
   },
   "outputs": [
    {
     "data": {
      "text/html": [
       "<div>\n",
       "<style scoped>\n",
       "    .dataframe tbody tr th:only-of-type {\n",
       "        vertical-align: middle;\n",
       "    }\n",
       "\n",
       "    .dataframe tbody tr th {\n",
       "        vertical-align: top;\n",
       "    }\n",
       "\n",
       "    .dataframe thead th {\n",
       "        text-align: right;\n",
       "    }\n",
       "</style>\n",
       "<table border=\"1\" class=\"dataframe\">\n",
       "  <thead>\n",
       "    <tr style=\"text-align: right;\">\n",
       "      <th></th>\n",
       "      <th>sum_rub</th>\n",
       "    </tr>\n",
       "    <tr>\n",
       "      <th>cost_item</th>\n",
       "      <th></th>\n",
       "    </tr>\n",
       "  </thead>\n",
       "  <tbody>\n",
       "    <tr>\n",
       "      <th>mater_cost</th>\n",
       "      <td>200.0</td>\n",
       "    </tr>\n",
       "    <tr>\n",
       "      <th>salary_cost</th>\n",
       "      <td>100.0</td>\n",
       "    </tr>\n",
       "    <tr>\n",
       "      <th>salary_fund</th>\n",
       "      <td>30.0</td>\n",
       "    </tr>\n",
       "    <tr>\n",
       "      <th>shop_cost</th>\n",
       "      <td>495.0</td>\n",
       "    </tr>\n",
       "    <tr>\n",
       "      <th>shop_expenses</th>\n",
       "      <td>825.0</td>\n",
       "    </tr>\n",
       "    <tr>\n",
       "      <th>prod_cost</th>\n",
       "      <td>231.0</td>\n",
       "    </tr>\n",
       "    <tr>\n",
       "      <th>prod_expenses</th>\n",
       "      <td>1056.0</td>\n",
       "    </tr>\n",
       "    <tr>\n",
       "      <th>total_expenses</th>\n",
       "      <td>1056.0</td>\n",
       "    </tr>\n",
       "  </tbody>\n",
       "</table>\n",
       "</div>"
      ],
      "text/plain": [
       "                sum_rub\n",
       "cost_item              \n",
       "mater_cost        200.0\n",
       "salary_cost       100.0\n",
       "salary_fund        30.0\n",
       "shop_cost         495.0\n",
       "shop_expenses     825.0\n",
       "prod_cost         231.0\n",
       "prod_expenses    1056.0\n",
       "total_expenses   1056.0"
      ]
     },
     "execution_count": 15,
     "metadata": {},
     "output_type": "execute_result"
    }
   ],
   "source": [
    "# На каждую единицу продукции расходуется материалов на\n",
    "# сумму 200 руб. Основная заработная плата основных рабочих на единицу\n",
    "# продукции – 100 руб. Страховые взносы – 30 %. Коэффициент цеховых\n",
    "# (общепроизводственных) расходов равен 1,5 руб./руб., коэффициент заводских\n",
    "# (общехозяйственных) расходов – 0,7 руб./руб. Цеховые\n",
    "# (общепроизводственные) и заводские (общехозяйственные) расходы\n",
    "# распределяются пропорционально прямым затратам. Рассчитать полную\n",
    "# себестоимость единицы продукции, составить калькуляцию.\n",
    "calculation = calculation.copy()\n",
    "calculation = calculation.drop('commerce_cost')\n",
    "\n",
    "calculation.sum_rub.mater_cost = 200\n",
    "calculation.sum_rub.salary_cost = 100\n",
    "calculation.sum_rub.salary_fund = 100 * 0.3\n",
    "calculation.sum_rub.shop_cost = 1.5 * calculation.sum_rub[:3].sum()\n",
    "calculation.sum_rub.shop_expenses = calculation.loc[:'shop_cost'].sum().sum()\n",
    "calculation.sum_rub.prod_cost = 0.7 * calculation.sum_rub[:3].sum()\n",
    "calculation.sum_rub.prod_expenses = calculation.sum_rub.prod_cost + calculation.sum_rub.shop_expenses\n",
    "calculation.sum_rub.total_expenses = calculation.sum_rub.prod_expenses\n",
    "calculation"
   ]
  },
  {
   "cell_type": "code",
   "execution_count": 16,
   "id": "cc10404a",
   "metadata": {},
   "outputs": [
    {
     "data": {
      "text/html": [
       "<div>\n",
       "<style scoped>\n",
       "    .dataframe tbody tr th:only-of-type {\n",
       "        vertical-align: middle;\n",
       "    }\n",
       "\n",
       "    .dataframe tbody tr th {\n",
       "        vertical-align: top;\n",
       "    }\n",
       "\n",
       "    .dataframe thead th {\n",
       "        text-align: right;\n",
       "    }\n",
       "</style>\n",
       "<table border=\"1\" class=\"dataframe\">\n",
       "  <thead>\n",
       "    <tr style=\"text-align: right;\">\n",
       "      <th></th>\n",
       "      <th>sum_rub</th>\n",
       "    </tr>\n",
       "    <tr>\n",
       "      <th>cost_item</th>\n",
       "      <th></th>\n",
       "    </tr>\n",
       "  </thead>\n",
       "  <tbody>\n",
       "    <tr>\n",
       "      <th>mater_cost</th>\n",
       "      <td>320.00</td>\n",
       "    </tr>\n",
       "    <tr>\n",
       "      <th>salary_cost</th>\n",
       "      <td>150.00</td>\n",
       "    </tr>\n",
       "    <tr>\n",
       "      <th>salary_fund</th>\n",
       "      <td>45.00</td>\n",
       "    </tr>\n",
       "    <tr>\n",
       "      <th>shop_cost</th>\n",
       "      <td>309.00</td>\n",
       "    </tr>\n",
       "    <tr>\n",
       "      <th>shop_expenses</th>\n",
       "      <td>824.00</td>\n",
       "    </tr>\n",
       "    <tr>\n",
       "      <th>prod_cost</th>\n",
       "      <td>721.00</td>\n",
       "    </tr>\n",
       "    <tr>\n",
       "      <th>prod_expenses</th>\n",
       "      <td>1545.00</td>\n",
       "    </tr>\n",
       "    <tr>\n",
       "      <th>commerce_cost</th>\n",
       "      <td>77.25</td>\n",
       "    </tr>\n",
       "    <tr>\n",
       "      <th>total_expenses</th>\n",
       "      <td>1622.25</td>\n",
       "    </tr>\n",
       "  </tbody>\n",
       "</table>\n",
       "</div>"
      ],
      "text/plain": [
       "                sum_rub\n",
       "cost_item              \n",
       "mater_cost       320.00\n",
       "salary_cost      150.00\n",
       "salary_fund       45.00\n",
       "shop_cost        309.00\n",
       "shop_expenses    824.00\n",
       "prod_cost        721.00\n",
       "prod_expenses   1545.00\n",
       "commerce_cost     77.25\n",
       "total_expenses  1622.25"
      ]
     },
     "execution_count": 16,
     "metadata": {},
     "output_type": "execute_result"
    }
   ],
   "source": [
    "# Задача 4. На каждую единицу продукции расходуется материалов на\n",
    "# сумму 320 руб. Сумма основной заработной платы основных рабочих на\n",
    "# единицу продукции составляет 150 руб. Отчисления с заработной платы\n",
    "# (страховые взносы) составляют 30 %. Коэффициент общепроизводственных\n",
    "# (цеховых) расходов равен 0,6 руб./руб., коэффициент общехозяйственных\n",
    "# (заводских) расходов – 1,4 руб./руб. Косвенные затраты\n",
    "# (общепроизводственные и общехозяйственные) распределяются\n",
    "# пропорционально прямым затратам. Внепроизводственные (коммерческие)\n",
    "# расходы составляют 5 % от заводской себестоимости. Рассчитать полную\n",
    "# себестоимость единицы продукции, составить калькуляцию\n",
    "calculation = calculation.copy()[:-1]\n",
    "calculation.loc['commerce_cost'] = np.NaN\n",
    "calculation.loc['total_expenses'] = np.NaN\n",
    "\n",
    "calculation.sum_rub.mater_cost = 320\n",
    "calculation.sum_rub.salary_cost = 150\n",
    "calculation.sum_rub.salary_fund = 150 * 0.3\n",
    "calculation.sum_rub.shop_cost = 0.6 * calculation.sum_rub[:3].sum()\n",
    "calculation.sum_rub.shop_expenses = calculation.loc[:'shop_cost'].sum().sum()\n",
    "calculation.sum_rub.prod_cost = 1.4 * calculation.sum_rub[:3].sum()\n",
    "calculation.sum_rub.prod_expenses = calculation.sum_rub.prod_cost + calculation.sum_rub.shop_expenses\n",
    "calculation.sum_rub.commerce_cost = calculation.sum_rub.prod_expenses * 0.05\n",
    "calculation.sum_rub.total_expenses = calculation.sum_rub.commerce_cost + calculation.sum_rub.prod_expenses\n",
    "calculation"
   ]
  },
  {
   "cell_type": "code",
   "execution_count": 17,
   "id": "7c4fa2e5",
   "metadata": {},
   "outputs": [
    {
     "data": {
      "text/html": [
       "<div>\n",
       "<style scoped>\n",
       "    .dataframe tbody tr th:only-of-type {\n",
       "        vertical-align: middle;\n",
       "    }\n",
       "\n",
       "    .dataframe tbody tr th {\n",
       "        vertical-align: top;\n",
       "    }\n",
       "\n",
       "    .dataframe thead th {\n",
       "        text-align: right;\n",
       "    }\n",
       "</style>\n",
       "<table border=\"1\" class=\"dataframe\">\n",
       "  <thead>\n",
       "    <tr style=\"text-align: right;\">\n",
       "      <th></th>\n",
       "      <th>sum_rub</th>\n",
       "    </tr>\n",
       "    <tr>\n",
       "      <th>cost_item</th>\n",
       "      <th></th>\n",
       "    </tr>\n",
       "  </thead>\n",
       "  <tbody>\n",
       "    <tr>\n",
       "      <th>mater_cost</th>\n",
       "      <td>280.0</td>\n",
       "    </tr>\n",
       "    <tr>\n",
       "      <th>salary_cost</th>\n",
       "      <td>100.0</td>\n",
       "    </tr>\n",
       "    <tr>\n",
       "      <th>salary_fund</th>\n",
       "      <td>30.0</td>\n",
       "    </tr>\n",
       "    <tr>\n",
       "      <th>shop_cost</th>\n",
       "      <td>120.0</td>\n",
       "    </tr>\n",
       "    <tr>\n",
       "      <th>shop_expenses</th>\n",
       "      <td>530.0</td>\n",
       "    </tr>\n",
       "    <tr>\n",
       "      <th>prod_cost</th>\n",
       "      <td>90.0</td>\n",
       "    </tr>\n",
       "    <tr>\n",
       "      <th>prod_expenses</th>\n",
       "      <td>620.0</td>\n",
       "    </tr>\n",
       "    <tr>\n",
       "      <th>commerce_cost</th>\n",
       "      <td>31.0</td>\n",
       "    </tr>\n",
       "    <tr>\n",
       "      <th>total_expenses</th>\n",
       "      <td>651.0</td>\n",
       "    </tr>\n",
       "  </tbody>\n",
       "</table>\n",
       "</div>"
      ],
      "text/plain": [
       "                sum_rub\n",
       "cost_item              \n",
       "mater_cost        280.0\n",
       "salary_cost       100.0\n",
       "salary_fund        30.0\n",
       "shop_cost         120.0\n",
       "shop_expenses     530.0\n",
       "prod_cost          90.0\n",
       "prod_expenses     620.0\n",
       "commerce_cost      31.0\n",
       "total_expenses    651.0"
      ]
     },
     "execution_count": 17,
     "metadata": {},
     "output_type": "execute_result"
    }
   ],
   "source": [
    "# На каждую единицу продукции расходуется материалов на\n",
    "# сумму 280 руб. Основная заработная плата основных рабочих на единицу\n",
    "# продукции – 100 руб. Страховые взносы (отчисления с заработной платы)\n",
    "# составляют 30 %. Коэффициент общепроизводственных (цеховых) расходов\n",
    "# равен 1,2 руб./руб., коэффициент общехозяйственных (заводских) расходов –\n",
    "# 0,9 руб./руб. Общепроизводственные (цеховые) и общехозяйственные\n",
    "# (заводские) расходы распределяются пропорционально основной заработной\n",
    "# плате основных рабочих. Внепроизводственные (коммерческие) расходы\n",
    "# составляют 5 % от заводской себестоимости. Рассчитать полную\n",
    "# себестоимость единицы продукции.\n",
    "\n",
    "calculation = pd.DataFrame(\n",
    "    [np.NaN]*9,\n",
    "    columns=['sum_rub'],\n",
    "    index=('mater_cost', 'salary_cost', 'salary_fund', 'shop_cost', 'shop_expenses', 'prod_cost', \n",
    "          'prod_expenses', 'commerce_cost', 'total_expenses')\n",
    ")\n",
    "calculation.index.name = 'cost_item'\n",
    "\n",
    "calculation.sum_rub.mater_cost = 280\n",
    "calculation.sum_rub.salary_cost = 100\n",
    "calculation.sum_rub.salary_fund = 100 * 0.3\n",
    "calculation.sum_rub.shop_cost = 1.2 * 100\n",
    "calculation.sum_rub.shop_expenses = calculation.loc[:'shop_cost'].sum().sum()\n",
    "calculation.sum_rub.prod_cost = 0.9 * 100\n",
    "calculation.sum_rub.prod_expenses = calculation.sum_rub.prod_cost + calculation.sum_rub.shop_expenses\n",
    "calculation.sum_rub.commerce_cost = calculation.sum_rub.prod_expenses * 0.05\n",
    "calculation.sum_rub.total_expenses = calculation.sum_rub.prod_expenses + calculation.sum_rub.commerce_cost\n",
    "\n",
    "calculation"
   ]
  },
  {
   "cell_type": "code",
   "execution_count": 28,
   "id": "42c5db8b",
   "metadata": {
    "scrolled": true
   },
   "outputs": [
    {
     "data": {
      "text/plain": [
       "3593.9399999999996"
      ]
     },
     "execution_count": 28,
     "metadata": {},
     "output_type": "execute_result"
    }
   ],
   "source": [
    "# Задача 2. На заводе производят три товара: велосипедные рамы, колеса и\n",
    "# рули. На каждую раму расходуется основных материалов на сумму 500 руб.,\n",
    "# вспомогательных материалов – 100 руб., покупных полуфабрикатов – 70 руб.\n",
    "# Сумма основной заработной платы основных рабочих на одну раму составляет\n",
    "# 300 руб. Дополнительная заработная плата основных рабочих составляет 10 %\n",
    "# от основной заработной платы. Страховые взносы – 30 % (начисляются на\n",
    "# основную и дополнительную заработную плату).\n",
    "# Расходы на содержание и эксплуатацию оборудования – 1498 тыс. руб.,\n",
    "# цеховые расходы – 3192 тыс. руб., заводские расходы – 3840 тыс. руб.\n",
    "# Расходы на содержание и эксплуатацию оборудования (РСЭО), цеховые\n",
    "# (общепроизводственные) расходы распределяются пропорционально\n",
    "# основной зарплате основных рабочих, заводские (общехозяйственные)\n",
    "# расходы пропорционально прямым затратам.\n",
    "# Основная зарплата основных рабочих по предприятию – 1400 тыс. руб.,\n",
    "# прямые затраты по предприятию – 3200 тыс. руб. Внепроизводственные\n",
    "# (коммерческие) расходы составляют 5 % от заводской себестоимости.\n",
    "# Рассчитать полную себестоимость одной рамы.\n",
    "\n",
    "dir_costA = 500 + 100 + 70 + 300 + 300 * 0.1 + (300 * 0.1 + 300) * 0.3\n",
    "\n",
    "amortization_costA = 1_498_000 / 1_400_000 * 300\n",
    "shop_costA = 3_192_000 / 1_400_000 * 300\n",
    "prod_costA = 3_840_000 / 3_200_000 * dir_costA\n",
    "prod_expensesA = prod_costA + shop_costA + amortization_costA + dir_costA\n",
    "commerce_costA = 0.05 * prod_expensesA\n",
    "total_expenses = prod_expensesA + commerce_costA\n",
    "total_expenses"
   ]
  },
  {
   "cell_type": "code",
   "execution_count": 26,
   "id": "859d5bc9",
   "metadata": {},
   "outputs": [
    {
     "data": {
      "text/plain": [
       "1781.9"
      ]
     },
     "execution_count": 26,
     "metadata": {},
     "output_type": "execute_result"
    }
   ],
   "source": [
    "# адача 4. Цеховая себестоимость единицы продукции составляет 1290\n",
    "# руб. Известно, что сдельная заработная плата (основная) основных рабочих\n",
    "# составляет 220 руб. Общехозяйственные (заводские) расходы распределяются\n",
    "# пропорционально сдельной заработной плате основных рабочих. Рассчитан\n",
    "# коэффициент общехозяйственных (заводских) расходов, который составил\n",
    "# 2 руб./руб. Внепроизводственные расходы – 3 % от заводской себестоимости.\n",
    "# Рассчитать полную себестоимость единицы продукции\n",
    "\n",
    "prod_costA = 2 * 220\n",
    "prod_expensesA = 1290 + prod_costA\n",
    "total_expenses = prod_expensesA + prod_expensesA * 0.03\n",
    "total_expenses"
   ]
  },
  {
   "cell_type": "code",
   "execution_count": 29,
   "id": "b44fb0f5",
   "metadata": {},
   "outputs": [
    {
     "data": {
      "text/plain": [
       "980000.0"
      ]
     },
     "execution_count": 29,
     "metadata": {},
     "output_type": "execute_result"
    }
   ],
   "source": [
    "# Задача 2. Величина постоянных затрат составляет 500 000 руб. в месяц,\n",
    "# сумма удельных переменных затрат – 400 руб. В текущем месяце было\n",
    "# произведено и продано 1500 штук. Рассчитать величину совокупных затрат\n",
    "# предприятия в следующем месяце, если объем производства снизится на\n",
    "# 20 %.\n",
    "\n",
    "variable_cost = 400 * (1500 - 1500 * 0.2)\n",
    "total_cost = 500_000 + variable_cost\n",
    "total_cost"
   ]
  },
  {
   "cell_type": "code",
   "execution_count": 30,
   "id": "77b8e507",
   "metadata": {},
   "outputs": [
    {
     "name": "stdout",
     "output_type": "stream",
     "text": [
      "900000\n",
      "860000.0\n"
     ]
    }
   ],
   "source": [
    "# Задача 4. Величина постоянных затрат составляет 500 000 руб. в месяц,\n",
    "# сумма удельных переменных затрат – 400 руб. В текущем месяце было\n",
    "# произведено и продано 1000 штук. Определить величину совокупных затрат\n",
    "# в текущем месяце. Рассчитать величину совокупных затрат предприятия в\n",
    "# следующем месяце, если объем производства снизится на 10 %.\n",
    "# Ответ: ТС = 900 000 руб., ТС' = 860 000 руб.\n",
    "\n",
    "total_cost = 400 * 1000 + 500_000\n",
    "print(total_cost)\n",
    "total_cost = 400 * (1000 - 1000 * 0.1) + 500_000\n",
    "print(total_cost)"
   ]
  },
  {
   "cell_type": "code",
   "execution_count": 31,
   "id": "0ad7cdfd",
   "metadata": {},
   "outputs": [
    {
     "name": "stdout",
     "output_type": "stream",
     "text": [
      "700000 1000.0\n",
      "720000 909.0909090909091\n"
     ]
    }
   ],
   "source": [
    "# Задача 5. Величина постоянных затрат составляет 500 000 руб. в месяц,\n",
    "# сумма удельных переменных затрат – 400 руб. В январе было произведено и\n",
    "# продано 500 штук. В феврале объем производства и продаж был увеличен до\n",
    "# 550 штук. Рассчитать величину совокупных затрат в январе и феврале, а\n",
    "# также удельные постоянные затраты в январе и феврале.\n",
    "# Ответ: ТСянварь = 700 000 руб., ТСфевраль = 720 000 руб., АFСянварь = 1 000\n",
    "# руб., АFСфевраль = 909,09 руб\n",
    "\n",
    "# AFC = FC / Q\n",
    "total_cost = 400 * 500 + 500_000\n",
    "print(total_cost, 500_000/500)\n",
    "total_cost = 400 * 550 + 500_000\n",
    "print(total_cost, 500_000/550)"
   ]
  },
  {
   "cell_type": "code",
   "execution_count": 36,
   "id": "38d80ef9",
   "metadata": {},
   "outputs": [
    {
     "name": "stdout",
     "output_type": "stream",
     "text": [
      "1 540000\n",
      "2 654000.0\n",
      "3 768000.0\n",
      "4 198000.0\n"
     ]
    }
   ],
   "source": [
    "# Задача 7. Предприятие производит и продает 10 000 единиц изделия А в\n",
    "# месяц. Совокупные затраты в месяц составили 1 000 000 руб. Известно, что\n",
    "# постоянные затраты составляют 600 000 руб. Цена единицы товара – 154 руб.\n",
    "# Рассчитать величину прибыли от продаж:\n",
    "# 1) на основе исходных данных;\n",
    "# 2) если объем производства и продаж увеличится на 10 %;\n",
    "# 3) если объем производства и продаж увеличится на 20 %;\n",
    "# 4) если объем производства и продаж сократится на 30 %.\n",
    "# Ответ: 1) ПР = 540 000 руб.; 2) ПР = 654 000 руб.; 3) ПР =\n",
    "# = 768 000 руб.; 4) ПР = 198 000 руб\n",
    "profit = 10_000 * 154 - 1_000_000\n",
    "print(1, profit)\n",
    "\n",
    "variable_costA = 400_000 / 10_000\n",
    "variable_cost = variable_costA * (10_000 + 10_000 * 0.1)\n",
    "profit = (10_000 + 10_000 * 0.1) * 154 - (variable_cost + 600_000)\n",
    "print(2, profit)\n",
    "\n",
    "variable_costA = 400_000 / 10_000\n",
    "variable_cost = variable_costA * (10_000 + 10_000 * 0.2)\n",
    "profit = (10_000 + 10_000 * 0.2) * 154 - (variable_cost + 600_000)\n",
    "print(3, profit)\n",
    "\n",
    "variable_costA = 400_000 / 10_000\n",
    "variable_cost = variable_costA * (10_000 - 10_000 * 0.3)\n",
    "profit = (10_000 - 10_000 * 0.3) * 154 - (variable_cost + 600_000)\n",
    "print(4, profit)"
   ]
  },
  {
   "cell_type": "code",
   "execution_count": 51,
   "id": "6c74a618",
   "metadata": {},
   "outputs": [
    {
     "name": "stdout",
     "output_type": "stream",
     "text": [
      "200.0 300.0\n",
      "190.47619047619048 300.0\n"
     ]
    }
   ],
   "source": [
    "# Задача 9. Совокупные затраты на производство и продажу продукции за\n",
    "# месяц составляют 5 000 000 руб. при объеме 10 000 штук. На постоянные затраты\n",
    "# приходится 40 % от совокупных затрат. Рассчитать величину удельных\n",
    "# постоянных и удельных переменных затрат. Определить, сколько составят\n",
    "# удельные постоянные и удельные переменные затраты, если объем увеличится\n",
    "# на 5 %.\n",
    "total_costA = 5_000_000 / 10_000\n",
    "fixed_costA = 5_000_000 * 0.4 / 10_000\n",
    "variable_costA = 5_000_000 * 0.6 / 10_000\n",
    "print(fixed_costA, variable_costA)\n",
    "total_cost = total_costA * (10_000 + (10_000*0.05))\n",
    "fixed_costA = 5_000_000 * 0.4 / (10_000 + (10_000*0.05))\n",
    "print(fixed_costA, variable_costA)"
   ]
  },
  {
   "cell_type": "code",
   "execution_count": 3,
   "id": "57d6ac63",
   "metadata": {},
   "outputs": [
    {
     "name": "stdout",
     "output_type": "stream",
     "text": [
      "9000.0\n",
      "8100.0\n"
     ]
    }
   ],
   "source": [
    "# Задача 2. Величина постоянных затрат составляет 720 000 руб. в квартал,\n",
    "# сумма удельных переменных затрат – 300 руб. Предприятие продает каждую\n",
    "# единицу продукции по цене 380 руб. Рассчитать точку безубыточности при\n",
    "# заданных условиях и при снижении постоянных затрат на 10 %.\n",
    "\n",
    "# точка без-и = объем пр-ва, когда выручка - полн. с = 0\n",
    "nonprofit_limit = 720_000 / (380 - 300)\n",
    "print(nonprofit_limit)\n",
    "nonprofit_limit = (720_000 - (720_000*0.1)) / (380 - 300)\n",
    "print(nonprofit_limit)"
   ]
  },
  {
   "cell_type": "code",
   "execution_count": 6,
   "id": "8d75f881",
   "metadata": {},
   "outputs": [
    {
     "name": "stdout",
     "output_type": "stream",
     "text": [
      "650.0 amount\n",
      "690.0 amount\n"
     ]
    }
   ],
   "source": [
    "# Задача 4. Торговое предприятие реализует продукцию по цене 500 руб.,\n",
    "# закупая каждую единицу у поставщиков за 270 руб. Совокупные постоянные\n",
    "# затраты (оклады сотрудников с отчислениями, арендные платежи) за январь\n",
    "# составляют 149 500 руб. Однако с февраля арендодатель поднимает арендную\n",
    "# плату, что приведет к увеличению постоянных затрат до 158 700 руб.\n",
    "# Рассчитать точку безубыточности в январе и феврале\n",
    "nonprofit_limit = 149_500 / (500 - 270)\n",
    "print(nonprofit_limit, 'amount')\n",
    "nonprofit_limit = 158_700 / (500 - 270)\n",
    "print(nonprofit_limit, 'amount')"
   ]
  },
  {
   "cell_type": "code",
   "execution_count": 8,
   "id": "f678ce12",
   "metadata": {},
   "outputs": [
    {
     "name": "stdout",
     "output_type": "stream",
     "text": [
      "we can reduce revenue by 50.0% to not be loss-making\n",
      "profit changes by 2.0% when revenue changes by 1%\n"
     ]
    }
   ],
   "source": [
    "# Задача 2. За месяц выручка предприятия составила\n",
    "# 5 000 000 руб. Величина постоянных затрат составляет 1 500 000 руб. за\n",
    "# рассматриваемый период, сумма переменных затрат –\n",
    "# 2 000 000 руб. Рассчитать запас финансовой прочности в процентах и\n",
    "# операционный рычаг.\n",
    "\n",
    "margin_ratio = (5_000_000 - 2_000_000) / 5_000_000\n",
    "efficiency_limit = 1_500_000 / margin_ratio\n",
    "efficiency_limit_stock = (5_000_000 - efficiency_limit) / 5_000_000\n",
    "leverage = margin_ratio * 5_000_000 / (5_000_000 - 1_500_000 - 2_000_000)\n",
    "print(f'we can reduce revenue by {round(efficiency_limit_stock*100, 2)}% to not be loss-making')\n",
    "print(f'profit changes by {round(leverage, 2)}% when revenue changes by 1%')"
   ]
  },
  {
   "cell_type": "code",
   "execution_count": 10,
   "id": "bd43e714",
   "metadata": {},
   "outputs": [
    {
     "name": "stdout",
     "output_type": "stream",
     "text": [
      "we have no profit when revenue is 3400000.0 rub, we can reduce revenue by 15.0% or 600000.0 rub to not be loss-making\n",
      "profit changes by 6.67% when revenue changes by 1%\n"
     ]
    }
   ],
   "source": [
    "# Задача 4. Величина постоянных затрат за период составила 1 700 000\n",
    "# руб., переменных затрат – 2 000 000 руб. Выручка предприятия за период –\n",
    "# 4 000 000 руб. Рассчитать порог рентабельности, запас финансовой\n",
    "# прочности в рублях, запас финансовой прочности в процентах,\n",
    "# операционный рычаг.\n",
    "margin_ratio = (4_000_000 - 2_000_000) / 4_000_000\n",
    "efficiency_limit = 1_700_000 / margin_ratio\n",
    "efficiency_limit_stock = 4_000_000 - efficiency_limit\n",
    "leverage = margin_ratio * 4_000_000 / (4_000_000 - 1_700_000 - 2_000_000)\n",
    "print(f'we have no profit when revenue is {efficiency_limit} rub, we can reduce revenue by '\n",
    "      f'{round(efficiency_limit_stock/4_000_000*100, 2)}% or {efficiency_limit_stock} rub to not be loss-making')\n",
    "print(f'profit changes by {round(leverage, 2)}% when revenue changes by 1%')"
   ]
  },
  {
   "cell_type": "code",
   "execution_count": 26,
   "id": "0ebd10ff",
   "metadata": {},
   "outputs": [
    {
     "name": "stdout",
     "output_type": "stream",
     "text": [
      "we have no profit when revenue is 3240430.6987399766 rub, we can reduce revenue by 60.98% or 5063569.301260023 rub to not be loss-making\n",
      "profit changes by 1.64% when revenue changes by 1%\n",
      "if revenue increase on 10% profit increse on 16.4%\n",
      "if revenue decrease on 5% profit will decrese on 8.2% and become 2932092.0 rub\n"
     ]
    }
   ],
   "source": [
    "# Задача 6. Выручка – 8304 тыс. руб., полная себестоимость – 5110 тыс.\n",
    "# руб. Переменные затраты составляют 60 % от полной себестоимости.\n",
    "# Задание:\n",
    "# 1) рассчитать порог рентабельности, запас финансовой прочности в\n",
    "# рублях, запас финансовой прочности в процентах, операционный рычаг;\n",
    "# 2) что произойдет с прибылью, если: выручка увеличится на 10 %?\n",
    "# Выручка снизится на 5 %?\n",
    "margin_ratio = (8_304_000 - 5_110_000*0.6) / 8_304_000\n",
    "efficiency_limit = (5_110_000-5_110_000*0.6) / margin_ratio\n",
    "efficiency_limit_stock = 8_304_000 - efficiency_limit\n",
    "leverage = margin_ratio * 8_304_000 / (8_304_000 - 5_110_000)\n",
    "print(f'we have no profit when revenue is {efficiency_limit} rub, we can reduce revenue by '\n",
    "      f'{round(efficiency_limit_stock/8_304_000*100, 2)}% or {efficiency_limit_stock} rub to not be loss-making')\n",
    "print(f'profit changes by {round(leverage, 2)}% when revenue changes by 1%')\n",
    "print(f'if revenue increase on 10% profit increse on {round(leverage*10, 2)}%')\n",
    "print(f'if revenue decrease on 5% profit will decrese on {round(leverage*5, 2)}% and '\n",
    "     f'become {(8_304_000-5_110_000) - (8_304_000-5_110_000)*0.082} rub')"
   ]
  },
  {
   "cell_type": "code",
   "execution_count": 40,
   "id": "56fb13e3",
   "metadata": {},
   "outputs": [
    {
     "data": {
      "text/plain": [
       "(10523076.923076922, 4676923.076923078)"
      ]
     },
     "execution_count": 40,
     "metadata": {},
     "output_type": "execute_result"
    }
   ],
   "source": [
    "# Задача 7. Предприятие продает единицу продукции по цене 3800 руб.\n",
    "# Величина совокупных затрат предприятия составляет\n",
    "# 12 000 000 руб. Переменные затраты составляют 40 % от совокупных затрат\n",
    "# предприятия. Удельные переменные затраты составляют 1200 руб. Рассчитать\n",
    "# порог рентабельности, запас финансовой прочности в рублях, запас\n",
    "# финансовой прочности в процентах.\n",
    "\n",
    "varable_cost = 12_000_000 * 0.4\n",
    "fixed_cost = 12_000_000 - varable_cost\n",
    "quantity = varable_cost / 1_200\n",
    "\n",
    "revenue = quantity * 3_800\n",
    "margin_ratio = (revenue - varable_cost) / revenue\n",
    "efficiency_limit = fixed_cost / margin_ratio\n",
    "efficiency_limit, revenue - efficiency_limit"
   ]
  }
 ],
 "metadata": {
  "kernelspec": {
   "display_name": "Python 3 (ipykernel)",
   "language": "python",
   "name": "python3"
  },
  "language_info": {
   "codemirror_mode": {
    "name": "ipython",
    "version": 3
   },
   "file_extension": ".py",
   "mimetype": "text/x-python",
   "name": "python",
   "nbconvert_exporter": "python",
   "pygments_lexer": "ipython3",
   "version": "3.11.2"
  }
 },
 "nbformat": 4,
 "nbformat_minor": 5
}
