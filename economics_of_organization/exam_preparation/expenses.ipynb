{
 "cells": [
  {
   "cell_type": "code",
   "execution_count": 17,
   "id": "d4074587",
   "metadata": {},
   "outputs": [
    {
     "data": {
      "text/plain": [
       "670.0"
      ]
     },
     "execution_count": 17,
     "metadata": {},
     "output_type": "execute_result"
    }
   ],
   "source": [
    "# Задача 1. На заводе производят три товара: велосипедные рамы, колеса и\n",
    "# рули. На каждую раму расходуется легированной стали на сумму – 300 руб.,\n",
    "# краски – 40 руб. Основная заработная плата основных рабочих на одну раму\n",
    "# – 100 руб. Страховые взносы – 30 %. Цеховые расходы за год – 2000 тыс.\n",
    "# руб., заводские расходы по предприятию за год – 1600 тыс. руб. Базой\n",
    "# распределения косвенных затрат выступает основная заработная плата\n",
    "# основных рабочих, которая за год составила 1800 тыс. руб. Рассчитать\n",
    "# полную себестоимость одной велосипедной рамы\n",
    "\n",
    "import pandas as pd\n",
    "import numpy as np\n",
    "\n",
    "# сдельная зп, взносы на зп, материальные затраты\n",
    "dir_costA = 100 + 100 * 0.3 + 300 + 40\n",
    "\n",
    "# РСЭО (Амортизация), цеховые (общепроизводственные), заводские (общехозяйственные), внепроизводственные\n",
    "indir_cost_ratio = (2_000_000 + 1_600_000) / 1_800_000\n",
    "indir_cost = indir_cost_ratio * 100\n",
    "\n",
    "expensesA = dir_costA + indir_cost\n",
    "expensesA"
   ]
  },
  {
   "cell_type": "code",
   "execution_count": 18,
   "id": "6637a3d1",
   "metadata": {},
   "outputs": [
    {
     "data": {
      "text/plain": [
       "2343.3300000000004"
      ]
     },
     "execution_count": 18,
     "metadata": {},
     "output_type": "execute_result"
    }
   ],
   "source": [
    "# Задача 2. На заводе производят три товара: велосипедные рамы, колеса и\n",
    "# рули. На каждую раму расходуется легированной стали на сумму – 500 руб.,\n",
    "# краски – 50 руб. Основная заработная плата основных рабочих на одну раму\n",
    "# – 200 руб. Страховые взносы – 30 %. Цеховые расходы за год – 16 940 тыс.\n",
    "# руб., заводские расходы по предприятию за год – 18 920 тыс. руб. Базой\n",
    "# распределения косвенных затрат выступают прямые затраты, которые за год\n",
    "# составили 22 000 тыс. руб. Внепроизводственные расходы составляют 10%\n",
    "# от заводской себестоимости. Рассчитать полную себестоимость одной\n",
    "# велосипедной рамы.\n",
    "\n",
    "dir_costA = 200 + 200 * 0.3 + 500 + 50\n",
    "shop_costA = 16_940_000 / 22_000_000 * dir_costA\n",
    "factory_costA = 18_920_000 / 22_000_000 * dir_costA\n",
    "factory_expensesA = dir_costA + shop_costA + factory_costA\n",
    "commerce_costA = factory_expensesA * 0.1\n",
    "expensesA = factory_expensesA + commerce_costA\n",
    "expensesA"
   ]
  },
  {
   "cell_type": "code",
   "execution_count": 30,
   "id": "4757989d",
   "metadata": {},
   "outputs": [
    {
     "name": "stdout",
     "output_type": "stream",
     "text": [
      "avc=700.0, afc=300.0\n",
      "avc=700.0, afc=312.5\n"
     ]
    }
   ],
   "source": [
    "# Задача 3. Совокупные затраты на производство и продажу продукции за\n",
    "# месяц составляют 4 000 000 руб. при объеме 4000 штук. Доля переменных затрат\n",
    "# в совокупных затратах составляет 70 %. Рассчитать величину удельных\n",
    "# постоянных и удельных переменных затрат. Определить, сколько составят\n",
    "# удельные постоянные и удельные переменные затраты, если объем сократится\n",
    "# на 4 %.\n",
    "\n",
    "# var_cost: сдел зп, взносы на нее, мат. затраты. Т.е. == прямым.\n",
    "# fixed_cost: косвенные\n",
    "\n",
    "expensesA = 4_000_000 / 4_000\n",
    "variable_costA = expensesA * 0.7\n",
    "fixed_costA = expensesA - variable_costA\n",
    "print(f'avc={variable_costA}, afc={fixed_costA}')\n",
    "expensesA = 4_000_000 / (4_000 - (4_000 * 0.04))\n",
    "fixed_costA = expensesA * 0.3\n",
    "print(f'avc={variable_costA}, afc={fixed_costA}')"
   ]
  },
  {
   "cell_type": "code",
   "execution_count": 46,
   "id": "4cbaf93d",
   "metadata": {
    "scrolled": true
   },
   "outputs": [
    {
     "name": "stdout",
     "output_type": "stream",
     "text": [
      "profit limit is 3567123.2876712335 rub\n",
      "profit limit stock is -767123.2876712335 rub\n",
      "need to increase revenue on 27.4%\n"
     ]
    }
   ],
   "source": [
    "# За период продано продукции на сумму 2 800 000 руб., постоянные\n",
    "# затраты – 1 395 000 руб., их доля в себестоимости – 45 %. Рассчитать порог\n",
    "# рентабельности, запас финансовой прочности в рублях.\n",
    "total_cost = 1_395_000 * 100 / 45\n",
    "variable_cost = total_cost * 0.55\n",
    "margin_ratio = (2_800_000 - variable_cost) / 2_800_000\n",
    "profit_limit = 1_395_000 / margin_ratio\n",
    "profit_limit_stock = 2_800_000 - profit_limit\n",
    "print(f'profit limit is {profit_limit} rub')\n",
    "print(f'profit limit stock is {profit_limit_stock} rub')\n",
    "print(f'need to increase revenue on {abs(round(profit_limit_stock / 2_800_000 * 100, 2))}%')"
   ]
  },
  {
   "cell_type": "code",
   "execution_count": 76,
   "id": "5ad0bcb4",
   "metadata": {},
   "outputs": [
    {
     "name": "stdout",
     "output_type": "stream",
     "text": [
      "margin is 0.55, so 0.55 rub of profit in 1 rub of revenue\n",
      "trade margin is 33.33, so 0.33 rub of profit applies to 1 rub of expenses\n",
      "we earn nothing when revenue is 10909090.91 rub\n",
      "we can decrease revenue by 45.45% to not be loss-making\n",
      "profit changes by 2.2% when revenue changes by 1%\n"
     ]
    }
   ],
   "source": [
    "# Предприятие продает единицу продукции по цене 2000 руб.\n",
    "# Величина совокупных затрат предприятия составляет 15 000 000 руб.\n",
    "# Постоянные затраты составляют 40 % от совокупных затрат предприятия.\n",
    "# Удельные переменные затраты составляют 900 руб. Рассчитать порог\n",
    "# рентабельности, запас финансовой прочности в рублях, запас финансовой\n",
    "# прочности в процентах, операционный рычаг.\n",
    "\n",
    "fixed_cost = 15_000_000 * 0.4\n",
    "variable_cost = 15_000_000 - fixed_cost\n",
    "quantity = variable_cost / 900\n",
    "revenue = 2000 * quantity\n",
    "margin_ratio = (revenue - variable_cost) / revenue\n",
    "profit_limit = fixed_cost / margin_ratio\n",
    "profit_limit_stock = revenue - profit_limit\n",
    "leverage = margin_ratio * revenue / (revenue - 15_000_000)\n",
    "print(f'margin is {round(margin_ratio, 2)}, so {round(margin_ratio, 2)} rub of profit in 1 rub of revenue')\n",
    "print(f'trade margin is {round((revenue - 15_000_000) / 15_000_000 * 100, 2)}, so '\n",
    "      f'{round((revenue - 15_000_000) / 15_000_000, 2)} rub of profit applies to 1 rub of expenses'\n",
    ")\n",
    "print(f'we earn nothing when revenue is {round(profit_limit, 2)} rub')\n",
    "print(f'we can decrease revenue by {round(profit_limit_stock / revenue * 100, 2)}% to not be loss-making')\n",
    "print(f'profit changes by {round(leverage, 2)}% when revenue changes by 1%')"
   ]
  }
 ],
 "metadata": {
  "kernelspec": {
   "display_name": "Python 3 (ipykernel)",
   "language": "python",
   "name": "python3"
  },
  "language_info": {
   "codemirror_mode": {
    "name": "ipython",
    "version": 3
   },
   "file_extension": ".py",
   "mimetype": "text/x-python",
   "name": "python",
   "nbconvert_exporter": "python",
   "pygments_lexer": "ipython3",
   "version": "3.11.2"
  }
 },
 "nbformat": 4,
 "nbformat_minor": 5
}
