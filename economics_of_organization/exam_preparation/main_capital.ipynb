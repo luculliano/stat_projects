{
 "cells": [
  {
   "cell_type": "code",
   "execution_count": 2,
   "id": "e2c255e4",
   "metadata": {},
   "outputs": [
    {
     "data": {
      "text/html": [
       "<div>\n",
       "<style scoped>\n",
       "    .dataframe tbody tr th:only-of-type {\n",
       "        vertical-align: middle;\n",
       "    }\n",
       "\n",
       "    .dataframe tbody tr th {\n",
       "        vertical-align: top;\n",
       "    }\n",
       "\n",
       "    .dataframe thead th {\n",
       "        text-align: right;\n",
       "    }\n",
       "</style>\n",
       "<table border=\"1\" class=\"dataframe\">\n",
       "  <thead>\n",
       "    <tr style=\"text-align: right;\">\n",
       "      <th></th>\n",
       "      <th>parameter</th>\n",
       "      <th>begin_year</th>\n",
       "      <th>end_year</th>\n",
       "    </tr>\n",
       "  </thead>\n",
       "  <tbody>\n",
       "    <tr>\n",
       "      <th>0</th>\n",
       "      <td>Осн. ср-ва</td>\n",
       "      <td>140000000</td>\n",
       "      <td>186000000</td>\n",
       "    </tr>\n",
       "    <tr>\n",
       "      <th>1</th>\n",
       "      <td>фин. вложения</td>\n",
       "      <td>7000000</td>\n",
       "      <td>9000000</td>\n",
       "    </tr>\n",
       "    <tr>\n",
       "      <th>2</th>\n",
       "      <td>нематер. активы</td>\n",
       "      <td>5000000</td>\n",
       "      <td>4000000</td>\n",
       "    </tr>\n",
       "  </tbody>\n",
       "</table>\n",
       "</div>"
      ],
      "text/plain": [
       "         parameter  begin_year   end_year\n",
       "0       Осн. ср-ва   140000000  186000000\n",
       "1    фин. вложения     7000000    9000000\n",
       "2  нематер. активы     5000000    4000000"
      ]
     },
     "execution_count": 2,
     "metadata": {},
     "output_type": "execute_result"
    }
   ],
   "source": [
    "# Задача 1. Определить среднюю стоимость основного капитала за год на\n",
    "# основе исходной информации, представленной в таблице\n",
    "\n",
    "import pandas as pd\n",
    "import numpy as np\n",
    "\n",
    "data = pd.DataFrame({\n",
    "    'parameter': ('Осн. ср-ва', 'фин. вложения', 'нематер. активы'),\n",
    "    'begin_year': (140_000_000, 7_000_000, 5_000_000),\n",
    "    'end_year': (186_000_000, 9_000_000, 4_000_000)\n",
    "})\n",
    "data"
   ]
  },
  {
   "cell_type": "code",
   "execution_count": 3,
   "id": "1841761e",
   "metadata": {
    "scrolled": true
   },
   "outputs": [
    {
     "data": {
      "text/plain": [
       "175500000.0"
      ]
     },
     "execution_count": 3,
     "metadata": {},
     "output_type": "execute_result"
    }
   ],
   "source": [
    "# Sср = (Sнг + Sкг) / 2\n",
    "average_cost = (data['begin_year'].sum() + data['end_year'].sum()) / 2\n",
    "average_cost"
   ]
  },
  {
   "cell_type": "code",
   "execution_count": 4,
   "id": "e08c3aef",
   "metadata": {},
   "outputs": [
    {
     "data": {
      "text/plain": [
       "5515000"
      ]
     },
     "execution_count": 4,
     "metadata": {},
     "output_type": "execute_result"
    }
   ],
   "source": [
    "# Задача 2. Цена приобретения станка составляет 4 500 000 руб. Затраты по\n",
    "# транспортировке станка до таможни составили 200 000 руб., таможенная\n",
    "# пошлина – 315 000 руб., затраты по транспортировке от таможни до склада\n",
    "# предприятия – 100 000 руб. Расходы, связанные с установкой станка и\n",
    "# подготовкой к эксплуатации, включая затраты на обучение сотрудников,\n",
    "# составили 400 000 руб. Дополнительные затраты на обучение сотрудников\n",
    "# после ввода станка в эксплуатацию составили 50 000 руб. Рассчитать\n",
    "# первоначальную стоимость станка.\n",
    "\n",
    "first_cost = 4_500_000 + 200_000 + 315_000 + 100_000 + 400_000\n",
    "first_cost"
   ]
  },
  {
   "cell_type": "code",
   "execution_count": 6,
   "id": "abd07cbc",
   "metadata": {},
   "outputs": [
    {
     "name": "stdout",
     "output_type": "stream",
     "text": [
      "Осн. капитал используется по мощности на 87%\n"
     ]
    }
   ],
   "source": [
    "# Задача 3. В цехе установлено 8 станков. Производительность каждого\n",
    "# станка – 30 изделий в час. За год было изготовлено 826 848 изделий.\n",
    "# Номинальный фонд работы станков составил 3960 часов. Рассчитать\n",
    "# коэффициент интенсивности (интенсивного использования).\n",
    "\n",
    "# Кинт = Мф/Mн - исп. осн. ср-в по мощности (факт и номинальн), т.е. макс. возможный выпуск продукции\n",
    "# M = N*П*T, N - шт обрудования, П-производительность, Т-фонд работы\n",
    "# T = (Tкал - Tвых,празд) * число смен * длит. 1 смены - потери\n",
    "\n",
    "Mn = 8 * 30 * 3960\n",
    "k_int = 826_848 / Mn\n",
    "print('Осн. капитал используется по мощности на 87%')"
   ]
  },
  {
   "cell_type": "code",
   "execution_count": 7,
   "id": "97a8d8b0",
   "metadata": {},
   "outputs": [
    {
     "name": "stdout",
     "output_type": "stream",
     "text": [
      "Осн. капитал исп. по мощности на 80.0%\n",
      "Осн. капитал исп. по времени на 90.0%\n",
      "Осн. капитал исп. по мощности и времени 72.00000000000001%\n"
     ]
    }
   ],
   "source": [
    "# Задача 4. На производстве установлено 10 единиц однотипного\n",
    "# оборудования. Производительность оборудования составляет 25 изделий в\n",
    "# час. Номинальный фонд работы оборудования составил 3780 часов.\n",
    "# Фактический фонд работы оборудования – 3402 часа. За год было выпущено\n",
    "# 756 000 изделий. Рассчитать коэффициент интенсивности (интенсивного\n",
    "# использования), коэффициент экстенсивности (экстенсивного\n",
    "# использования), интегральный коэффициент.\n",
    "\n",
    "Mn = 10 * 25 * 3780\n",
    "k_int = 756_000 / Mn\n",
    "\n",
    "# Кэкст = Tфакт/Тном, исп. по времени\n",
    "# k_integral = Kинт * Кэкст\n",
    "k_ext = 3402 / 3780\n",
    "k_integral = k_int * k_ext\n",
    "print(f'Осн. капитал исп. по мощности на {k_int * 100}%')\n",
    "print(f'Осн. капитал исп. по времени на {k_ext * 100}%')\n",
    "print(f'Осн. капитал исп. по мощности и времени {k_integral * 100}%')"
   ]
  },
  {
   "cell_type": "code",
   "execution_count": 16,
   "id": "94c3bdea",
   "metadata": {},
   "outputs": [
    {
     "name": "stdout",
     "output_type": "stream",
     "text": [
      "Факт. фонд работы 2587.5 часов\n",
      "Номинальный фонд работы 2875.0 часов\n"
     ]
    }
   ],
   "source": [
    "# Задача 5. Известно, что коэффициент использования мощности цеха\n",
    "# (коэффициент интенсивности) равен 0,8. Коэффициент экстенсивности равен\n",
    "# 0,9. За год было выпущено 230 000 изделий. В цехе установлено 5 станков,\n",
    "# производительность каждого станка – 20 изделий в час. Рассчитать\n",
    "# номинальный и фактический фонд работы станков.\n",
    "\n",
    "Mn = 230_000 / 0.8\n",
    "Tn = Mn / (5*20)\n",
    "Tf = 0.9 * Tn\n",
    "print(f'Факт. фонд работы {Tf} часов')\n",
    "print(f'Номинальный фонд работы {Tn} часов')"
   ]
  },
  {
   "cell_type": "code",
   "execution_count": 18,
   "id": "a18802f6",
   "metadata": {},
   "outputs": [
    {
     "data": {
      "text/plain": [
       "14000000.0"
      ]
     },
     "execution_count": 18,
     "metadata": {},
     "output_type": "execute_result"
    }
   ],
   "source": [
    "# Амортизация начисляется линейным способом. Первоначальная\n",
    "# стоимость основного средства составляет 20 000 000 руб. Срок полезного\n",
    "# использования – 10 лет. Рассчитать остаточную стоимость основного средства на\n",
    "# конец третьего года эксплуатации.\n",
    "Na = 1 / 10\n",
    "Sa = 20_000_000 * Na\n",
    "result = 20_000_000 - (Sa * 3)\n",
    "result"
   ]
  },
  {
   "cell_type": "code",
   "execution_count": 37,
   "id": "24676808",
   "metadata": {},
   "outputs": [
    {
     "data": {
      "text/plain": [
       "3375000.0"
      ]
     },
     "execution_count": 37,
     "metadata": {},
     "output_type": "execute_result"
    }
   ],
   "source": [
    "# Амортизация начисляется линейным способом.\n",
    "# Первоначальная стоимость основного средства составляет 4 500 000 руб. Срок\n",
    "# полезного использования – 5 лет. Рассчитать остаточную стоимость основного\n",
    "# средства на конец первого квартала второго года эксплуатации.\n",
    "Na = 1 / 5\n",
    "Sa = 4_500_000 * Na\n",
    "Sa_q = Sa / 12\n",
    "result = 4_500_000 - (Sa_q * 15)\n",
    "result"
   ]
  },
  {
   "cell_type": "code",
   "execution_count": 45,
   "id": "b0cfd86f",
   "metadata": {},
   "outputs": [
    {
     "data": {
      "text/plain": [
       "5.0"
      ]
     },
     "execution_count": 45,
     "metadata": {},
     "output_type": "execute_result"
    }
   ],
   "source": [
    "# Первоначальная стоимость объекта основных средств\n",
    "# составляет 4 000 000 руб. Срок его полезного использования – 10 лет.\n",
    "# Определить сумму амортизационных отчислений за каждый год\n",
    "# эксплуатации, если применяется линейная ускоренная амортизация.\n",
    "# Коэффициент ускорения равен 2. За сколько лет стоимость основного\n",
    "# средства будет перенесена на себестоимость продукции?\n",
    "\n",
    "# Na = kуск * ному при линейном\n",
    "Na = 2 * (1 / 10)\n",
    "\n",
    "Sa1 = 4_000_000 * Na\n",
    "result = 4_000_000 / Sa1\n",
    "result"
   ]
  },
  {
   "cell_type": "code",
   "execution_count": 50,
   "id": "5243e446",
   "metadata": {},
   "outputs": [
    {
     "data": {
      "text/plain": [
       "280000.0"
      ]
     },
     "execution_count": 50,
     "metadata": {},
     "output_type": "execute_result"
    }
   ],
   "source": [
    "# Первоначальная стоимость оборудования составляет\n",
    "# 3 000 000 руб. Срок его полезного использования – 10 лет. Ликвидационная\n",
    "# стоимость составляет 200 000 руб. Определить годовую сумму\n",
    "# амортизационных отчислений, если применяется линейная амортизация.\n",
    "Na = (3_000_000 - 200_000) / (3_000_000 * 10)\n",
    "Sa = 3_000_000 * Na\n",
    "Sa"
   ]
  },
  {
   "cell_type": "code",
   "execution_count": 56,
   "id": "077ce55f",
   "metadata": {},
   "outputs": [
    {
     "data": {
      "text/html": [
       "<div>\n",
       "<style scoped>\n",
       "    .dataframe tbody tr th:only-of-type {\n",
       "        vertical-align: middle;\n",
       "    }\n",
       "\n",
       "    .dataframe tbody tr th {\n",
       "        vertical-align: top;\n",
       "    }\n",
       "\n",
       "    .dataframe thead th {\n",
       "        text-align: right;\n",
       "    }\n",
       "</style>\n",
       "<table border=\"1\" class=\"dataframe\">\n",
       "  <thead>\n",
       "    <tr style=\"text-align: right;\">\n",
       "      <th></th>\n",
       "      <th>amortization_sum</th>\n",
       "    </tr>\n",
       "    <tr>\n",
       "      <th>year</th>\n",
       "      <th></th>\n",
       "    </tr>\n",
       "  </thead>\n",
       "  <tbody>\n",
       "    <tr>\n",
       "      <th>1</th>\n",
       "      <td>1200000.0</td>\n",
       "    </tr>\n",
       "    <tr>\n",
       "      <th>2</th>\n",
       "      <td>720000.0</td>\n",
       "    </tr>\n",
       "    <tr>\n",
       "      <th>3</th>\n",
       "      <td>432000.0</td>\n",
       "    </tr>\n",
       "    <tr>\n",
       "      <th>4</th>\n",
       "      <td>259200.0</td>\n",
       "    </tr>\n",
       "    <tr>\n",
       "      <th>5</th>\n",
       "      <td>155520.0</td>\n",
       "    </tr>\n",
       "  </tbody>\n",
       "</table>\n",
       "</div>"
      ],
      "text/plain": [
       "      amortization_sum\n",
       "year                  \n",
       "1            1200000.0\n",
       "2             720000.0\n",
       "3             432000.0\n",
       "4             259200.0\n",
       "5             155520.0"
      ]
     },
     "execution_count": 56,
     "metadata": {},
     "output_type": "execute_result"
    }
   ],
   "source": [
    "# Амортизация начисляется способом уменьшаемого остатка.\n",
    "# Первоначальная стоимость основного средства составляет 3 000 000 руб.\n",
    "# Срок полезного использования – 5 лет. Коэффициент ускорения равен 2.\n",
    "# Определить сумму амортизационных отчислений за каждый год\n",
    "# эксплуатации\n",
    "data = pd.DataFrame({\n",
    "    'amortization_sum': (np.NaN for _ in range(5))},\n",
    "    index=np.arange(1, 6)\n",
    ")\n",
    "data.index.name = 'year'\n",
    "\n",
    "Na = 2 * (1 / 5)\n",
    "\n",
    "data.loc[1, 'amortization_sum'] = 3_000_000 * Na\n",
    "remain = 3_000_000 - data.loc[1, 'amortization_sum']\n",
    "\n",
    "data.loc[2, 'amortization_sum'] = remain * Na\n",
    "remain = remain - data.loc[2, 'amortization_sum']\n",
    "\n",
    "data.loc[3, 'amortization_sum'] = remain * Na\n",
    "remain = remain - data.loc[3, 'amortization_sum']\n",
    "\n",
    "data.loc[4, 'amortization_sum'] = remain * Na\n",
    "remain = remain - data.loc[4, 'amortization_sum']\n",
    "\n",
    "data.loc[5, 'amortization_sum'] = remain * Na\n",
    "data"
   ]
  },
  {
   "cell_type": "code",
   "execution_count": 74,
   "id": "73cd88ee",
   "metadata": {},
   "outputs": [
    {
     "data": {
      "text/html": [
       "<div>\n",
       "<style scoped>\n",
       "    .dataframe tbody tr th:only-of-type {\n",
       "        vertical-align: middle;\n",
       "    }\n",
       "\n",
       "    .dataframe tbody tr th {\n",
       "        vertical-align: top;\n",
       "    }\n",
       "\n",
       "    .dataframe thead th {\n",
       "        text-align: right;\n",
       "    }\n",
       "</style>\n",
       "<table border=\"1\" class=\"dataframe\">\n",
       "  <thead>\n",
       "    <tr style=\"text-align: right;\">\n",
       "      <th></th>\n",
       "      <th>amortization_sum</th>\n",
       "    </tr>\n",
       "    <tr>\n",
       "      <th>year</th>\n",
       "      <th></th>\n",
       "    </tr>\n",
       "  </thead>\n",
       "  <tbody>\n",
       "    <tr>\n",
       "      <th>1</th>\n",
       "      <td>1333333.33</td>\n",
       "    </tr>\n",
       "    <tr>\n",
       "      <th>2</th>\n",
       "      <td>1066666.67</td>\n",
       "    </tr>\n",
       "    <tr>\n",
       "      <th>3</th>\n",
       "      <td>800000.00</td>\n",
       "    </tr>\n",
       "    <tr>\n",
       "      <th>4</th>\n",
       "      <td>533333.33</td>\n",
       "    </tr>\n",
       "    <tr>\n",
       "      <th>5</th>\n",
       "      <td>266666.67</td>\n",
       "    </tr>\n",
       "  </tbody>\n",
       "</table>\n",
       "</div>"
      ],
      "text/plain": [
       "      amortization_sum\n",
       "year                  \n",
       "1           1333333.33\n",
       "2           1066666.67\n",
       "3            800000.00\n",
       "4            533333.33\n",
       "5            266666.67"
      ]
     },
     "execution_count": 74,
     "metadata": {},
     "output_type": "execute_result"
    }
   ],
   "source": [
    "# Амортизация начисляется способом списания стоимости по\n",
    "# сумме числа лет срока полезного использования. Первоначальная стоимость\n",
    "# основного средства составляет 4 000 000 руб. Срок полезного использования –\n",
    "# 5 лет. Определить сумму амортизационных отчислений за каждый год\n",
    "# эксплуатации.\n",
    "\n",
    "data = pd.DataFrame({\n",
    "    'amortization_sum': (np.NaN for _ in range(5))},\n",
    "    index=np.arange(1, 6)\n",
    ")\n",
    "data.index.name = 'year'\n",
    "\n",
    "# Nai = Ti / T, Sai = Sперв*Nai\n",
    "j = 1\n",
    "for i in range(5, 0, -1):\n",
    "    Nai = i / sum(range(1, 6))\n",
    "    Sai = 4_000_000 * Nai\n",
    "    data.loc[j, 'amortization_sum'] = round(Sai, 2)\n",
    "    j += 1\n",
    "data"
   ]
  },
  {
   "cell_type": "code",
   "execution_count": 79,
   "id": "e0ae31dd",
   "metadata": {},
   "outputs": [
    {
     "data": {
      "text/html": [
       "<div>\n",
       "<style scoped>\n",
       "    .dataframe tbody tr th:only-of-type {\n",
       "        vertical-align: middle;\n",
       "    }\n",
       "\n",
       "    .dataframe tbody tr th {\n",
       "        vertical-align: top;\n",
       "    }\n",
       "\n",
       "    .dataframe thead th {\n",
       "        text-align: right;\n",
       "    }\n",
       "</style>\n",
       "<table border=\"1\" class=\"dataframe\">\n",
       "  <thead>\n",
       "    <tr style=\"text-align: right;\">\n",
       "      <th></th>\n",
       "      <th>amortization_sum</th>\n",
       "      <th>remain_sum</th>\n",
       "    </tr>\n",
       "    <tr>\n",
       "      <th>year</th>\n",
       "      <th></th>\n",
       "      <th></th>\n",
       "    </tr>\n",
       "  </thead>\n",
       "  <tbody>\n",
       "    <tr>\n",
       "      <th>1</th>\n",
       "      <td>1250000.00</td>\n",
       "      <td>3750000.00</td>\n",
       "    </tr>\n",
       "    <tr>\n",
       "      <th>2</th>\n",
       "      <td>1071428.57</td>\n",
       "      <td>2678571.43</td>\n",
       "    </tr>\n",
       "    <tr>\n",
       "      <th>3</th>\n",
       "      <td>892857.14</td>\n",
       "      <td>1785714.29</td>\n",
       "    </tr>\n",
       "    <tr>\n",
       "      <th>4</th>\n",
       "      <td>714285.71</td>\n",
       "      <td>1071428.57</td>\n",
       "    </tr>\n",
       "    <tr>\n",
       "      <th>5</th>\n",
       "      <td>535714.29</td>\n",
       "      <td>535714.29</td>\n",
       "    </tr>\n",
       "    <tr>\n",
       "      <th>6</th>\n",
       "      <td>357142.86</td>\n",
       "      <td>178571.43</td>\n",
       "    </tr>\n",
       "    <tr>\n",
       "      <th>7</th>\n",
       "      <td>178571.43</td>\n",
       "      <td>0.00</td>\n",
       "    </tr>\n",
       "  </tbody>\n",
       "</table>\n",
       "</div>"
      ],
      "text/plain": [
       "      amortization_sum  remain_sum\n",
       "year                              \n",
       "1           1250000.00  3750000.00\n",
       "2           1071428.57  2678571.43\n",
       "3            892857.14  1785714.29\n",
       "4            714285.71  1071428.57\n",
       "5            535714.29   535714.29\n",
       "6            357142.86   178571.43\n",
       "7            178571.43        0.00"
      ]
     },
     "execution_count": 79,
     "metadata": {},
     "output_type": "execute_result"
    }
   ],
   "source": [
    "# Амортизация начисляется способом списания стоимости по\n",
    "# сумме числа лет срока полезного использования. Первоначальная стоимость\n",
    "# основного средства составляет 5 000 000 руб. Срок полезного использования – 7\n",
    "# лет. Определить сумму амортизационных отчислений за каждый год\n",
    "# эксплуатации и остаточную стоимость на конец каждого года.\n",
    "\n",
    "data = pd.DataFrame({\n",
    "    'amortization_sum': (np.NaN for _ in range(7)),\n",
    "    'remain_sum': (np.NaN for _ in range(7))},\n",
    "    index=np.arange(1, 8)\n",
    ")\n",
    "data.index.name = 'year'\n",
    "\n",
    "j = 1\n",
    "remain = 5_000_000\n",
    "for i in range(7, 0, -1):\n",
    "    Nai = i / sum(range(1, 8))\n",
    "    Sai = 5_000_000 * Nai\n",
    "    data.loc[j, 'amortization_sum'] = round(Sai, 2)\n",
    "    remain = remain - Sai\n",
    "    data.loc[j, 'remain_sum'] = round(remain, 2)\n",
    "    j += 1\n",
    "data"
   ]
  },
  {
   "cell_type": "code",
   "execution_count": 80,
   "id": "b06a6d02",
   "metadata": {},
   "outputs": [
    {
     "data": {
      "text/plain": [
       "350000.0"
      ]
     },
     "execution_count": 80,
     "metadata": {},
     "output_type": "execute_result"
    }
   ],
   "source": [
    "# Амортизация начисляется способом пропорционально объему\n",
    "# продукции. Первоначальная стоимость основного средства составляет\n",
    "# 5 000 000 руб. Предполагаемый объем производства продукции за весь срок\n",
    "# полезного использования – 1000 штук. Рассчитать сумму амортизации за\n",
    "# январь, если в январе было произведено 70 штук.\n",
    "\n",
    "# Sa ед = S перв / Qпл, Sa янв = Sa eд * Qпл янв\n",
    "Sa_one = 5_000_000 / 1000\n",
    "Sa_jan = Sa_one * 70\n",
    "Sa_jan"
   ]
  },
  {
   "cell_type": "code",
   "execution_count": 81,
   "id": "3cab2807",
   "metadata": {},
   "outputs": [
    {
     "data": {
      "text/plain": [
       "(1.25, 0.8, 0.1)"
      ]
     },
     "execution_count": 81,
     "metadata": {},
     "output_type": "execute_result"
    }
   ],
   "source": [
    "# Величина основного капитала на начало года составляет\n",
    "# 4 000 000 руб., на конец года – 5 000 000 руб. За год было продано продукции на\n",
    "# сумму 5 625 000 руб. Величина прибыли до налогообложения за год составила\n",
    "# 450 000 руб. Рассчитать капиталоотдачу, капиталоемкость и рентабельность\n",
    "# основного капитала.\n",
    "average_cost = (4_000_000 + 5_000_000) / 2\n",
    "Ko = 5_625_000 / average_cost\n",
    "Ke = 1 / Ko\n",
    "main_efficiency = 450_000 / average_cost\n",
    "Ko, Ke, main_efficiency"
   ]
  },
  {
   "cell_type": "code",
   "execution_count": 82,
   "id": "a8e0b262",
   "metadata": {},
   "outputs": [
    {
     "data": {
      "text/plain": [
       "0.07"
      ]
     },
     "execution_count": 82,
     "metadata": {},
     "output_type": "execute_result"
    }
   ],
   "source": [
    "# Капиталоемкость составляет 1,5 руб./руб. За год было продано\n",
    "# продукции на сумму 7 500 000 руб. Величина прибыли до налогообложения за\n",
    "# год составила 787 500 руб. Рассчитать рентабельность основного капитала.\n",
    "\n",
    "average_cost = 1.5 * 7_500_000\n",
    "main_efficiency = 787_500 / average_cost\n",
    "main_efficiency"
   ]
  },
  {
   "cell_type": "code",
   "execution_count": 86,
   "id": "077dd51a",
   "metadata": {},
   "outputs": [
    {
     "data": {
      "text/plain": [
       "(1.8, 4.5, 0.5555555555555556, 500000.0)"
      ]
     },
     "execution_count": 86,
     "metadata": {},
     "output_type": "execute_result"
    }
   ],
   "source": [
    "# Величина средней стоимости основных средств за год составляет\n",
    "# 100 000 000 руб., доля активной части – 40 %. Величина произведенной\n",
    "# продукции за год составила 180 000 000 руб. Среднесписочная численность\n",
    "# рабочих – 200 человек. Рассчитать капиталоотдачу, капиталоотдачу активной\n",
    "# части, капиталоемкость, капиталовооруженность.\n",
    "\n",
    "Ko = 180_000_000 / 100_000_000\n",
    "Ko_act = 180_000_000 / (100_000_000 * 0.4)\n",
    "Ke = 1 / Ko\n",
    "# капиталовооруженность = S ср. осн ср-в / СЧС\n",
    "KV =  100_000_000 / 200\n",
    "Ko, Ko_act, Ke, KV"
   ]
  },
  {
   "cell_type": "code",
   "execution_count": 87,
   "id": "314e8c05",
   "metadata": {},
   "outputs": [
    {
     "data": {
      "text/plain": [
       "(2.0, 2.2)"
      ]
     },
     "execution_count": 87,
     "metadata": {},
     "output_type": "execute_result"
    }
   ],
   "source": [
    "# Величина средней стоимости основных средств за год\n",
    "# составляет 90 000 000 руб. Величина проданной продукции за год составила\n",
    "# 180 000 000 руб. Рассчитать капиталоотдачу на основе исходных данных и\n",
    "# значение капиталоотдачи, если объем проданной продукции увеличится на\n",
    "# 10 %.\n",
    "Ko1 = 180_000_000 / 90_000_000\n",
    "Ko2 = (180_000_000 + 180_000_000 * 0.1) / 90_000_000\n",
    "Ko1, Ko2"
   ]
  },
  {
   "cell_type": "code",
   "execution_count": 88,
   "id": "88d84622",
   "metadata": {},
   "outputs": [
    {
     "data": {
      "text/plain": [
       "78800"
      ]
     },
     "execution_count": 88,
     "metadata": {},
     "output_type": "execute_result"
    }
   ],
   "source": [
    "# Производственный цех оборудован 8 агрегатами.\n",
    "# Производительность одного агрегата – 5 изделий в час. В году 118 выходных и\n",
    "# праздничных дней, потери времени за счет сокращения длительности смены в\n",
    "# предпраздничные дни составляют 6 часов. Коэффициент сменности (количество\n",
    "# смен в сутки) равен 1. Длительность смены – 8 часов. Определить номинальную\n",
    "# мощность цеха.\n",
    "\n",
    "work_fund = (365 - 118) * 1 * 8 - 6\n",
    "Mn = 5 * 8 * work_fund\n",
    "Mn"
   ]
  },
  {
   "cell_type": "code",
   "execution_count": 89,
   "id": "2d5e0922",
   "metadata": {},
   "outputs": [
    {
     "data": {
      "text/plain": [
       "0.7993922512028362"
      ]
     },
     "execution_count": 89,
     "metadata": {},
     "output_type": "execute_result"
    }
   ],
   "source": [
    "#  За год было выпущено 252 544 изделий. В цехе установлено 10\n",
    "# единиц оборудования. Производительность оборудования – 8 изделий в час. В\n",
    "# году 247 рабочих дней. Коэффициент сменности (количество смен в сутки)\n",
    "# равен 2. Длительность смены – 8 часов. В предпраздничные дни смена\n",
    "# сокращается на 1 час, предпраздничных дней в году – 3. Рассчитать\n",
    "# коэффициент интенсивности (интенсивного использования).\n",
    "\n",
    "work_fund = (365 - (365 - 247)) * 8 * 2 - 3\n",
    "Mn = work_fund * 8 * 10\n",
    "k_int = 252_544 / Mn\n",
    "k_int"
   ]
  },
  {
   "cell_type": "code",
   "execution_count": 104,
   "id": "bcbe7d9d",
   "metadata": {},
   "outputs": [
    {
     "data": {
      "text/plain": [
       "(0.75, 0.8, 0.6000000000000001)"
      ]
     },
     "execution_count": 104,
     "metadata": {},
     "output_type": "execute_result"
    }
   ],
   "source": [
    "#  В цехе установлено 5 станков. За год было выпущено 14 475\n",
    "# изделий. В году 117 выходных и праздничных дней. Коэффициент сменности\n",
    "# (количество смен в сутки) равен 1. Длительность смены – 8 часов. В\n",
    "# предпраздничные дни смена сокращается на 1 час, потери времени за счет\n",
    "# сокращения длительности смены в предпраздничные дни составляют 6 часов.\n",
    "# Плановые ремонты составляют 6 дней. Фактическое время работы станков\n",
    "# составило 1544 часа. Норма времени на изготовление одного изделия\n",
    "# составляет 0,5 часа. Рассчитать коэффициент интенсивности (интенсивного\n",
    "# использования), коэффициент экстенсивности (экстенсивного использования),\n",
    "# интегральный коэффициент.\n",
    "\n",
    "work_fund = (365 - 117) * 1 * 8 - (6 * 8 + 6)\n",
    "Mn = work_fund * 5 * 2\n",
    "k_int = 14_475 / Mn\n",
    "k_ext = 1544 / work_fund\n",
    "k_integral = k_int * k_ext\n",
    "k_int, k_ext, k_integral"
   ]
  },
  {
   "cell_type": "code",
   "execution_count": 110,
   "id": "c23741e5",
   "metadata": {},
   "outputs": [
    {
     "data": {
      "text/plain": [
       "70560.0"
      ]
     },
     "execution_count": 110,
     "metadata": {},
     "output_type": "execute_result"
    }
   ],
   "source": [
    "# . В цехе установлено 10 станков. Известно, что коэффициент\n",
    "# использования мощности (коэффициент интенсивности) равен 0,9. В году 248\n",
    "# рабочих дней. Коэффициент сменности (количество смен в сутки) равен 1.\n",
    "# Длительность смены – 8 часов. Норма времени на изготовление одного\n",
    "# изделия составляет 15 минут. Потери времени в связи с плановыми ремонтами\n",
    "# и сокращением смены в предпраздничные дни составляют 24 часа. Рассчитать\n",
    "# фактическую мощность цеха\n",
    "\n",
    "work_fund = 248 * 1 * 8 - 24\n",
    "Mn = work_fund * 4 * 10\n",
    "Mf = 0.9 * Mn\n",
    "Mf"
   ]
  },
  {
   "cell_type": "code",
   "execution_count": 115,
   "id": "754a35f1",
   "metadata": {},
   "outputs": [
    {
     "data": {
      "text/plain": [
       "(33100000.0, 0.85, 0.0621301775147929)"
      ]
     },
     "execution_count": 115,
     "metadata": {},
     "output_type": "execute_result"
    }
   ],
   "source": [
    "# Основные средства предприятия на начало года составляют\n",
    "# 32 000 000 руб. С 1 июня вводится в эксплуатацию основных средств на сумму\n",
    "# 2 100 000 руб., а с 1 августа выбывает на сумму 300 000 руб. За год было продано\n",
    "# продукции на сумму 28 135 000 руб. Рассчитать среднюю стоимость основных\n",
    "# средств за год экономическим способом, капиталоотдачу, коэффициент\n",
    "# обновления.\n",
    "\n",
    "# Sкг = Sнг + Sвв - Sост\n",
    "end_cost = 32_000_000 + 2_100_000 - 300_000\n",
    "# Sср = S перв + (Sвв * мес до конца года / 12) - (Sвыб * мес до конца года / 12)\n",
    "average_cost = 32_000_000 + (2_100_000 * 7 / 12) - (300_000 * 5 / 12)\n",
    "Ko = 28_135_000 / average_cost\n",
    "K_update = 2_100_000 / end_cost\n",
    "average_cost, Ko, K_update"
   ]
  },
  {
   "cell_type": "code",
   "execution_count": 117,
   "id": "b4b84888",
   "metadata": {},
   "outputs": [
    {
     "data": {
      "text/plain": [
       "(123750000.0, 0.5, 2.0, 0.09, 0.24, 0.05)"
      ]
     },
     "execution_count": 117,
     "metadata": {},
     "output_type": "execute_result"
    }
   ],
   "source": [
    "# Величина основных средств предприятия на начало года\n",
    "# составляет 100 000 000 руб. Известно, что с 1 марта вводится основных\n",
    "# средств на 30 000 000 руб., выбыло с 1 октября – на 5 000 000 руб. Продано\n",
    "# продукции за год на сумму 61 875 000 руб. Полная себестоимость за год\n",
    "# составляет 40 737 500 руб. Величина убытка от прочей деятельности\n",
    "# составляет 10 000 000 руб. Рассчитать среднюю стоимость основных средств\n",
    "# за год экономическим способом, капиталоотдачу, капиталоемкость,\n",
    "# рентабельность основного капитала, коэффициент обновления, коэффициент\n",
    "# выбытия.\n",
    "\n",
    "end_cost = 100_000_000 +  30_000_000 - 5_000_000\n",
    "average_cost = 100_000_000 + 30_000_000 * 10 / 12 - 5_000_000 * 3 / 12\n",
    "Ko = 61_875_000 / average_cost\n",
    "Ke = 1 / Ko\n",
    "main_efficiency = (61_875_000 - 40_737_500 - 10_000_000) / average_cost\n",
    "K_update = 30_000_000 / end_cost\n",
    "K_remove = 5_000_000 / 100_000_000\n",
    "average_cost, Ko, Ke, main_efficiency, K_update, K_remove"
   ]
  },
  {
   "cell_type": "code",
   "execution_count": 118,
   "id": "983209b9",
   "metadata": {},
   "outputs": [
    {
     "data": {
      "text/plain": [
       "(0.21052631578947367, 0.0625)"
      ]
     },
     "execution_count": 118,
     "metadata": {},
     "output_type": "execute_result"
    }
   ],
   "source": [
    "# Величина основных средств на начало года составила 16 000 000\n",
    "# руб. За год было введено основных средств на сумму 4 000 000 руб., выбыло –\n",
    "# на сумму 1 000 000 руб. Рассчитать коэффициент обновления, коэффициент\n",
    "# выбытия\n",
    "end_cost = 16_000_000 + 4_000_000 - 1_000_000\n",
    "K_update = 4_000_000 / end_cost\n",
    "K_remove = 1_000_000 / 16_000_000\n",
    "K_update, K_remove"
   ]
  },
  {
   "cell_type": "code",
   "execution_count": 119,
   "id": "876e852e",
   "metadata": {},
   "outputs": [
    {
     "data": {
      "text/plain": [
       "(19.0, 76.0, 5.0)"
      ]
     },
     "execution_count": 119,
     "metadata": {},
     "output_type": "execute_result"
    }
   ],
   "source": [
    "#  Рассчитать структуру основного капитала на конец года на основе\n",
    "# исходной информации, представленной в таблице.\n",
    "assets = 57_000_000 + 228_000_000 + 15_000_000\n",
    "intangible = 57_000_000 / assets * 100\n",
    "main_assets = 228_000_000 / assets * 100\n",
    "investments = 15_000_000 / assets * 100\n",
    "intangible, main_assets, investments"
   ]
  },
  {
   "cell_type": "code",
   "execution_count": 133,
   "id": "e1604f5e",
   "metadata": {},
   "outputs": [
    {
     "data": {
      "text/html": [
       "<div>\n",
       "<style scoped>\n",
       "    .dataframe tbody tr th:only-of-type {\n",
       "        vertical-align: middle;\n",
       "    }\n",
       "\n",
       "    .dataframe tbody tr th {\n",
       "        vertical-align: top;\n",
       "    }\n",
       "\n",
       "    .dataframe thead th {\n",
       "        text-align: right;\n",
       "    }\n",
       "</style>\n",
       "<table border=\"1\" class=\"dataframe\">\n",
       "  <thead>\n",
       "    <tr style=\"text-align: right;\">\n",
       "      <th></th>\n",
       "      <th>begin</th>\n",
       "      <th>end</th>\n",
       "    </tr>\n",
       "    <tr>\n",
       "      <th>parameter</th>\n",
       "      <th></th>\n",
       "      <th></th>\n",
       "    </tr>\n",
       "  </thead>\n",
       "  <tbody>\n",
       "    <tr>\n",
       "      <th>intangible</th>\n",
       "      <td>3</td>\n",
       "      <td>2.7</td>\n",
       "    </tr>\n",
       "    <tr>\n",
       "      <th>main_assets</th>\n",
       "      <td>96</td>\n",
       "      <td>95.3</td>\n",
       "    </tr>\n",
       "    <tr>\n",
       "      <th>investments</th>\n",
       "      <td>1</td>\n",
       "      <td>2.0</td>\n",
       "    </tr>\n",
       "    <tr>\n",
       "      <th>total</th>\n",
       "      <td>100</td>\n",
       "      <td>100.0</td>\n",
       "    </tr>\n",
       "  </tbody>\n",
       "</table>\n",
       "</div>"
      ],
      "text/plain": [
       "             begin    end\n",
       "parameter                \n",
       "intangible       3    2.7\n",
       "main_assets     96   95.3\n",
       "investments      1    2.0\n",
       "total          100  100.0"
      ]
     },
     "execution_count": 133,
     "metadata": {},
     "output_type": "execute_result"
    }
   ],
   "source": [
    "# Рассчитать структуру основного капитала на начало и конец\n",
    "# года на основе исходной информации, представленной в таблице\n",
    "data = pd.DataFrame({\n",
    "    'begin': (6_456_000, 206_592_000, 2_152_000),\n",
    "    'end': (5_940_000, 209_660_000, 4_400_000)},\n",
    "    index=('intangible', 'main_assets', 'investments')\n",
    ")\n",
    "data.index.name = 'parameter'\n",
    "\n",
    "data_new = data.copy()\n",
    "data_new.loc['intangible'] = (data.loc['intangible', 'begin'] / data['begin'].sum() * 100,\n",
    "                                 data.loc['intangible', 'end'] / data['end'].sum() * 100)\n",
    "data_new.loc['main_assets'] = (data.loc['main_assets', 'begin'] / data['begin'].sum() * 100,\n",
    "                                 data.loc['main_assets', 'end'] / data['end'].sum() * 100)\n",
    "data_new.loc['investments'] = (data.loc['investments', 'begin'] / data['begin'].sum() * 100,\n",
    "                                 data.loc['investments', 'end'] / data['end'].sum() * 100)\n",
    "data_new.loc['total'] = (data_new['begin'].sum(), data_new['begin'].sum())\n",
    "data_new"
   ]
  },
  {
   "cell_type": "code",
   "execution_count": 136,
   "id": "992bf3e9",
   "metadata": {},
   "outputs": [
    {
     "data": {
      "text/plain": [
       "(0.05, 0.15, 0.8, 123500000)"
      ]
     },
     "execution_count": 136,
     "metadata": {},
     "output_type": "execute_result"
    }
   ],
   "source": [
    "#  Определить величину и структуру основных средств торгового\n",
    "# предприятия на конец года на основе исходной информации, представленной\n",
    "# в таблице\n",
    "data = pd.DataFrame({\n",
    "    'end': (6_175_000, 18_525_000, 98_800_000)},\n",
    "    index=('equipment', 'transport_assets', 'buildings')\n",
    ")\n",
    "data.index.name = 'parameter'\n",
    "(data.loc['equipment', 'end'] / data['end'].sum(),\n",
    "data.loc['transport_assets', 'end'] / data['end'].sum(),\n",
    "data.loc['buildings', 'end'] / data['end'].sum(),\n",
    "data['end'].sum())"
   ]
  },
  {
   "cell_type": "code",
   "execution_count": 137,
   "id": "5925ff8c",
   "metadata": {},
   "outputs": [
    {
     "data": {
      "text/plain": [
       "(0.3, 0.7)"
      ]
     },
     "execution_count": 137,
     "metadata": {},
     "output_type": "execute_result"
    }
   ],
   "source": [
    "# Первоначальная стоимость основных средств предприятия\n",
    "# составляет 40 000 000 руб. Начисленные амортизационные отчисления за три\n",
    "# года составляют 12 000 000 руб. Рассчитать коэффициент износа и\n",
    "# коэффициент годности на конец третьего года эксплуатации.\n",
    "\n",
    "\n",
    "# K износа = Sа накопленная / Sперв, K готов = S ост / S перв\n",
    "K_wear = 12_000_000 / 40_000_000\n",
    "K_ready = (40_000_000 - 12_000_000) / 40_000_000\n",
    "K_wear, K_ready"
   ]
  },
  {
   "cell_type": "code",
   "execution_count": 138,
   "id": "e10ba47d",
   "metadata": {},
   "outputs": [
    {
     "data": {
      "text/plain": [
       "(0.4, 0.6)"
      ]
     },
     "execution_count": 138,
     "metadata": {},
     "output_type": "execute_result"
    }
   ],
   "source": [
    "# Первоначальная стоимость основных средств предприятия\n",
    "# составляет 160 000 000 руб. Амортизационные отчисления рассчитываются\n",
    "# линейным способом. Средняя норма амортизации – 10 %. Рассчитать\n",
    "# коэффициент износа и коэффициент годности на конец четвертого года\n",
    "# эксплуатации.\n",
    "Sa = 160_000_000 * 0.1 * 4\n",
    "K_wear = Sa / 160_000_000\n",
    "K_ready = (160_000_000 - Sa) / 160_000_000\n",
    "K_wear, K_ready"
   ]
  }
 ],
 "metadata": {
  "kernelspec": {
   "display_name": "Python 3 (ipykernel)",
   "language": "python",
   "name": "python3"
  },
  "language_info": {
   "codemirror_mode": {
    "name": "ipython",
    "version": 3
   },
   "file_extension": ".py",
   "mimetype": "text/x-python",
   "name": "python",
   "nbconvert_exporter": "python",
   "pygments_lexer": "ipython3",
   "version": "3.11.2"
  }
 },
 "nbformat": 4,
 "nbformat_minor": 5
}
