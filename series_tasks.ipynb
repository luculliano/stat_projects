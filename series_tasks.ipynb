{
 "cells": [
  {
   "cell_type": "code",
   "execution_count": 18,
   "id": "660bd471",
   "metadata": {},
   "outputs": [
    {
     "name": "stdout",
     "output_type": "stream",
     "text": [
      "[]\n",
      "['# 1. Импортировать модуль и проверить версию\\r']\n",
      "['# 2. Создать объект pandas Series из листа, объекта NumPy, и словаря\\r']\n",
      "['# 3. Преобразовать объект Seris в DataFrame\\r']\n",
      "['# 4. Как объединить несколько объектов Series в Dataframe\\r']\n",
      "['# 5. Присвоить имя индексу объекта Series\\r']\n",
      "['# 6. Получить элементы объекта Series A, которых нет в объекте Series B\\r']\n",
      "['# 7. Получить не пересекающиеся элементы в двух объектах Series\\r']\n",
      "['# 8. Получить от объекта Series показатели описательной статистики\\r']\n",
      "['# 9. Узнать частоту уникальных элементов объекта Series (гистограмма)\\r']\n",
      "['# 10. Заменить все элементы объекта Series на \"Other\", кроме двух наиболее часто встречающихся\\r']\n",
      "['# 11. Создать объект Series в индексах дата каждый день 2018 года, в значениях случайное значение\\r', '# 1. Найти сумму всех вторников\\r', '# 2. Для каждого месяца найти среднее значение\\r']\n",
      "['# 12. Преобразовать объект Series в DataFrame заданной формы (shape)\\r']\n",
      "['# 13. Найти индексы объекта Series кратные 3\\r']\n",
      "['# 14. Получить данные по индексам объекта Series\\r']\n",
      "['# 15. Объединить два объекта Series вертикально и горизонтально\\r']\n",
      "['# 16. Получить индексы объекта Series A, данные которых содержатся в объетке Series B\\r']\n",
      "['# 17. Получить объект Series B, котоырй содержит элементы без повторений объекта A\\r']\n",
      "['# 18. Преобразовать каждый символ объекта Series в верхний регистр\\r']\n",
      "['# 19. Рассчитать количество символов в объекте Series\\r']\n",
      "['# 20. Найти разность между объектом Series и смещением объекта Series на n\\r']\n",
      "[]\n",
      "['# 21.1 Поскольку работа с датой часто встречается в работе, то см. еще один пример\\r']\n",
      "['# 22. Получить год, месяц, день, день недели, номер дня в году от объекта Series (string)\\r']\n",
      "['# 23. Преобразовать даты месяца и года к 7-ому дню\\r']\n",
      "['# 24. Отобрать элементы объекта Series, кторые содержат не менее двух гласных\\r']\n",
      "['# 25. Отобрать e-маилы из объекта Series\\r']\n",
      "['# 26. Получить среднее значение каждого уникального объекта Series s1 через \"маску\" другого объекта Series s2\\r']\n",
      "['# 27. Найти евклидово расстоняие между двумя объектами Series\\r']\n",
      "['# 28. Найти индексы локальных максимумов в объекте Series\\r']\n",
      "['# 29. Заменить пробелы наименее часто встречающимся символом\\r']\n",
      "['# 30. Создать объект Series, который содержит в индексах даты выходных дней субботы,\\r']\n",
      "['# 31. Заполнить пропущенные даты, значением выше (заполненной даты)\\r']\n",
      "['# 32. Вычислить автокорреляцию объекта Series\\r']\n"
     ]
    }
   ],
   "source": [
    "from requests import get\n",
    "from bs4 import BeautifulSoup\n",
    "import re\n",
    "\n",
    "url = 'https://grossmend.com/blog/post/pandas_120_part_1/'\n",
    "\n",
    "headers = {\n",
    "    'user-agent': 'Mozilla/5.0 (Macintosh; Intel Mac OS X 10_15_5) AppleWebKit/537.36 (KHTML, like Gecko) Iridium/2018.11 Safari/537.36 Chrome/71.0.0.0'\n",
    "}\n",
    "\n",
    "def get_tasks(url: str) -> None:\n",
    "    markup = get(url, headers=headers).content.decode()\n",
    "    soup = BeautifulSoup(markup, 'lxml')\n",
    "    print(*(re.findall(r'^(# \\d+\\..+$)', i.text, re.M) \n",
    "            for i in soup.find_all('code', class_='python')), sep='\\n')\n",
    "        \n",
    "get_tasks(url)"
   ]
  },
  {
   "cell_type": "code",
   "execution_count": 22,
   "id": "8696bcf8",
   "metadata": {},
   "outputs": [
    {
     "data": {
      "text/html": [
       "<div>\n",
       "<style scoped>\n",
       "    .dataframe tbody tr th:only-of-type {\n",
       "        vertical-align: middle;\n",
       "    }\n",
       "\n",
       "    .dataframe tbody tr th {\n",
       "        vertical-align: top;\n",
       "    }\n",
       "\n",
       "    .dataframe thead th {\n",
       "        text-align: right;\n",
       "    }\n",
       "</style>\n",
       "<table border=\"1\" class=\"dataframe\">\n",
       "  <thead>\n",
       "    <tr style=\"text-align: right;\">\n",
       "      <th></th>\n",
       "      <th>name</th>\n",
       "      <th>surname</th>\n",
       "      <th>nation</th>\n",
       "    </tr>\n",
       "  </thead>\n",
       "  <tbody>\n",
       "    <tr>\n",
       "      <th>0</th>\n",
       "      <td>Sam</td>\n",
       "      <td>Whoe</td>\n",
       "      <td>USA</td>\n",
       "    </tr>\n",
       "  </tbody>\n",
       "</table>\n",
       "</div>"
      ],
      "text/plain": [
       "  name surname nation\n",
       "0  Sam    Whoe    USA"
      ]
     },
     "execution_count": 22,
     "metadata": {},
     "output_type": "execute_result"
    }
   ],
   "source": [
    "import pandas as pd\n",
    "import numpy as np\n",
    "\n",
    "# 3 из series в dataframe\n",
    "s1 = pd.Series({'name': 'Sam', 'surname': 'Whoe', 'nation': 'USA'})\n",
    "df1 = pd.DataFrame(s1)\n",
    "df1.transpose()"
   ]
  },
  {
   "cell_type": "code",
   "execution_count": 33,
   "id": "3273a935",
   "metadata": {},
   "outputs": [
    {
     "data": {
      "text/html": [
       "<div>\n",
       "<style scoped>\n",
       "    .dataframe tbody tr th:only-of-type {\n",
       "        vertical-align: middle;\n",
       "    }\n",
       "\n",
       "    .dataframe tbody tr th {\n",
       "        vertical-align: top;\n",
       "    }\n",
       "\n",
       "    .dataframe thead th {\n",
       "        text-align: right;\n",
       "    }\n",
       "</style>\n",
       "<table border=\"1\" class=\"dataframe\">\n",
       "  <thead>\n",
       "    <tr style=\"text-align: right;\">\n",
       "      <th></th>\n",
       "      <th>name</th>\n",
       "      <th>surname</th>\n",
       "      <th>nation</th>\n",
       "    </tr>\n",
       "  </thead>\n",
       "  <tbody>\n",
       "    <tr>\n",
       "      <th>0</th>\n",
       "      <td>SamSam</td>\n",
       "      <td>WhoeWhoe</td>\n",
       "      <td>USAUSA</td>\n",
       "    </tr>\n",
       "    <tr>\n",
       "      <th>1</th>\n",
       "      <td>Sam</td>\n",
       "      <td>Whoe</td>\n",
       "      <td>USA</td>\n",
       "    </tr>\n",
       "  </tbody>\n",
       "</table>\n",
       "</div>"
      ],
      "text/plain": [
       "     name   surname  nation\n",
       "0  SamSam  WhoeWhoe  USAUSA\n",
       "1     Sam      Whoe     USA"
      ]
     },
     "execution_count": 33,
     "metadata": {},
     "output_type": "execute_result"
    }
   ],
   "source": [
    "# 4 dataframe из нескольких series\n",
    "s2 = s1 * 2\n",
    "df2 = pd.DataFrame([s2, s1])\n",
    "df2"
   ]
  },
  {
   "cell_type": "code",
   "execution_count": 43,
   "id": "a13da178",
   "metadata": {},
   "outputs": [
    {
     "data": {
      "text/plain": [
       "array(['Whoe', 'USA'], dtype=object)"
      ]
     },
     "execution_count": 43,
     "metadata": {},
     "output_type": "execute_result"
    }
   ],
   "source": [
    "# 6. Получить элементы объекта Series A, которых нет в объекте Series B\n",
    "A = pd.Series({'name': 'Sam', 'surname': 'Whoe', 'nation': 'USA'})\n",
    "B = pd.Series({'name': 'Sam', 'surname': 'Welback', 'nation': 'British'})\n",
    "# A[A.isin(B)]\n",
    "A[A != B].values"
   ]
  },
  {
   "cell_type": "code",
   "execution_count": null,
   "id": "883ea98e",
   "metadata": {},
   "outputs": [],
   "source": []
  }
 ],
 "metadata": {
  "kernelspec": {
   "display_name": "Python 3 (ipykernel)",
   "language": "python",
   "name": "python3"
  },
  "language_info": {
   "codemirror_mode": {
    "name": "ipython",
    "version": 3
   },
   "file_extension": ".py",
   "mimetype": "text/x-python",
   "name": "python",
   "nbconvert_exporter": "python",
   "pygments_lexer": "ipython3",
   "version": "3.11.2"
  }
 },
 "nbformat": 4,
 "nbformat_minor": 5
}
