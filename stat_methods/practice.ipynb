{
 "cells": [
  {
   "cell_type": "code",
   "execution_count": 51,
   "id": "0699fb07",
   "metadata": {},
   "outputs": [],
   "source": [
    "import numpy as np\n",
    "import matplotlib.pyplot as plt\n",
    "import pandas as pd"
   ]
  },
  {
   "cell_type": "markdown",
   "id": "7bc96ec1",
   "metadata": {},
   "source": [
    "## меры центральной тенденции"
   ]
  },
  {
   "cell_type": "code",
   "execution_count": 79,
   "id": "a934e1e0",
   "metadata": {},
   "outputs": [
    {
     "data": {
      "text/plain": [
       "array([151, 194, 172, 196, 174, 197, 175, 189, 160, 173, 192, 165, 175,\n",
       "       190, 155, 156, 191, 162, 152, 199])"
      ]
     },
     "execution_count": 79,
     "metadata": {},
     "output_type": "execute_result"
    }
   ],
   "source": [
    "data = np.array([np.random.randint(150, 200) for _ in range(20)])\n",
    "data"
   ]
  },
  {
   "cell_type": "code",
   "execution_count": 131,
   "id": "21eabbea",
   "metadata": {},
   "outputs": [
    {
     "name": "stdout",
     "output_type": "stream",
     "text": [
      "simple mean: 175.9\n",
      "weighted mean: 175.9\n",
      "mode: [175]\n",
      "median: 174.5\n"
     ]
    }
   ],
   "source": [
    "print('simple mean:', data.mean())\n",
    "print('weighted mean:', np.average(data))\n",
    "print('mode:', pd.Series(data).mode().values)\n",
    "print('median:', np.median(data))"
   ]
  },
  {
   "cell_type": "code",
   "execution_count": 132,
   "id": "b4ff2f6b",
   "metadata": {
    "scrolled": true
   },
   "outputs": [
    {
     "data": {
      "image/png": "[encoded data removed]",
      "text/plain": [
       "<Figure size 640x480 with 1 Axes>"
      ]
     },
     "metadata": {},
     "output_type": "display_data"
    }
   ],
   "source": [
    "series = pd.Series(data)\n",
    "y_points = series.value_counts()\n",
    "x_points = series.value_counts().keys()\n",
    "\n",
    "fig, ax = plt.subplots()\n",
    "ax.bar(x_points, y_points, width=0.5)\n",
    "\n",
    "ax.set_ylim(0, 2.5)\n",
    "ax.set_title('plot (not frequency histogram)')\n",
    "\n",
    "for mode in series.mode():\n",
    "    y = y_points[mode]\n",
    "    ax.annotate('mode', (mode, y), (mode - 0.7, y + 0.1), color='red', rotation=90)"
   ]
  },
  {
   "cell_type": "markdown",
   "id": "00b1ae71",
   "metadata": {},
   "source": [
    "## measures of variability"
   ]
  },
  {
   "cell_type": "code",
   "execution_count": 142,
   "id": "9e26588b",
   "metadata": {},
   "outputs": [
    {
     "data": {
      "text/plain": [
       "array([244.42, 731.85, 921.29,  30.56, 624.47, 453.02, 842.98,  66.81,\n",
       "       610.04, 985.68, 472.85, 363.74,  49.64, 334.85, 615.79,  29.48,\n",
       "       471.04, 472.18,  25.75, 767.48])"
      ]
     },
     "execution_count": 142,
     "metadata": {},
     "output_type": "execute_result"
    }
   ],
   "source": [
    "# выручка 20 компаний за 1 кв. 2000 года в млн. руб.\n",
    "data = np.round(np.random.random_sample(20) * 1000, 2)\n",
    "data"
   ]
  },
  {
   "cell_type": "code",
   "execution_count": 179,
   "id": "a9057291",
   "metadata": {},
   "outputs": [
    {
     "name": "stdout",
     "output_type": "stream",
     "text": [
      "Each element in distribution deviates in average on 302.57 mil rub from mean that is 455.7 mil rub\n",
      "Or use std: 302.56657727515113 mil rub\n"
     ]
    }
   ],
   "source": [
    "# дисперсия = сумма квадратов отклонений значениий от среднего, разделенного на число значений\n",
    "# Если рассматривать Ген. сов-сть - делим на 20, но если выбору - делим на 20 - 1, например,\n",
    "# если выборка из 20 компаний, а Ген. со-сть это все компании в России.\n",
    "mean = np.average(data)\n",
    "# variance of gen distrib\n",
    "variance = sum((data - mean) ** 2) / len(data)\n",
    "# variance of sample\n",
    "# data.var(ddof=1)\n",
    "print(f'Each element in distribution deviates in average on {round(pow(variance, 0.5), 2)} '\n",
    "      f'mil rub from mean that is {round(mean, 2)} mil rub')\n",
    "print(f'Or use std: {data.std()} mil rub')"
   ]
  },
  {
   "cell_type": "code",
   "execution_count": 181,
   "id": "8562a48a",
   "metadata": {
    "scrolled": true
   },
   "outputs": [
    {
     "data": {
      "text/plain": [
       "3.1622776601683795"
      ]
     },
     "execution_count": 181,
     "metadata": {},
     "output_type": "execute_result"
    }
   ],
   "source": [
    "# pow(np.array([15, 2, 7, 1, 9, 3, 8, 5, 9]).var(ddof=1), 0.5)\n",
    "a = np.array([1, 5, 2, 7, 1, 9, 3, 8, 5, 9])\n",
    "a.std(ddof=1)"
   ]
  },
  {
   "cell_type": "markdown",
   "id": "3602794e",
   "metadata": {},
   "source": [
    "### Квантили"
   ]
  },
  {
   "cell_type": "code",
   "execution_count": 229,
   "id": "1c1bc4e8",
   "metadata": {},
   "outputs": [
    {
     "data": {
      "text/plain": [
       "(array([170, 171, 172, 173, 174, 175, 176, 177, 178, 179, 180, 181, 182,\n",
       "        183, 184]),\n",
       " array([185, 186, 187, 188, 189, 190, 191, 192, 193, 194, 195, 196, 197,\n",
       "        198, 199]))"
      ]
     },
     "execution_count": 229,
     "metadata": {},
     "output_type": "execute_result"
    }
   ],
   "source": [
    "# Квартиль - разбиваем упоряд. сов-сть на 4 части 3 точками.\n",
    "data = np.arange(170, 200)\n",
    "data[:15], data[15:]"
   ]
  },
  {
   "cell_type": "code",
   "execution_count": 263,
   "id": "f09509bd",
   "metadata": {
    "scrolled": false
   },
   "outputs": [
    {
     "name": "stdout",
     "output_type": "stream",
     "text": [
      "177.0 184.5 192.0\n"
     ]
    },
    {
     "data": {
      "image/png": "[encoded data removed]",
      "text/plain": [
       "<Figure size 640x480 with 1 Axes>"
      ]
     },
     "metadata": {},
     "output_type": "display_data"
    }
   ],
   "source": [
    "qt1, qt2, qt3 = 177, 184.5, 192\n",
    "qt1, qt2, qt3 = (np.quantile(data, 0.25, method='hazen'), \n",
    "                 np.quantile(data, 0.5, method='hazen'),\n",
    "                 np.quantile(data, 0.75, method='hazen'))\n",
    "print(qt1, qt2, qt3)\n",
    "\n",
    "fig, ax = plt.subplots()\n",
    "ax.set_title('Box plot')\n",
    "ax.boxplot(data)\n",
    "ax.set_yticks(range(170, 201, 2))\n",
    "ax.set_ylabel('height')\n",
    "\n",
    "def make_annotation(ax: plt.Axes) -> None:\n",
    "    ax.text(1+0.1, qt1, 'quartile 1')\n",
    "    ax.text(1+0.1, qt2, 'median', weight='bold')\n",
    "    ax.text(1+0.1, qt3, 'quartile 3')\n",
    "    ax.text(1+0.1, data.min(), 'min')\n",
    "    ax.text(1+0.1, data.max(), 'max')\n",
    "make_annotation(ax)"
   ]
  }
 ],
 "metadata": {
  "kernelspec": {
   "display_name": "Python 3 (ipykernel)",
   "language": "python",
   "name": "python3"
  },
  "language_info": {
   "codemirror_mode": {
    "name": "ipython",
    "version": 3
   },
   "file_extension": ".py",
   "mimetype": "text/x-python",
   "name": "python",
   "nbconvert_exporter": "python",
   "pygments_lexer": "ipython3",
   "version": "3.11.3"
  }
 },
 "nbformat": 4,
 "nbformat_minor": 5
}
