{
 "cells": [
  {
   "cell_type": "code",
   "execution_count": 1,
   "id": "c7461052",
   "metadata": {},
   "outputs": [],
   "source": [
    "import pandas as pd\n"
   ]
  },
  {
   "cell_type": "markdown",
   "id": "fc84f55f",
   "metadata": {},
   "source": [
    "# Series\n",
    "\n",
    "\\- объект, представлящий собой одноомерный массив.\n",
    "\n",
    "*Params*:\n",
    "\n",
    "- iterable\n",
    "- index задаю такой же итер. объект для названий полей, без них только индексы.\n",
    "\n",
    "Можно индексироваться, в т.ч. и по ключам.\n",
    "\n",
    "Выполнять *мат. операции и операции сравнения*, которая будет применена к каждой единице выборки. (Вместо map). Вернет новый объект Series.\n",
    "\n",
    "*Поддерживает*: max, min, sorted, list, len\n"
   ]
  },
  {
   "cell_type": "code",
   "execution_count": 2,
   "id": "71df73df",
   "metadata": {},
   "outputs": [
    {
     "name": "stdout",
     "output_type": "stream",
     "text": [
      "n1      1\n",
      "n2      2\n",
      "n3      3\n",
      "n4      4\n",
      "n5      5\n",
      "n6    six\n",
      "dtype: object\n",
      "Last one is six\n"
     ]
    }
   ],
   "source": [
    "iterable_1 = [1, 2, 3, 4, 5, \"six\"]\n",
    "\n",
    "chosen_data = pd.Series(iterable_1, [\"n1\", \"n2\", \"n3\", \"n4\", \"n5\", \"n6\"])\n",
    "\n",
    "print(chosen_data)\n",
    "print(\"Last one is\", chosen_data[5])"
   ]
  },
  {
   "cell_type": "code",
   "execution_count": 3,
   "id": "2ba44d3e",
   "metadata": {},
   "outputs": [
    {
     "data": {
      "text/plain": [
       "('Misha', 20)"
      ]
     },
     "execution_count": 3,
     "metadata": {},
     "output_type": "execute_result"
    }
   ],
   "source": [
    "iterable_2 = dict(name=\"Misha\", age=20, nation=\"Russian\")\n",
    "\n",
    "chosen_data = pd.Series(iterable_2)\n",
    "\n",
    "chosen_data[0], chosen_data[\"age\"]"
   ]
  },
  {
   "cell_type": "code",
   "execution_count": 7,
   "id": "aca22c40",
   "metadata": {},
   "outputs": [
    {
     "name": "stdout",
     "output_type": "stream",
     "text": [
      "False\n",
      "10 81\n"
     ]
    }
   ],
   "source": [
    "from random import randint\n",
    "iterable_3 = (randint(1, 100) for _ in range(10))\n",
    "chosen_data_1 = pd.Series(iterable_3)\n",
    "chosen_data_2 = chosen_data_1 // 2\n",
    "print(any(chosen_data_1 == chosen_data_2))\n",
    "print(len(chosen_data_1), max(chosen_data_1))"
   ]
  },
  {
   "cell_type": "markdown",
   "id": "97494204",
   "metadata": {},
   "source": [
    "#### DataFrame\n",
    "\n",
    "\\- объект, представлющий собой многомерный массив, т.е. вложенный список.\n",
    "\n"
   ]
  },
  {
   "cell_type": "code",
   "execution_count": 11,
   "id": "890f77a9",
   "metadata": {},
   "outputs": [
    {
     "data": {
      "text/html": [
       "<div>\n",
       "<style scoped>\n",
       "    .dataframe tbody tr th:only-of-type {\n",
       "        vertical-align: middle;\n",
       "    }\n",
       "\n",
       "    .dataframe tbody tr th {\n",
       "        vertical-align: top;\n",
       "    }\n",
       "\n",
       "    .dataframe thead th {\n",
       "        text-align: right;\n",
       "    }\n",
       "</style>\n",
       "<table border=\"1\" class=\"dataframe\">\n",
       "  <thead>\n",
       "    <tr style=\"text-align: right;\">\n",
       "      <th></th>\n",
       "      <th>name</th>\n",
       "      <th>age</th>\n",
       "    </tr>\n",
       "  </thead>\n",
       "  <tbody>\n",
       "    <tr>\n",
       "      <th>0</th>\n",
       "      <td>Alex</td>\n",
       "      <td>10</td>\n",
       "    </tr>\n",
       "    <tr>\n",
       "      <th>1</th>\n",
       "      <td>Alex</td>\n",
       "      <td>10</td>\n",
       "    </tr>\n",
       "  </tbody>\n",
       "</table>\n",
       "</div>"
      ],
      "text/plain": [
       "   name age\n",
       "0  Alex  10\n",
       "1  Alex  10"
      ]
     },
     "execution_count": 11,
     "metadata": {},
     "output_type": "execute_result"
    }
   ],
   "source": [
    "df = pd.DataFrame(({\"name\": \"Alex\", \"age\": \"10\"}, {\"name\": \"Alex\", \"age\": \"10\"}))\n",
    "df"
   ]
  }
 ],
 "metadata": {
  "kernelspec": {
   "display_name": "Python 3 (ipykernel)",
   "language": "python",
   "name": "python3"
  },
  "language_info": {
   "codemirror_mode": {
    "name": "ipython",
    "version": 3
   },
   "file_extension": ".py",
   "mimetype": "text/x-python",
   "name": "python",
   "nbconvert_exporter": "python",
   "pygments_lexer": "ipython3",
   "version": "3.11.3"
  }
 },
 "nbformat": 4,
 "nbformat_minor": 5
}
