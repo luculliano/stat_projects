{
 "cells": [
  {
   "cell_type": "code",
   "execution_count": null,
   "id": "c7461052",
   "metadata": {},
   "outputs": [],
   "source": [
    "import pandas as pd\n"
   ]
  },
  {
   "cell_type": "markdown",
   "id": "fc84f55f",
   "metadata": {},
   "source": [
    "# Series\n",
    "\n",
    "\\- объект, представлящий собой одноомерный массив.\n",
    "\n",
    "*Params*:\n",
    "\n",
    "- iterable\n",
    "- index задаю такой же итер. объект для названий полей, без них только индексы.\n",
    "\n",
    "Можно индексироваться, в т.ч. и по ключам.\n",
    "\n",
    "Выполнять *мат. операции и операции сравнения*, которая будет применена к каждой единице выборки. (Вместо map). Вернет новый объект Series.\n",
    "\n",
    "*Поддерживает*: max, min, sorted, list, len\n"
   ]
  },
  {
   "cell_type": "code",
   "execution_count": 13,
   "id": "71df73df",
   "metadata": {},
   "outputs": [
    {
     "name": "stdout",
     "output_type": "stream",
     "text": [
      "n1      1\n",
      "n2      2\n",
      "n3      3\n",
      "n4      4\n",
      "n5      5\n",
      "n6    six\n",
      "dtype: object\n",
      "Last one is six\n"
     ]
    }
   ],
   "source": [
    "iterable_1 = [1, 2, 3, 4, 5, \"six\"]\n",
    "\n",
    "chosen_data = pd.Series(iterable_1, [\"n1\", \"n2\", \"n3\", \"n4\", \"n5\", \"n6\"])\n",
    "\n",
    "print(chosen_data)\n",
    "print(\"Last one is\", chosen_data[5])"
   ]
  },
  {
   "cell_type": "code",
   "execution_count": 14,
   "id": "2ba44d3e",
   "metadata": {},
   "outputs": [
    {
     "data": {
      "text/plain": [
       "('Misha', 20)"
      ]
     },
     "execution_count": 14,
     "metadata": {},
     "output_type": "execute_result"
    }
   ],
   "source": [
    "iterable_2 = dict(name=\"Misha\", age=20, nation=\"Russian\")\n",
    "\n",
    "chosen_data = pd.Series(iterable_2)\n",
    "\n",
    "chosen_data[0], chosen_data[\"age\"]"
   ]
  },
  {
   "cell_type": "code",
   "execution_count": 63,
   "id": "aca22c40",
   "metadata": {},
   "outputs": [
    {
     "name": "stdout",
     "output_type": "stream",
     "text": [
      "False\n",
      "10 82\n"
     ]
    }
   ],
   "source": [
    "from random import randint\n",
    "iterable_3 = (randint(1, 100) for _ in range(10))\n",
    "chosen_data_1 = pd.Series(iterable_3)\n",
    "chosen_data_2 = chosen_data // 2\n",
    "print(any(chosen_data_1 == chosen_data_2))\n",
    "print(len(chosen_data_1), max(chosen_data_1))"
   ]
  },
  {
   "cell_type": "markdown",
   "id": "97494204",
   "metadata": {},
   "source": [
    "#### DataFrame\n",
    "\n",
    "\\- объект, представлющий собой много мерный массив, т.е. влоденный список.\n",
    "\n"
   ]
  }
 ],
 "metadata": {
  "kernelspec": {
   "display_name": "Python 3 (ipykernel)",
   "language": "python",
   "name": "python3"
  },
  "language_info": {
   "codemirror_mode": {
    "name": "ipython",
    "version": 3
   },
   "file_extension": ".py",
   "mimetype": "text/x-python",
   "name": "python",
   "nbconvert_exporter": "python",
   "pygments_lexer": "ipython3",
   "version": "3.11.2"
  }
 },
 "nbformat": 4,
 "nbformat_minor": 5
}
