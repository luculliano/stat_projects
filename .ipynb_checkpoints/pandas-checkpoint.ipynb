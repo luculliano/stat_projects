{
 "cells": [
  {
   "cell_type": "markdown",
   "id": "82c0b0ab",
   "metadata": {},
   "source": [
    "# pandas\n",
    "\n",
    "\\- библиотека для обработки и анализа данных, работа идет поверх numpy, которая работает на более низком уровне.\n"
   ]
  },
  {
   "cell_type": "code",
   "execution_count": 1,
   "id": "c7461052",
   "metadata": {},
   "outputs": [],
   "source": [
    "import pandas as pd\n"
   ]
  },
  {
   "cell_type": "markdown",
   "id": "fc84f55f",
   "metadata": {},
   "source": [
    "# Series\n",
    "\n",
    "\\- объект, представлящий собой одноомерный массив.\n",
    "\n",
    "При этом в результате имеет поле индексов и выборки, становясь по сути двумерным массивом.\n",
    "\n",
    "*Params*:\n",
    "\n",
    "- iterable\n",
    "- index задаю такой же итер. объект для названий полей, без них только индексы.\n",
    "\n",
    "Можно индексироваться, в т.ч. и по ключам.\n",
    "\n",
    "Выполнять *мат. операции и операции сравнения*, которая будет применена к каждой единице выборки. (Вместо map). Вернет новый объект Series.\n",
    "\n",
    "*Поддерживает*: max, min, sorted, list, len\n"
   ]
  },
  {
   "cell_type": "code",
   "execution_count": 2,
   "id": "71df73df",
   "metadata": {},
   "outputs": [
    {
     "name": "stdout",
     "output_type": "stream",
     "text": [
      "n1      1\n",
      "n2      2\n",
      "n3      3\n",
      "n4      4\n",
      "n5      5\n",
      "n6    six\n",
      "dtype: object\n",
      "Last one is six\n"
     ]
    }
   ],
   "source": [
    "iterable_1 = [1, 2, 3, 4, 5, \"six\"]\n",
    "\n",
    "chosen_data = pd.Series(iterable_1, [\"n1\", \"n2\", \"n3\", \"n4\", \"n5\", \"n6\"])\n",
    "\n",
    "print(chosen_data)\n",
    "print(\"Last one is\", chosen_data[5])"
   ]
  },
  {
   "cell_type": "markdown",
   "id": "8a54f999",
   "metadata": {},
   "source": [
    "#### indexing"
   ]
  },
  {
   "cell_type": "code",
   "execution_count": 7,
   "id": "2ba44d3e",
   "metadata": {},
   "outputs": [
    {
     "data": {
      "text/plain": [
       "(name    Misha\n",
       " age        20\n",
       " dtype: object,\n",
       " 20,\n",
       " name    Misha\n",
       " age        20\n",
       " dtype: object)"
      ]
     },
     "execution_count": 7,
     "metadata": {},
     "output_type": "execute_result"
    }
   ],
   "source": [
    "iterable_2 = dict(name=\"Misha\", age=20, nation=\"Russian\")\n",
    "\n",
    "chosen_data = pd.Series(iterable_2)\n",
    "\n",
    "chosen_data[:2], chosen_data[\"age\"], chosen_data[['name', 'age']]"
   ]
  },
  {
   "cell_type": "markdown",
   "id": "869fc32f",
   "metadata": {},
   "source": [
    "#### math operations"
   ]
  },
  {
   "cell_type": "code",
   "execution_count": 4,
   "id": "aca22c40",
   "metadata": {},
   "outputs": [
    {
     "name": "stdout",
     "output_type": "stream",
     "text": [
      "False\n",
      "10 90\n"
     ]
    }
   ],
   "source": [
    "from random import randint\n",
    "iterable_3 = (randint(1, 100) for _ in range(10))\n",
    "chosen_data_1 = pd.Series(iterable_3)\n",
    "chosen_data_2 = chosen_data_1 // 2\n",
    "print(any(chosen_data_1 == chosen_data_2))\n",
    "print(len(chosen_data_1), max(chosen_data_1))"
   ]
  },
  {
   "cell_type": "markdown",
   "id": "e9976475",
   "metadata": {},
   "source": [
    "#### attr index, attr values"
   ]
  },
  {
   "cell_type": "code",
   "execution_count": 6,
   "id": "e5aff84b",
   "metadata": {},
   "outputs": [
    {
     "data": {
      "text/plain": [
       "(Index(['year', 'year', 'year', 'year', 'year', 'year', 'year', 'year', 'year'], dtype='object'),\n",
       " array([1995, 1996, 1997, 1998, 1999, 2000, 2001, 2002, 2003], dtype=int64),\n",
       " numpy.ndarray)"
      ]
     },
     "execution_count": 6,
     "metadata": {},
     "output_type": "execute_result"
    }
   ],
   "source": [
    "source = map(int, '1995 1996 1997 1998 1999 2000 2001 2002 2003'.split())\n",
    "dataset = pd.Series(source, ['year']*9)\n",
    "dataset.index, dataset.values, type(dataset.values)"
   ]
  },
  {
   "cell_type": "markdown",
   "id": "6d4f82e8",
   "metadata": {},
   "source": [
    "#### assignment"
   ]
  },
  {
   "cell_type": "code",
   "execution_count": 14,
   "id": "ba66d0c3",
   "metadata": {},
   "outputs": [
    {
     "data": {
      "text/plain": [
       "year    1995\n",
       "year    1996\n",
       "year    1997\n",
       "year    1998\n",
       "year    1999\n",
       "year    2000\n",
       "year    2001\n",
       "year    2002\n",
       "year    2010\n",
       "dtype: int64"
      ]
     },
     "execution_count": 14,
     "metadata": {},
     "output_type": "execute_result"
    }
   ],
   "source": [
    "dataset[-1] = 2010\n",
    "dataset"
   ]
  },
  {
   "cell_type": "markdown",
   "id": "a946a420",
   "metadata": {},
   "source": [
    "При создании Series на основе ndarray единицысовокупности будут ссылаться, а не копироваться."
   ]
  },
  {
   "cell_type": "code",
   "execution_count": 35,
   "id": "37a3a050",
   "metadata": {},
   "outputs": [
    {
     "data": {
      "text/plain": [
       "(0      1\n",
       " 1      2\n",
       " 2      3\n",
       " 3    100\n",
       " dtype: int32,\n",
       " numpy.ndarray)"
      ]
     },
     "execution_count": 35,
     "metadata": {},
     "output_type": "execute_result"
    }
   ],
   "source": [
    "import numpy as np\n",
    "\n",
    "arr = np.array([1, 2, 3, 4])\n",
    "s1 = pd.Series(arr)\n",
    "arr[-1] = 100\n",
    "s1, type(arr)"
   ]
  },
  {
   "cell_type": "markdown",
   "id": "fb40660a",
   "metadata": {},
   "source": [
    "Фильтрация данных. Воозвращается новый объект."
   ]
  },
  {
   "cell_type": "code",
   "execution_count": 40,
   "id": "0f3dd5ca",
   "metadata": {},
   "outputs": [
    {
     "data": {
      "text/plain": [
       "(array([  2, 100]),\n",
       " 2      3\n",
       " 3    100\n",
       " dtype: int32,\n",
       " 0    False\n",
       " 1    False\n",
       " 2     True\n",
       " 3     True\n",
       " dtype: bool)"
      ]
     },
     "execution_count": 40,
     "metadata": {},
     "output_type": "execute_result"
    }
   ],
   "source": [
    "arr[arr % 2 == 0], s1[s1 > 2], s1 > 2"
   ]
  },
  {
   "cell_type": "markdown",
   "id": "ee7fd52d",
   "metadata": {},
   "source": [
    "m unique() вернет array с уникальными значениями"
   ]
  },
  {
   "cell_type": "code",
   "execution_count": 41,
   "id": "09d2f33c",
   "metadata": {},
   "outputs": [
    {
     "data": {
      "text/plain": [
       "array([1, 2, 3, 4, 5, 6], dtype=int64)"
      ]
     },
     "execution_count": 41,
     "metadata": {},
     "output_type": "execute_result"
    }
   ],
   "source": [
    "s = pd.Series((1, 1, 1, 2, 3, 2, 4, 5, 5, 6, 6))\n",
    "s.unique()"
   ]
  },
  {
   "cell_type": "markdown",
   "id": "150b5ab5",
   "metadata": {},
   "source": [
    "m value_counts вернет двумерный массив, содержащий знаечние и его частоту.\n",
    "Также возвращает уникальные values."
   ]
  },
  {
   "cell_type": "code",
   "execution_count": 42,
   "id": "3d2c484f",
   "metadata": {},
   "outputs": [
    {
     "data": {
      "text/plain": [
       "1    3\n",
       "2    2\n",
       "5    2\n",
       "6    2\n",
       "3    1\n",
       "4    1\n",
       "Name: count, dtype: int64"
      ]
     },
     "execution_count": 42,
     "metadata": {},
     "output_type": "execute_result"
    }
   ],
   "source": [
    "s.value_counts()"
   ]
  },
  {
   "cell_type": "markdown",
   "id": "34e5d67e",
   "metadata": {},
   "source": [
    "m isin(iterable) вернет True для единицы выборки если она есть в iterable"
   ]
  },
  {
   "cell_type": "code",
   "execution_count": null,
   "id": "6b7b2dc6",
   "metadata": {},
   "outputs": [],
   "source": [
    "cond = s.isin((2, 3, 10))\n",
    "s[cond]"
   ]
  },
  {
   "cell_type": "markdown",
   "id": "53b8334c",
   "metadata": {},
   "source": [
    "#### numpy.NaN\n",
    "\n",
    "от Not a Number как None, получается при различных ошибочных вычислениях.\n",
    "\n",
    "m isnull, m notnull позволяют создать условия, в которых единица принимает или не принимает NaN значение."
   ]
  },
  {
   "cell_type": "code",
   "execution_count": 54,
   "id": "f7dd856e",
   "metadata": {},
   "outputs": [
    {
     "data": {
      "text/plain": [
       "(3   NaN\n",
       " dtype: float64,\n",
       " 0    1.0\n",
       " 1    2.0\n",
       " 2    3.0\n",
       " 4    5.0\n",
       " dtype: float64)"
      ]
     },
     "execution_count": 54,
     "metadata": {},
     "output_type": "execute_result"
    }
   ],
   "source": [
    "s1 = pd.Series([1, 2, 3, np.NaN, 5])\n",
    "s1[s1.isnull()], s1[s1.notnull()]"
   ]
  },
  {
   "cell_type": "markdown",
   "id": "340261bd",
   "metadata": {},
   "source": [
    "Операции двуг с другом. Имеет значеие одинаковые индексы. Если они разные, создаст общий массив, но со значениями NaN.\n",
    "\n",
    "m sort_values и sort_indexes"
   ]
  },
  {
   "cell_type": "code",
   "execution_count": 60,
   "id": "14624973",
   "metadata": {},
   "outputs": [
    {
     "data": {
      "text/plain": [
       "yellow    2000.0\n",
       "black     1400.0\n",
       "orange       NaN\n",
       "pink         NaN\n",
       "red          NaN\n",
       "dtype: float64"
      ]
     },
     "execution_count": 60,
     "metadata": {},
     "output_type": "execute_result"
    }
   ],
   "source": [
    "mydict1 = {'red':400,'yellow':1000,'black':700}\n",
    "mydict2 = {'pink':400,'yellow':1000,'black':700, 'orange': 900}\n",
    "s1, s2 = pd.Series(mydict1), pd.Series(mydict2)\n",
    "s3 = s1 + s2\n",
    "# s3[s3.notnull()]\n",
    "s3.sort_values(ascending=False)"
   ]
  },
  {
   "cell_type": "markdown",
   "id": "97494204",
   "metadata": {},
   "source": [
    "# DataFrame\n",
    "\n",
    "\\- объект, представлющий собой многомерный массив, т.е. вложенный список.\n",
    "\n"
   ]
  },
  {
   "cell_type": "code",
   "execution_count": 5,
   "id": "890f77a9",
   "metadata": {},
   "outputs": [
    {
     "data": {
      "text/html": [
       "<div>\n",
       "<style scoped>\n",
       "    .dataframe tbody tr th:only-of-type {\n",
       "        vertical-align: middle;\n",
       "    }\n",
       "\n",
       "    .dataframe tbody tr th {\n",
       "        vertical-align: top;\n",
       "    }\n",
       "\n",
       "    .dataframe thead th {\n",
       "        text-align: right;\n",
       "    }\n",
       "</style>\n",
       "<table border=\"1\" class=\"dataframe\">\n",
       "  <thead>\n",
       "    <tr style=\"text-align: right;\">\n",
       "      <th></th>\n",
       "      <th>name</th>\n",
       "      <th>age</th>\n",
       "    </tr>\n",
       "  </thead>\n",
       "  <tbody>\n",
       "    <tr>\n",
       "      <th>0</th>\n",
       "      <td>Alex</td>\n",
       "      <td>10</td>\n",
       "    </tr>\n",
       "    <tr>\n",
       "      <th>1</th>\n",
       "      <td>Alex</td>\n",
       "      <td>10</td>\n",
       "    </tr>\n",
       "  </tbody>\n",
       "</table>\n",
       "</div>"
      ],
      "text/plain": [
       "   name age\n",
       "0  Alex  10\n",
       "1  Alex  10"
      ]
     },
     "execution_count": 5,
     "metadata": {},
     "output_type": "execute_result"
    }
   ],
   "source": [
    "df = pd.DataFrame(({\"name\": \"Alex\", \"age\": \"10\"}, {\"name\": \"Alex\", \"age\": \"10\"}))\n",
    "df"
   ]
  }
 ],
 "metadata": {
  "kernelspec": {
   "display_name": "Python 3 (ipykernel)",
   "language": "python",
   "name": "python3"
  },
  "language_info": {
   "codemirror_mode": {
    "name": "ipython",
    "version": 3
   },
   "file_extension": ".py",
   "mimetype": "text/x-python",
   "name": "python",
   "nbconvert_exporter": "python",
   "pygments_lexer": "ipython3",
   "version": "3.11.2"
  }
 },
 "nbformat": 4,
 "nbformat_minor": 5
}
