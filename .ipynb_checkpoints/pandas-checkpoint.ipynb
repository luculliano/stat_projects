{
 "cells": [
  {
   "cell_type": "markdown",
   "id": "82c0b0ab",
   "metadata": {},
   "source": [
    "# pandas\n",
    "\n",
    "\\- библиотека для обработки и анализа данных, работа идет поверх numpy, которая работает на более низком уровне.\n"
   ]
  },
  {
   "cell_type": "code",
   "execution_count": 2,
   "id": "c7461052",
   "metadata": {},
   "outputs": [],
   "source": [
    "import pandas as pd\n"
   ]
  },
  {
   "cell_type": "markdown",
   "id": "fc84f55f",
   "metadata": {},
   "source": [
    "# Series\n",
    "\n",
    "\\- объект, представлящий собой одноомерный массив.\n",
    "\n",
    "При этом в результате имеет поле индексов и выборки, становясь по сути двумерным массивом.\n",
    "\n",
    "*Params*:\n",
    "\n",
    "- iterable\n",
    "- index задаю такой же итер. объект для названий полей, без них только индексы.\n",
    "\n",
    "Можно индексироваться, в т.ч. и по ключам.\n",
    "\n",
    "Выполнять *мат. операции и операции сравнения*, которая будет применена к каждой единице выборки. (Вместо map). Вернет новый объект Series.\n",
    "\n",
    "*Поддерживает*: max, min, sorted, list, len\n"
   ]
  },
  {
   "cell_type": "code",
   "execution_count": 2,
   "id": "71df73df",
   "metadata": {},
   "outputs": [
    {
     "name": "stdout",
     "output_type": "stream",
     "text": [
      "n1      1\n",
      "n2      2\n",
      "n3      3\n",
      "n4      4\n",
      "n5      5\n",
      "n6    six\n",
      "dtype: object\n",
      "Last one is six\n"
     ]
    }
   ],
   "source": [
    "iterable_1 = [1, 2, 3, 4, 5, \"six\"]\n",
    "\n",
    "chosen_data = pd.Series(iterable_1, [\"n1\", \"n2\", \"n3\", \"n4\", \"n5\", \"n6\"])\n",
    "\n",
    "print(chosen_data)\n",
    "print(\"Last one is\", chosen_data[5])"
   ]
  },
  {
   "cell_type": "markdown",
   "id": "b6ce2f4e",
   "metadata": {},
   "source": [
    "#### indexing"
   ]
  },
  {
   "cell_type": "code",
   "execution_count": 7,
   "id": "2ba44d3e",
   "metadata": {},
   "outputs": [
    {
     "data": {
      "text/plain": [
       "(name    Misha\n",
       " age        20\n",
       " dtype: object,\n",
       " 20,\n",
       " name    Misha\n",
       " age        20\n",
       " dtype: object)"
      ]
     },
     "execution_count": 7,
     "metadata": {},
     "output_type": "execute_result"
    }
   ],
   "source": [
    "iterable_2 = dict(name=\"Misha\", age=20, nation=\"Russian\")\n",
    "\n",
    "chosen_data = pd.Series(iterable_2)\n",
    "\n",
    "chosen_data[:2], chosen_data[\"age\"], chosen_data[['name', 'age']]"
   ]
  },
  {
   "cell_type": "markdown",
   "id": "8f4348cc",
   "metadata": {},
   "source": [
    "#### math operations"
   ]
  },
  {
   "cell_type": "code",
   "execution_count": 4,
   "id": "aca22c40",
   "metadata": {},
   "outputs": [
    {
     "name": "stdout",
     "output_type": "stream",
     "text": [
      "False\n",
      "10 90\n"
     ]
    }
   ],
   "source": [
    "from random import randint\n",
    "iterable_3 = (randint(1, 100) for _ in range(10))\n",
    "chosen_data_1 = pd.Series(iterable_3)\n",
    "chosen_data_2 = chosen_data_1 // 2\n",
    "print(any(chosen_data_1 == chosen_data_2))\n",
    "print(len(chosen_data_1), max(chosen_data_1))"
   ]
  },
  {
   "cell_type": "markdown",
   "id": "6dcd8162",
   "metadata": {},
   "source": [
    "#### attr index, attr values"
   ]
  },
  {
   "cell_type": "code",
   "execution_count": 6,
   "id": "ff2a13b8",
   "metadata": {},
   "outputs": [
    {
     "data": {
      "text/plain": [
       "(Index(['year', 'year', 'year', 'year', 'year', 'year', 'year', 'year', 'year'], dtype='object'),\n",
       " array([1995, 1996, 1997, 1998, 1999, 2000, 2001, 2002, 2003], dtype=int64),\n",
       " numpy.ndarray)"
      ]
     },
     "execution_count": 6,
     "metadata": {},
     "output_type": "execute_result"
    }
   ],
   "source": [
    "source = map(int, '1995 1996 1997 1998 1999 2000 2001 2002 2003'.split())\n",
    "dataset = pd.Series(source, ['year']*9)\n",
    "dataset.index, dataset.values, type(dataset.values)"
   ]
  },
  {
   "cell_type": "markdown",
   "id": "63be5a1f",
   "metadata": {},
   "source": [
    "#### assignment"
   ]
  },
  {
   "cell_type": "code",
   "execution_count": 14,
   "id": "24607ec7",
   "metadata": {},
   "outputs": [
    {
     "data": {
      "text/plain": [
       "year    1995\n",
       "year    1996\n",
       "year    1997\n",
       "year    1998\n",
       "year    1999\n",
       "year    2000\n",
       "year    2001\n",
       "year    2002\n",
       "year    2010\n",
       "dtype: int64"
      ]
     },
     "execution_count": 14,
     "metadata": {},
     "output_type": "execute_result"
    }
   ],
   "source": [
    "dataset[-1] = 2010\n",
    "dataset"
   ]
  },
  {
   "cell_type": "markdown",
   "id": "7f439c82",
   "metadata": {},
   "source": [
    "При создании Series на основе ndarray единицысовокупности будут ссылаться, а не копироваться."
   ]
  },
  {
   "cell_type": "code",
   "execution_count": 35,
   "id": "573226fe",
   "metadata": {},
   "outputs": [
    {
     "data": {
      "text/plain": [
       "(0      1\n",
       " 1      2\n",
       " 2      3\n",
       " 3    100\n",
       " dtype: int32,\n",
       " numpy.ndarray)"
      ]
     },
     "execution_count": 35,
     "metadata": {},
     "output_type": "execute_result"
    }
   ],
   "source": [
    "import numpy as np\n",
    "\n",
    "arr = np.array([1, 2, 3, 4])\n",
    "s1 = pd.Series(arr)\n",
    "arr[-1] = 100\n",
    "s1, type(arr)"
   ]
  },
  {
   "cell_type": "markdown",
   "id": "7c73db5a",
   "metadata": {},
   "source": [
    "Фильтрация данных. Воозвращается новый объект."
   ]
  },
  {
   "cell_type": "code",
   "execution_count": 40,
   "id": "c1e7ac1f",
   "metadata": {},
   "outputs": [
    {
     "data": {
      "text/plain": [
       "(array([  2, 100]),\n",
       " 2      3\n",
       " 3    100\n",
       " dtype: int32,\n",
       " 0    False\n",
       " 1    False\n",
       " 2     True\n",
       " 3     True\n",
       " dtype: bool)"
      ]
     },
     "execution_count": 40,
     "metadata": {},
     "output_type": "execute_result"
    }
   ],
   "source": [
    "arr[arr % 2 == 0], s1[s1 > 2], s1 > 2"
   ]
  },
  {
   "cell_type": "markdown",
   "id": "473d14fa",
   "metadata": {},
   "source": [
    "m unique() вернет array с уникальными значениями"
   ]
  },
  {
   "cell_type": "code",
   "execution_count": 41,
   "id": "7354c627",
   "metadata": {},
   "outputs": [
    {
     "data": {
      "text/plain": [
       "array([1, 2, 3, 4, 5, 6], dtype=int64)"
      ]
     },
     "execution_count": 41,
     "metadata": {},
     "output_type": "execute_result"
    }
   ],
   "source": [
    "s = pd.Series((1, 1, 1, 2, 3, 2, 4, 5, 5, 6, 6))\n",
    "s.unique()"
   ]
  },
  {
   "cell_type": "markdown",
   "id": "30123f17",
   "metadata": {},
   "source": [
    "m value_counts вернет двумерный массив, содержащий знаечние и его частоту.\n",
    "Также возвращает уникальные values."
   ]
  },
  {
   "cell_type": "code",
   "execution_count": 42,
   "id": "c0dfdf40",
   "metadata": {},
   "outputs": [
    {
     "data": {
      "text/plain": [
       "1    3\n",
       "2    2\n",
       "5    2\n",
       "6    2\n",
       "3    1\n",
       "4    1\n",
       "Name: count, dtype: int64"
      ]
     },
     "execution_count": 42,
     "metadata": {},
     "output_type": "execute_result"
    }
   ],
   "source": [
    "s.value_counts()"
   ]
  },
  {
   "cell_type": "markdown",
   "id": "ee4a743f",
   "metadata": {},
   "source": [
    "m isin(iterable) вернет True для единицы выборки если она есть в iterable"
   ]
  },
  {
   "cell_type": "code",
   "execution_count": null,
   "id": "94356bd3",
   "metadata": {},
   "outputs": [],
   "source": [
    "cond = s.isin((2, 3, 10))\n",
    "s[cond]"
   ]
  },
  {
   "cell_type": "markdown",
   "id": "d9d9a9c9",
   "metadata": {},
   "source": [
    "#### numpy.NaN\n",
    "\n",
    "от Not a Number как None, получается при различных ошибочных вычислениях.\n",
    "\n",
    "m isnull, m notnull позволяют создать условия, в которых единица принимает или не принимает NaN значение."
   ]
  },
  {
   "cell_type": "code",
   "execution_count": 54,
   "id": "3131e715",
   "metadata": {},
   "outputs": [
    {
     "data": {
      "text/plain": [
       "(3   NaN\n",
       " dtype: float64,\n",
       " 0    1.0\n",
       " 1    2.0\n",
       " 2    3.0\n",
       " 4    5.0\n",
       " dtype: float64)"
      ]
     },
     "execution_count": 54,
     "metadata": {},
     "output_type": "execute_result"
    }
   ],
   "source": [
    "s1 = pd.Series([1, 2, 3, np.NaN, 5])\n",
    "s1[s1.isnull()], s1[s1.notnull()]"
   ]
  },
  {
   "cell_type": "markdown",
   "id": "05fe07bc",
   "metadata": {},
   "source": [
    "Операции двуг с другом. Имеет значеие одинаковые индексы. Если они разные, создаст общий массив, но со значениями NaN.\n",
    "\n",
    "Порядок сложения не важен.\n",
    "\n",
    "m sort_values и sort_indexes"
   ]
  },
  {
   "cell_type": "code",
   "execution_count": 62,
   "id": "3c3f8a92",
   "metadata": {},
   "outputs": [
    {
     "data": {
      "text/plain": [
       "yellow    2000.0\n",
       "black     1400.0\n",
       "orange       NaN\n",
       "pink         NaN\n",
       "red          NaN\n",
       "dtype: float64"
      ]
     },
     "execution_count": 62,
     "metadata": {},
     "output_type": "execute_result"
    }
   ],
   "source": [
    "mydict1 = {'red':400,'yellow':1000,'black':700}\n",
    "mydict2 = {'pink':400,'yellow':1000,'black':700, 'orange': 900}\n",
    "s1, s2 = pd.Series(mydict1), pd.Series(mydict2)\n",
    "s3 = s1 + s2\n",
    "# s3[s3.notnull()]\n",
    "s3.sort_values(ascending=False)"
   ]
  },
  {
   "cell_type": "markdown",
   "id": "97494204",
   "metadata": {},
   "source": [
    "# DataFrame\n",
    "\n",
    "\\- объект, представлющий собой многомерный массив, т.е. вложенный список.\n",
    "\n",
    "Ключи яв-ся выборочной совокупностию, значения яв-ся единицами совокупности. Каждая выборка, т.е. столбец имеет один тип данных.\n",
    "\n",
    "Аналогично Series есть поле с индексами, но не только для радов распределения (строк), но и для столбцов аналогично.\n",
    "\n",
    "При создание экземпляра, он всегда будет хранить Series объекты."
   ]
  },
  {
   "cell_type": "code",
   "execution_count": 16,
   "id": "890f77a9",
   "metadata": {},
   "outputs": [],
   "source": [
    "\n",
    "# df = pd.DataFrame(({\"name\": \"Alex\", \"age\": \"10\"}, {\"name\": \"Mark\", \"age\": \"12\"}))\n",
    "s1 = pd.Series([1, 2, 3, 4])\n",
    "s2 = pd.Series({'name': 'Alex', 'weight': 100})\n",
    "df1 = pd.DataFrame(s1)\n",
    "df2 = pd.DataFrame(range(0, 21, 5))"
   ]
  },
  {
   "cell_type": "markdown",
   "id": "0e8dcbea",
   "metadata": {},
   "source": [
    "Params: сolumns отвечает за названия столбцов, причем если больше полей в data можно таким образом ограницить. index за названия рядов."
   ]
  },
  {
   "cell_type": "code",
   "execution_count": 23,
   "id": "66be5969",
   "metadata": {},
   "outputs": [
    {
     "data": {
      "text/html": [
       "<div>\n",
       "<style scoped>\n",
       "    .dataframe tbody tr th:only-of-type {\n",
       "        vertical-align: middle;\n",
       "    }\n",
       "\n",
       "    .dataframe tbody tr th {\n",
       "        vertical-align: top;\n",
       "    }\n",
       "\n",
       "    .dataframe thead th {\n",
       "        text-align: right;\n",
       "    }\n",
       "</style>\n",
       "<table border=\"1\" class=\"dataframe\">\n",
       "  <thead>\n",
       "    <tr style=\"text-align: right;\">\n",
       "      <th></th>\n",
       "      <th>name</th>\n",
       "      <th>mark</th>\n",
       "    </tr>\n",
       "  </thead>\n",
       "  <tbody>\n",
       "    <tr>\n",
       "      <th>1</th>\n",
       "      <td>misha</td>\n",
       "      <td>2</td>\n",
       "    </tr>\n",
       "    <tr>\n",
       "      <th>2</th>\n",
       "      <td>yana</td>\n",
       "      <td>3</td>\n",
       "    </tr>\n",
       "    <tr>\n",
       "      <th>3</th>\n",
       "      <td>roma</td>\n",
       "      <td>4</td>\n",
       "    </tr>\n",
       "  </tbody>\n",
       "</table>\n",
       "</div>"
      ],
      "text/plain": [
       "    name  mark\n",
       "1  misha     2\n",
       "2   yana     3\n",
       "3   roma     4"
      ]
     },
     "execution_count": 23,
     "metadata": {},
     "output_type": "execute_result"
    }
   ],
   "source": [
    "data = {'name': ['misha', 'yana', 'roma'], 'mark': [2, 3, 4], 'status': ['done', 'done', 'done']}\n",
    "df3 = pd.DataFrame(data, columns=['name', 'mark'], index=[1, 2, 3])\n",
    "df3"
   ]
  },
  {
   "cell_type": "markdown",
   "id": "4f9b50aa",
   "metadata": {},
   "source": [
    "atrrs columns and index return Index type both\n",
    "\n",
    "attr values retuns all data as array"
   ]
  },
  {
   "cell_type": "code",
   "execution_count": 36,
   "id": "9786d0ef",
   "metadata": {},
   "outputs": [
    {
     "data": {
      "text/plain": [
       "array([['misha', 2],\n",
       "       ['yana', 3],\n",
       "       ['roma', 4]], dtype=object)"
      ]
     },
     "execution_count": 36,
     "metadata": {},
     "output_type": "execute_result"
    }
   ],
   "source": [
    "df3.columns, df3.index\n",
    "df3.values"
   ]
  },
  {
   "cell_type": "markdown",
   "id": "db111e8a",
   "metadata": {},
   "source": [
    "Получить колонку можно и по атрибуту"
   ]
  },
  {
   "cell_type": "code",
   "execution_count": 39,
   "id": "bf15112e",
   "metadata": {},
   "outputs": [
    {
     "data": {
      "text/plain": [
       "(1    misha\n",
       " 2     yana\n",
       " 3     roma\n",
       " Name: name, dtype: object,\n",
       " 1    misha\n",
       " 2     yana\n",
       " 3     roma\n",
       " Name: name, dtype: object)"
      ]
     },
     "execution_count": 39,
     "metadata": {},
     "output_type": "execute_result"
    }
   ],
   "source": [
    "df3.name, df3['name']"
   ]
  },
  {
   "cell_type": "markdown",
   "id": "0daa204d",
   "metadata": {},
   "source": [
    "Получить ряд модно через атрибу loc и название индекса"
   ]
  },
  {
   "cell_type": "code",
   "execution_count": 42,
   "id": "805e90fd",
   "metadata": {},
   "outputs": [
    {
     "data": {
      "text/plain": [
       "name    misha\n",
       "mark        2\n",
       "Name: 1, dtype: object"
      ]
     },
     "execution_count": 42,
     "metadata": {},
     "output_type": "execute_result"
    }
   ],
   "source": [
    "df3.loc[1]"
   ]
  },
  {
   "cell_type": "markdown",
   "id": "f41bbe96",
   "metadata": {},
   "source": [
    "Получить значение: индексирую сначала по столбцу, после по индексу ряда."
   ]
  },
  {
   "cell_type": "code",
   "execution_count": 19,
   "id": "4fc07638",
   "metadata": {},
   "outputs": [
    {
     "data": {
      "text/plain": [
       "20"
      ]
     },
     "execution_count": 19,
     "metadata": {},
     "output_type": "execute_result"
    }
   ],
   "source": [
    "df2[0][4]"
   ]
  },
  {
   "cell_type": "markdown",
   "id": "f636d3d0",
   "metadata": {},
   "source": [
    "Срез для строк"
   ]
  },
  {
   "cell_type": "code",
   "execution_count": null,
   "id": "022a155a",
   "metadata": {},
   "outputs": [],
   "source": [
    "df3[:1], df3.loc[[1,2]]"
   ]
  },
  {
   "cell_type": "markdown",
   "id": "f6464516",
   "metadata": {},
   "source": [
    "#### изменение датасета"
   ]
  },
  {
   "cell_type": "code",
   "execution_count": 74,
   "id": "68eb8b36",
   "metadata": {},
   "outputs": [
    {
     "data": {
      "text/html": [
       "<div>\n",
       "<style scoped>\n",
       "    .dataframe tbody tr th:only-of-type {\n",
       "        vertical-align: middle;\n",
       "    }\n",
       "\n",
       "    .dataframe tbody tr th {\n",
       "        vertical-align: top;\n",
       "    }\n",
       "\n",
       "    .dataframe thead th {\n",
       "        text-align: right;\n",
       "    }\n",
       "</style>\n",
       "<table border=\"1\" class=\"dataframe\">\n",
       "  <thead>\n",
       "    <tr style=\"text-align: right;\">\n",
       "      <th>items</th>\n",
       "      <th>name</th>\n",
       "      <th>mark</th>\n",
       "    </tr>\n",
       "    <tr>\n",
       "      <th>id</th>\n",
       "      <th></th>\n",
       "      <th></th>\n",
       "    </tr>\n",
       "  </thead>\n",
       "  <tbody>\n",
       "    <tr>\n",
       "      <th>1</th>\n",
       "      <td>misha</td>\n",
       "      <td>2</td>\n",
       "    </tr>\n",
       "    <tr>\n",
       "      <th>2</th>\n",
       "      <td>yana</td>\n",
       "      <td>3</td>\n",
       "    </tr>\n",
       "    <tr>\n",
       "      <th>3</th>\n",
       "      <td>roma</td>\n",
       "      <td>4</td>\n",
       "    </tr>\n",
       "  </tbody>\n",
       "</table>\n",
       "</div>"
      ],
      "text/plain": [
       "items   name  mark\n",
       "id                \n",
       "1      misha     2\n",
       "2       yana     3\n",
       "3       roma     4"
      ]
     },
     "execution_count": 74,
     "metadata": {},
     "output_type": "execute_result"
    }
   ],
   "source": [
    "# сделать имя для для названия колонок\n",
    "df3.columns.name = 'items'\n",
    "\n",
    "# сделать ия для названия индексов\n",
    "df3.index.name = 'id'\n",
    "df3"
   ]
  },
  {
   "cell_type": "markdown",
   "id": "062b6e1d",
   "metadata": {},
   "source": [
    "новая колонка"
   ]
  },
  {
   "cell_type": "code",
   "execution_count": 76,
   "id": "0e212766",
   "metadata": {},
   "outputs": [
    {
     "data": {
      "text/html": [
       "<div>\n",
       "<style scoped>\n",
       "    .dataframe tbody tr th:only-of-type {\n",
       "        vertical-align: middle;\n",
       "    }\n",
       "\n",
       "    .dataframe tbody tr th {\n",
       "        vertical-align: top;\n",
       "    }\n",
       "\n",
       "    .dataframe thead th {\n",
       "        text-align: right;\n",
       "    }\n",
       "</style>\n",
       "<table border=\"1\" class=\"dataframe\">\n",
       "  <thead>\n",
       "    <tr style=\"text-align: right;\">\n",
       "      <th>items</th>\n",
       "      <th>name</th>\n",
       "      <th>mark</th>\n",
       "      <th>allow</th>\n",
       "    </tr>\n",
       "    <tr>\n",
       "      <th>id</th>\n",
       "      <th></th>\n",
       "      <th></th>\n",
       "      <th></th>\n",
       "    </tr>\n",
       "  </thead>\n",
       "  <tbody>\n",
       "    <tr>\n",
       "      <th>1</th>\n",
       "      <td>misha</td>\n",
       "      <td>2</td>\n",
       "      <td>False</td>\n",
       "    </tr>\n",
       "    <tr>\n",
       "      <th>2</th>\n",
       "      <td>yana</td>\n",
       "      <td>3</td>\n",
       "      <td>False</td>\n",
       "    </tr>\n",
       "    <tr>\n",
       "      <th>3</th>\n",
       "      <td>roma</td>\n",
       "      <td>4</td>\n",
       "      <td>False</td>\n",
       "    </tr>\n",
       "  </tbody>\n",
       "</table>\n",
       "</div>"
      ],
      "text/plain": [
       "items   name  mark  allow\n",
       "id                       \n",
       "1      misha     2  False\n",
       "2       yana     3  False\n",
       "3       roma     4  False"
      ]
     },
     "execution_count": 76,
     "metadata": {},
     "output_type": "execute_result"
    }
   ],
   "source": [
    "df3['allow'] = False\n",
    "df3"
   ]
  },
  {
   "cell_type": "markdown",
   "id": "bb9feffe",
   "metadata": {},
   "source": [
    "len вернет кол-во радов расределения"
   ]
  },
  {
   "cell_type": "code",
   "execution_count": 95,
   "id": "cc8acfe5",
   "metadata": {},
   "outputs": [
    {
     "data": {
      "text/plain": [
       "3"
      ]
     },
     "execution_count": 95,
     "metadata": {},
     "output_type": "execute_result"
    }
   ],
   "source": [
    "df3['total'] = df3.mark * 100\n",
    "len(df3)"
   ]
  },
  {
   "cell_type": "markdown",
   "id": "79722387",
   "metadata": {},
   "source": [
    "условия также применяются аналогично Series, для каждого элемента массива"
   ]
  },
  {
   "cell_type": "code",
   "execution_count": 112,
   "id": "fff2c250",
   "metadata": {},
   "outputs": [
    {
     "data": {
      "text/html": [
       "<div>\n",
       "<style scoped>\n",
       "    .dataframe tbody tr th:only-of-type {\n",
       "        vertical-align: middle;\n",
       "    }\n",
       "\n",
       "    .dataframe tbody tr th {\n",
       "        vertical-align: top;\n",
       "    }\n",
       "\n",
       "    .dataframe thead th {\n",
       "        text-align: right;\n",
       "    }\n",
       "</style>\n",
       "<table border=\"1\" class=\"dataframe\">\n",
       "  <thead>\n",
       "    <tr style=\"text-align: right;\">\n",
       "      <th>items</th>\n",
       "      <th>name</th>\n",
       "      <th>mark</th>\n",
       "      <th>allow</th>\n",
       "      <th>total</th>\n",
       "    </tr>\n",
       "    <tr>\n",
       "      <th>id</th>\n",
       "      <th></th>\n",
       "      <th></th>\n",
       "      <th></th>\n",
       "      <th></th>\n",
       "    </tr>\n",
       "  </thead>\n",
       "  <tbody>\n",
       "    <tr>\n",
       "      <th>1</th>\n",
       "      <td>NaN</td>\n",
       "      <td>2</td>\n",
       "      <td>False</td>\n",
       "      <td>NaN</td>\n",
       "    </tr>\n",
       "    <tr>\n",
       "      <th>2</th>\n",
       "      <td>NaN</td>\n",
       "      <td>3</td>\n",
       "      <td>False</td>\n",
       "      <td>NaN</td>\n",
       "    </tr>\n",
       "    <tr>\n",
       "      <th>3</th>\n",
       "      <td>NaN</td>\n",
       "      <td>4</td>\n",
       "      <td>False</td>\n",
       "      <td>NaN</td>\n",
       "    </tr>\n",
       "  </tbody>\n",
       "</table>\n",
       "</div>"
      ],
      "text/plain": [
       "items name  mark  allow  total\n",
       "id                            \n",
       "1      NaN     2  False    NaN\n",
       "2      NaN     3  False    NaN\n",
       "3      NaN     4  False    NaN"
      ]
     },
     "execution_count": 112,
     "metadata": {},
     "output_type": "execute_result"
    }
   ],
   "source": [
    "df3[df3.isin(i for i in range(10))]"
   ]
  },
  {
   "cell_type": "markdown",
   "id": "209559f6",
   "metadata": {},
   "source": [
    "Удаление столбца."
   ]
  },
  {
   "cell_type": "code",
   "execution_count": 119,
   "id": "e76de7d1",
   "metadata": {},
   "outputs": [
    {
     "data": {
      "text/html": [
       "<div>\n",
       "<style scoped>\n",
       "    .dataframe tbody tr th:only-of-type {\n",
       "        vertical-align: middle;\n",
       "    }\n",
       "\n",
       "    .dataframe tbody tr th {\n",
       "        vertical-align: top;\n",
       "    }\n",
       "\n",
       "    .dataframe thead th {\n",
       "        text-align: right;\n",
       "    }\n",
       "</style>\n",
       "<table border=\"1\" class=\"dataframe\">\n",
       "  <thead>\n",
       "    <tr style=\"text-align: right;\">\n",
       "      <th>items</th>\n",
       "      <th>name</th>\n",
       "      <th>mark</th>\n",
       "      <th>allow</th>\n",
       "    </tr>\n",
       "    <tr>\n",
       "      <th>id</th>\n",
       "      <th></th>\n",
       "      <th></th>\n",
       "      <th></th>\n",
       "    </tr>\n",
       "  </thead>\n",
       "  <tbody>\n",
       "    <tr>\n",
       "      <th>1</th>\n",
       "      <td>misha</td>\n",
       "      <td>2</td>\n",
       "      <td>False</td>\n",
       "    </tr>\n",
       "    <tr>\n",
       "      <th>2</th>\n",
       "      <td>yana</td>\n",
       "      <td>3</td>\n",
       "      <td>False</td>\n",
       "    </tr>\n",
       "    <tr>\n",
       "      <th>3</th>\n",
       "      <td>roma</td>\n",
       "      <td>4</td>\n",
       "      <td>False</td>\n",
       "    </tr>\n",
       "  </tbody>\n",
       "</table>\n",
       "</div>"
      ],
      "text/plain": [
       "items   name  mark  allow\n",
       "id                       \n",
       "1      misha     2  False\n",
       "2       yana     3  False\n",
       "3       roma     4  False"
      ]
     },
     "execution_count": 119,
     "metadata": {},
     "output_type": "execute_result"
    }
   ],
   "source": [
    "del df3['total']\n",
    "df3"
   ]
  },
  {
   "cell_type": "markdown",
   "id": "958e6548",
   "metadata": {},
   "source": [
    "DataFrame из влоденного словаря"
   ]
  },
  {
   "cell_type": "code",
   "execution_count": 121,
   "id": "a3c6d32e",
   "metadata": {},
   "outputs": [
    {
     "data": {
      "text/html": [
       "<div>\n",
       "<style scoped>\n",
       "    .dataframe tbody tr th:only-of-type {\n",
       "        vertical-align: middle;\n",
       "    }\n",
       "\n",
       "    .dataframe tbody tr th {\n",
       "        vertical-align: top;\n",
       "    }\n",
       "\n",
       "    .dataframe thead th {\n",
       "        text-align: right;\n",
       "    }\n",
       "</style>\n",
       "<table border=\"1\" class=\"dataframe\">\n",
       "  <thead>\n",
       "    <tr style=\"text-align: right;\">\n",
       "      <th></th>\n",
       "      <th>red</th>\n",
       "      <th>white</th>\n",
       "      <th>blue</th>\n",
       "    </tr>\n",
       "  </thead>\n",
       "  <tbody>\n",
       "    <tr>\n",
       "      <th>2012</th>\n",
       "      <td>22.0</td>\n",
       "      <td>22</td>\n",
       "      <td>27</td>\n",
       "    </tr>\n",
       "    <tr>\n",
       "      <th>2013</th>\n",
       "      <td>33.0</td>\n",
       "      <td>16</td>\n",
       "      <td>18</td>\n",
       "    </tr>\n",
       "    <tr>\n",
       "      <th>2011</th>\n",
       "      <td>NaN</td>\n",
       "      <td>13</td>\n",
       "      <td>17</td>\n",
       "    </tr>\n",
       "  </tbody>\n",
       "</table>\n",
       "</div>"
      ],
      "text/plain": [
       "       red  white  blue\n",
       "2012  22.0     22    27\n",
       "2013  33.0     16    18\n",
       "2011   NaN     13    17"
      ]
     },
     "execution_count": 121,
     "metadata": {},
     "output_type": "execute_result"
    }
   ],
   "source": [
    "nestdict = {\n",
    "    'red': { 2012: 22, 2013: 33}, \n",
    "    'white': { 2011: 13, 2012: 22, 2013: 16}, \n",
    "    'blue': { 2011: 17, 2012: 27, 2013: 18}\n",
    "}\n",
    "df = pd.DataFrame(nestdict)\n",
    "df"
   ]
  },
  {
   "cell_type": "markdown",
   "id": "2ab1ed76",
   "metadata": {},
   "source": [
    "Transpose with alias or method"
   ]
  },
  {
   "cell_type": "code",
   "execution_count": 123,
   "id": "859715ff",
   "metadata": {},
   "outputs": [
    {
     "data": {
      "text/html": [
       "<div>\n",
       "<style scoped>\n",
       "    .dataframe tbody tr th:only-of-type {\n",
       "        vertical-align: middle;\n",
       "    }\n",
       "\n",
       "    .dataframe tbody tr th {\n",
       "        vertical-align: top;\n",
       "    }\n",
       "\n",
       "    .dataframe thead th {\n",
       "        text-align: right;\n",
       "    }\n",
       "</style>\n",
       "<table border=\"1\" class=\"dataframe\">\n",
       "  <thead>\n",
       "    <tr style=\"text-align: right;\">\n",
       "      <th></th>\n",
       "      <th>2012</th>\n",
       "      <th>2013</th>\n",
       "      <th>2011</th>\n",
       "    </tr>\n",
       "  </thead>\n",
       "  <tbody>\n",
       "    <tr>\n",
       "      <th>red</th>\n",
       "      <td>22.0</td>\n",
       "      <td>33.0</td>\n",
       "      <td>NaN</td>\n",
       "    </tr>\n",
       "    <tr>\n",
       "      <th>white</th>\n",
       "      <td>22.0</td>\n",
       "      <td>16.0</td>\n",
       "      <td>13.0</td>\n",
       "    </tr>\n",
       "    <tr>\n",
       "      <th>blue</th>\n",
       "      <td>27.0</td>\n",
       "      <td>18.0</td>\n",
       "      <td>17.0</td>\n",
       "    </tr>\n",
       "  </tbody>\n",
       "</table>\n",
       "</div>"
      ],
      "text/plain": [
       "       2012  2013  2011\n",
       "red    22.0  33.0   NaN\n",
       "white  22.0  16.0  13.0\n",
       "blue   27.0  18.0  17.0"
      ]
     },
     "execution_count": 123,
     "metadata": {},
     "output_type": "execute_result"
    }
   ],
   "source": [
    "df.T"
   ]
  },
  {
   "cell_type": "markdown",
   "id": "54956630",
   "metadata": {},
   "source": [
    " ### Объект Index"
   ]
  }
 ],
 "metadata": {
  "kernelspec": {
   "display_name": "Python 3 (ipykernel)",
   "language": "python",
   "name": "python3"
  },
  "language_info": {
   "codemirror_mode": {
    "name": "ipython",
    "version": 3
   },
   "file_extension": ".py",
   "mimetype": "text/x-python",
   "name": "python",
   "nbconvert_exporter": "python",
   "pygments_lexer": "ipython3",
   "version": "3.11.2"
  }
 },
 "nbformat": 4,
 "nbformat_minor": 5
}
