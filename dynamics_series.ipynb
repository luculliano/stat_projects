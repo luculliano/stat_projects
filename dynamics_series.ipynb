{
 "cells": [
  {
   "cell_type": "markdown",
   "id": "58a79e06",
   "metadata": {},
   "source": [
    "# Задачи по рядам динамики с решениями"
   ]
  },
  {
   "cell_type": "markdown",
   "id": "29d9330a",
   "metadata": {},
   "source": [
    "### Задача 1\n",
    "\n",
    "Имеются данные о производстве и потреблении электроэнергии в РФ, млрд. кВт-ч.\n",
    "1995 1996 1997 1998 1999 2000 2001 2002 2003\n",
    "Потреблено электроэнергии 840,4 827,7 814,4 809,1 832,1 863,7 875,4 878,4 879,2\n",
    "Рассчитать цепные, базисные и средние показатели динамики."
   ]
  },
  {
   "cell_type": "code",
   "execution_count": 4,
   "id": "10f21481",
   "metadata": {},
   "outputs": [
    {
     "name": "stdout",
     "output_type": "stream",
     "text": [
      "840.4\n",
      "827.7\n",
      "814.4\n",
      "809.1\n",
      "832.1\n",
      "863.7\n",
      "875.4\n",
      "878.4\n",
      "879.2\n"
     ]
    }
   ],
   "source": [
    "s = map(lambda x: float(x.replace(\",\", \".\")), \"840,4 827,7 814,4 809,1 832,1 863,7 875,4 878,4 879,2\".split())\n",
    "print(*s, sep=\"\\n\")"
   ]
  }
 ],
 "metadata": {
  "kernelspec": {
   "display_name": "Python 3 (ipykernel)",
   "language": "python",
   "name": "python3"
  },
  "language_info": {
   "codemirror_mode": {
    "name": "ipython",
    "version": 3
   },
   "file_extension": ".py",
   "mimetype": "text/x-python",
   "name": "python",
   "nbconvert_exporter": "python",
   "pygments_lexer": "ipython3",
   "version": "3.11.2"
  }
 },
 "nbformat": 4,
 "nbformat_minor": 5
}
