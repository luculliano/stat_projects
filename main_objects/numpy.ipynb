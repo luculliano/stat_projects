{
 "cells": [
  {
   "cell_type": "markdown",
   "id": "e854df19",
   "metadata": {},
   "source": [
    "# numpy\n",
    "\n",
    "\\- открытая библиотка для научных исследований. Дает возможность манипулирования различными массивами.\n"
   ]
  },
  {
   "cell_type": "markdown",
   "id": "5c48c7b0",
   "metadata": {},
   "source": [
    "### ndarray\n",
    "\n",
    "\\- n-размерный массив. В данном случае одномерный пока рассматривается.\n",
    "\n",
    "Выполнять *мат. операции и операции сравнения*, которая будет применена к каждой единице выборки. (Вместо map). \n",
    "Изменит текущий объект array.\n",
    "\n",
    "*Поддерживает*: max, min, sorted, list, len\n",
    "\n",
    "Каждый ndarray имеет свой dtype.\n",
    "\n",
    "Значения изменить можно. А размерность после создания нет."
   ]
  },
  {
   "cell_type": "code",
   "execution_count": 1,
   "id": "40fb37b3",
   "metadata": {},
   "outputs": [
    {
     "data": {
      "text/plain": [
       "numpy.ndarray"
      ]
     },
     "execution_count": 1,
     "metadata": {},
     "output_type": "execute_result"
    }
   ],
   "source": [
    "import numpy as np\n",
    "import pandas as pd\n",
    "\n",
    "# func array(obj, dtype)\n",
    "vector = np.array([1, 2, 4, 1000, 203, 33])\n",
    "\n",
    "type(vector)"
   ]
  },
  {
   "cell_type": "code",
   "execution_count": 2,
   "id": "8f0acbaa",
   "metadata": {},
   "outputs": [
    {
     "data": {
      "text/plain": [
       "(array([  33,  203, 1000,    4,    2,    1]), 33)"
      ]
     },
     "execution_count": 2,
     "metadata": {},
     "output_type": "execute_result"
    }
   ],
   "source": [
    "# index\n",
    "vector[::-1], vector[-1]"
   ]
  },
  {
   "cell_type": "code",
   "execution_count": 3,
   "id": "06c001b8",
   "metadata": {},
   "outputs": [
    {
     "data": {
      "text/plain": [
       "array([999999,      2,      4,   1000,    203,     33])"
      ]
     },
     "execution_count": 3,
     "metadata": {},
     "output_type": "execute_result"
    }
   ],
   "source": [
    "# assign\n",
    "vector[0] = 999999\n",
    "vector"
   ]
  },
  {
   "cell_type": "code",
   "execution_count": 4,
   "id": "e98d990f",
   "metadata": {},
   "outputs": [
    {
     "data": {
      "text/plain": [
       "(999999,\n",
       " 6,\n",
       " array([999998000001,            4,           16,      1000000,\n",
       "               41209,         1089]))"
      ]
     },
     "execution_count": 4,
     "metadata": {},
     "output_type": "execute_result"
    }
   ],
   "source": [
    "max(vector), len(vector), vector ** 2"
   ]
  },
  {
   "cell_type": "markdown",
   "id": "3aec5b9f",
   "metadata": {},
   "source": [
    "### matrix\n",
    "\n",
    "\\- многомерные данные. Тот же array но сложнее."
   ]
  },
  {
   "cell_type": "code",
   "execution_count": 10,
   "id": "e22e655a",
   "metadata": {},
   "outputs": [
    {
     "data": {
      "text/plain": [
       "array([[1, 2, 3],\n",
       "       [4, 5, 6],\n",
       "       [7, 8, 9]])"
      ]
     },
     "execution_count": 10,
     "metadata": {},
     "output_type": "execute_result"
    }
   ],
   "source": [
    "source = [[1, 2, 3], [4, 5, 6], [7, 8, 9]]\n",
    "\n",
    "matrix = np.array(source)\n",
    "matrix"
   ]
  },
  {
   "cell_type": "code",
   "execution_count": 6,
   "id": "14fa72ff",
   "metadata": {},
   "outputs": [
    {
     "data": {
      "text/plain": [
       "array([[10, 20, 30],\n",
       "       [40, 50, 60],\n",
       "       [70, 80, 90]])"
      ]
     },
     "execution_count": 6,
     "metadata": {},
     "output_type": "execute_result"
    }
   ],
   "source": [
    "# каждая единица совокупности меняется\n",
    "matrix * 10"
   ]
  },
  {
   "cell_type": "markdown",
   "id": "29b3b3b3",
   "metadata": {},
   "source": [
    "m flatten makes rows as one dimention\n"
   ]
  },
  {
   "cell_type": "code",
   "execution_count": 7,
   "id": "a9ff2698",
   "metadata": {},
   "outputs": [
    {
     "data": {
      "text/plain": [
       "array([1, 2, 3, 4, 5, 6, 7, 8, 9])"
      ]
     },
     "execution_count": 7,
     "metadata": {},
     "output_type": "execute_result"
    }
   ],
   "source": [
    "matrix.flatten()"
   ]
  },
  {
   "cell_type": "markdown",
   "id": "e63fa1f6",
   "metadata": {},
   "source": [
    "arrt shape returns a tuple of size (rows, vars)\n",
    "attr size кол-во столбцов\n",
    "attr ndim кол-во строк\n"
   ]
  },
  {
   "cell_type": "code",
   "execution_count": 16,
   "id": "490682c0",
   "metadata": {},
   "outputs": [
    {
     "data": {
      "text/plain": [
       "((9, 3), 2, 27)"
      ]
     },
     "execution_count": 16,
     "metadata": {},
     "output_type": "execute_result"
    }
   ],
   "source": [
    "source.append([10, 11, 12])\n",
    "matrix = np.array(source)\n",
    "matrix.shape, matrix.ndim, matrix.size"
   ]
  },
  {
   "cell_type": "code",
   "execution_count": 9,
   "id": "c9800e99",
   "metadata": {},
   "outputs": [
    {
     "data": {
      "text/plain": [
       "(array([[ 1,  2,  3],\n",
       "        [ 4,  5,  6],\n",
       "        [ 7,  8,  9],\n",
       "        [10, 11, 12]]),\n",
       " array([4, 5, 6]),\n",
       " array([7]))"
      ]
     },
     "execution_count": 9,
     "metadata": {},
     "output_type": "execute_result"
    }
   ],
   "source": [
    "# syntax среза: row_index, срез. Вернет новый array, либо единицу совокупности.\n",
    "matrix, matrix[1, :], matrix[2, :1]"
   ]
  },
  {
   "cell_type": "code",
   "execution_count": 10,
   "id": "b5ff5483",
   "metadata": {},
   "outputs": [
    {
     "data": {
      "text/plain": [
       "array([[1, 2],\n",
       "       [4, 5],\n",
       "       [7, 8]])"
      ]
     },
     "execution_count": 10,
     "metadata": {},
     "output_type": "execute_result"
    }
   ],
   "source": [
    "# Индексация по признаку\n",
    "# если первый вернул матрицу, второй вернет по столбцам.\n",
    "matrix[:3, :2]"
   ]
  },
  {
   "cell_type": "code",
   "execution_count": 11,
   "id": "d5f08026",
   "metadata": {},
   "outputs": [
    {
     "data": {
      "text/plain": [
       "(array([ 3,  6,  9, 12]),\n",
       " array([[ 1,  2,  3],\n",
       "        [ 4,  5,  6],\n",
       "        [ 7,  8,  9],\n",
       "        [10, 11, 12]]))"
      ]
     },
     "execution_count": 11,
     "metadata": {},
     "output_type": "execute_result"
    }
   ],
   "source": [
    "# attr base позволяет получить исх. матрицу\n",
    "new_matrix = matrix[:, -1]\n",
    "new_matrix, new_matrix.base"
   ]
  },
  {
   "cell_type": "markdown",
   "id": "882c623c",
   "metadata": {},
   "source": [
    "#### operations"
   ]
  },
  {
   "cell_type": "code",
   "execution_count": 12,
   "id": "845ea3b6",
   "metadata": {},
   "outputs": [
    {
     "data": {
      "text/plain": [
       "array([[ True,  True],\n",
       "       [ True,  True]])"
      ]
     },
     "execution_count": 12,
     "metadata": {},
     "output_type": "execute_result"
    }
   ],
   "source": [
    "array1 = np.array([[1, 2], [3, 4]], dtype=np.float64)\n",
    "array2 = np.array([[5, 6], [7, 8]], dtype=np.float64)\n",
    "# addition\n",
    "m_sum1 = array1 + array2\n",
    "m_sum2 = np.add(array1, array2)\n",
    "\n",
    "# сравнение матриц происходит между единицами.\n",
    "m_sum1 == m_sum2"
   ]
  },
  {
   "cell_type": "code",
   "execution_count": 13,
   "id": "8342cb6f",
   "metadata": {},
   "outputs": [
    {
     "data": {
      "text/plain": [
       "(array([[-4., -4.],\n",
       "        [-4., -4.]]),\n",
       " array([[-4., -4.],\n",
       "        [-4., -4.]]))"
      ]
     },
     "execution_count": 13,
     "metadata": {},
     "output_type": "execute_result"
    }
   ],
   "source": [
    "# поэлементарное вычитание\n",
    "s1, s2 = array1 - array2, np.subtract(array1, array2)\n",
    "\n",
    "s1, s2"
   ]
  },
  {
   "cell_type": "code",
   "execution_count": 17,
   "id": "3d2248d0",
   "metadata": {},
   "outputs": [
    {
     "data": {
      "text/plain": [
       "array([[ True,  True],\n",
       "       [ True,  True]])"
      ]
     },
     "execution_count": 17,
     "metadata": {},
     "output_type": "execute_result"
    }
   ],
   "source": [
    "# multiply\n",
    "s1, s2 = array1 * array2, np.multiply(array1, array2)\n",
    "s1 == s2"
   ]
  },
  {
   "cell_type": "markdown",
   "id": "094f65af",
   "metadata": {},
   "source": [
    "f arange т.е. array range"
   ]
  },
  {
   "cell_type": "code",
   "execution_count": 4,
   "id": "597d1678",
   "metadata": {},
   "outputs": [
    {
     "data": {
      "text/plain": [
       "array([0, 2, 4, 6, 8])"
      ]
     },
     "execution_count": 4,
     "metadata": {},
     "output_type": "execute_result"
    }
   ],
   "source": [
    "np.arange(10, step=2)"
   ]
  },
  {
   "cell_type": "markdown",
   "id": "fe03fc78",
   "metadata": {},
   "source": [
    "m reshape((rows, cols)) делит одномерный на многомерный массив."
   ]
  },
  {
   "cell_type": "code",
   "execution_count": 4,
   "id": "bce8e042",
   "metadata": {},
   "outputs": [
    {
     "data": {
      "text/plain": [
       "array([[0, 1, 2, 3, 4],\n",
       "       [5, 6, 7, 8, 9]])"
      ]
     },
     "execution_count": 4,
     "metadata": {},
     "output_type": "execute_result"
    }
   ],
   "source": [
    "a = np.arange(10)\n",
    "a.reshape((2, 5))"
   ]
  },
  {
   "cell_type": "markdown",
   "id": "8624c937",
   "metadata": {},
   "source": [
    "f union1d вернет array с общими значениями оп одному разу.\n",
    "f concatenate аналогично, но не сортирует"
   ]
  },
  {
   "cell_type": "code",
   "execution_count": 7,
   "id": "6cca62d6",
   "metadata": {},
   "outputs": [
    {
     "data": {
      "text/plain": [
       "0    1\n",
       "1    2\n",
       "2    3\n",
       "3    4\n",
       "4    5\n",
       "5    6\n",
       "dtype: int64"
      ]
     },
     "execution_count": 7,
     "metadata": {},
     "output_type": "execute_result"
    }
   ],
   "source": [
    "a = pd.Series([1, 2, 3, 4])\n",
    "b = pd.Series([3, 4, 5, 6, 3])\n",
    "w = pd.Series(np.union1d(a, b))\n",
    "w"
   ]
  },
  {
   "cell_type": "markdown",
   "id": "d939d7a0",
   "metadata": {},
   "source": [
    "f np.intersect1d вернет array с пересекающимися знаениями"
   ]
  },
  {
   "cell_type": "code",
   "execution_count": 8,
   "id": "d12610bf",
   "metadata": {},
   "outputs": [
    {
     "data": {
      "text/plain": [
       "0    3\n",
       "1    4\n",
       "dtype: int64"
      ]
     },
     "execution_count": 8,
     "metadata": {},
     "output_type": "execute_result"
    }
   ],
   "source": [
    "l = pd.Series(np.intersect1d(a, b))\n",
    "l"
   ]
  },
  {
   "cell_type": "markdown",
   "id": "9b0da52a",
   "metadata": {},
   "source": [
    "f linespace(start, stop, amount) - вернет array чисел, от start до stop с кол-вом чисел amount, между которыми одинаковый интервал."
   ]
  },
  {
   "cell_type": "code",
   "execution_count": 4,
   "id": "c90ee5b3",
   "metadata": {},
   "outputs": [
    {
     "data": {
      "text/plain": [
       "array([ 1.  ,  3.25,  5.5 ,  7.75, 10.  ])"
      ]
     },
     "execution_count": 4,
     "metadata": {},
     "output_type": "execute_result"
    }
   ],
   "source": [
    "np.linspace(1, 10, 5)"
   ]
  }
 ],
 "metadata": {
  "kernelspec": {
   "display_name": "Python 3 (ipykernel)",
   "language": "python",
   "name": "python3"
  },
  "language_info": {
   "codemirror_mode": {
    "name": "ipython",
    "version": 3
   },
   "file_extension": ".py",
   "mimetype": "text/x-python",
   "name": "python",
   "nbconvert_exporter": "python",
   "pygments_lexer": "ipython3",
   "version": "3.11.3"
  }
 },
 "nbformat": 4,
 "nbformat_minor": 5
}
