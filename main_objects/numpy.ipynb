{
 "cells": [
  {
   "cell_type": "markdown",
   "id": "e854df19",
   "metadata": {},
   "source": [
    "# numpy\n",
    "\n",
    "\\- открытая библиотка для научных исследований. Дает возможность манипулирования различными массивами.\n"
   ]
  },
  {
   "cell_type": "markdown",
   "id": "5c48c7b0",
   "metadata": {},
   "source": [
    "### ndarray\n",
    "\n",
    "\\- n-размерный массив. В данном случае одномерный пока рассматривается.\n",
    "\n",
    "Выполнять *мат. операции и операции сравнения*, которая будет применена к каждой единице выборки. (Вместо map). \n",
    "Изменит текущий объект array.\n",
    "\n",
    "*Поддерживает*: max, min, sorted, list, len\n",
    "\n",
    "Каждый ndarray имеет свой dtype.\n",
    "\n",
    "Значения изменить можно. А размерность после создания нет."
   ]
  },
  {
   "cell_type": "code",
   "execution_count": 21,
   "id": "40fb37b3",
   "metadata": {},
   "outputs": [
    {
     "data": {
      "text/plain": [
       "numpy.ndarray"
      ]
     },
     "execution_count": 21,
     "metadata": {},
     "output_type": "execute_result"
    }
   ],
   "source": [
    "import numpy as np\n",
    "import pandas as pd\n",
    "\n",
    "# func array(obj, dtype)\n",
    "vector = np.array([1, 2, 4, 1000, 203, 33])\n",
    "\n",
    "type(vector)"
   ]
  },
  {
   "cell_type": "code",
   "execution_count": 2,
   "id": "8f0acbaa",
   "metadata": {},
   "outputs": [
    {
     "data": {
      "text/plain": [
       "(array([  33,  203, 1000,    4,    2,    1]), 33)"
      ]
     },
     "execution_count": 2,
     "metadata": {},
     "output_type": "execute_result"
    }
   ],
   "source": [
    "# index\n",
    "vector[::-1], vector[-1]"
   ]
  },
  {
   "cell_type": "code",
   "execution_count": 3,
   "id": "06c001b8",
   "metadata": {},
   "outputs": [
    {
     "data": {
      "text/plain": [
       "array([999999,      2,      4,   1000,    203,     33])"
      ]
     },
     "execution_count": 3,
     "metadata": {},
     "output_type": "execute_result"
    }
   ],
   "source": [
    "# assign\n",
    "vector[0] = 999999\n",
    "vector"
   ]
  },
  {
   "cell_type": "code",
   "execution_count": 4,
   "id": "e98d990f",
   "metadata": {},
   "outputs": [
    {
     "data": {
      "text/plain": [
       "(999999,\n",
       " 6,\n",
       " array([999998000001,            4,           16,      1000000,\n",
       "               41209,         1089]))"
      ]
     },
     "execution_count": 4,
     "metadata": {},
     "output_type": "execute_result"
    }
   ],
   "source": [
    "max(vector), len(vector), vector ** 2"
   ]
  },
  {
   "cell_type": "markdown",
   "id": "3aec5b9f",
   "metadata": {},
   "source": [
    "### matrix\n",
    "\n",
    "\\- многомерные данные. Тот же array но сложнее."
   ]
  },
  {
   "cell_type": "code",
   "execution_count": 10,
   "id": "e22e655a",
   "metadata": {},
   "outputs": [
    {
     "data": {
      "text/plain": [
       "array([[1, 2, 3],\n",
       "       [4, 5, 6],\n",
       "       [7, 8, 9]])"
      ]
     },
     "execution_count": 10,
     "metadata": {},
     "output_type": "execute_result"
    }
   ],
   "source": [
    "source = [[1, 2, 3], [4, 5, 6], [7, 8, 9]]\n",
    "\n",
    "matrix = np.array(source)\n",
    "matrix"
   ]
  },
  {
   "cell_type": "code",
   "execution_count": 6,
   "id": "14fa72ff",
   "metadata": {},
   "outputs": [
    {
     "data": {
      "text/plain": [
       "array([[10, 20, 30],\n",
       "       [40, 50, 60],\n",
       "       [70, 80, 90]])"
      ]
     },
     "execution_count": 6,
     "metadata": {},
     "output_type": "execute_result"
    }
   ],
   "source": [
    "# каждая единица совокупности меняется\n",
    "matrix * 10"
   ]
  },
  {
   "cell_type": "markdown",
   "id": "29b3b3b3",
   "metadata": {},
   "source": [
    "m flatten makes rows as one dimention\n"
   ]
  },
  {
   "cell_type": "code",
   "execution_count": 7,
   "id": "a9ff2698",
   "metadata": {},
   "outputs": [
    {
     "data": {
      "text/plain": [
       "array([1, 2, 3, 4, 5, 6, 7, 8, 9])"
      ]
     },
     "execution_count": 7,
     "metadata": {},
     "output_type": "execute_result"
    }
   ],
   "source": [
    "matrix.flatten()"
   ]
  },
  {
   "cell_type": "markdown",
   "id": "e63fa1f6",
   "metadata": {},
   "source": [
    "arrt shape returns a tuple of size (rows, vars)\n",
    "attr size кол-во столбцов\n",
    "attr ndim кол-во строк\n"
   ]
  },
  {
   "cell_type": "code",
   "execution_count": 16,
   "id": "490682c0",
   "metadata": {},
   "outputs": [
    {
     "data": {
      "text/plain": [
       "((9, 3), 2, 27)"
      ]
     },
     "execution_count": 16,
     "metadata": {},
     "output_type": "execute_result"
    }
   ],
   "source": [
    "source.append([10, 11, 12])\n",
    "matrix = np.array(source)\n",
    "matrix.shape, matrix.ndim, matrix.size"
   ]
  },
  {
   "cell_type": "code",
   "execution_count": 9,
   "id": "c9800e99",
   "metadata": {},
   "outputs": [
    {
     "data": {
      "text/plain": [
       "(array([[ 1,  2,  3],\n",
       "        [ 4,  5,  6],\n",
       "        [ 7,  8,  9],\n",
       "        [10, 11, 12]]),\n",
       " array([4, 5, 6]),\n",
       " array([7]))"
      ]
     },
     "execution_count": 9,
     "metadata": {},
     "output_type": "execute_result"
    }
   ],
   "source": [
    "# syntax среза: row_index, срез. Вернет новый array, либо единицу совокупности.\n",
    "matrix, matrix[1, :], matrix[2, :1]"
   ]
  },
  {
   "cell_type": "code",
   "execution_count": 10,
   "id": "b5ff5483",
   "metadata": {},
   "outputs": [
    {
     "data": {
      "text/plain": [
       "array([[1, 2],\n",
       "       [4, 5],\n",
       "       [7, 8]])"
      ]
     },
     "execution_count": 10,
     "metadata": {},
     "output_type": "execute_result"
    }
   ],
   "source": [
    "# Индексация по признаку\n",
    "# если первый вернул матрицу, второй вернет по столбцам.\n",
    "matrix[:3, :2]"
   ]
  },
  {
   "cell_type": "code",
   "execution_count": 11,
   "id": "d5f08026",
   "metadata": {},
   "outputs": [
    {
     "data": {
      "text/plain": [
       "(array([ 3,  6,  9, 12]),\n",
       " array([[ 1,  2,  3],\n",
       "        [ 4,  5,  6],\n",
       "        [ 7,  8,  9],\n",
       "        [10, 11, 12]]))"
      ]
     },
     "execution_count": 11,
     "metadata": {},
     "output_type": "execute_result"
    }
   ],
   "source": [
    "# attr base позволяет получить исх. матрицу\n",
    "new_matrix = matrix[:, -1]\n",
    "new_matrix, new_matrix.base"
   ]
  },
  {
   "cell_type": "markdown",
   "id": "882c623c",
   "metadata": {},
   "source": [
    "#### operations"
   ]
  },
  {
   "cell_type": "code",
   "execution_count": 12,
   "id": "845ea3b6",
   "metadata": {},
   "outputs": [
    {
     "data": {
      "text/plain": [
       "array([[ True,  True],\n",
       "       [ True,  True]])"
      ]
     },
     "execution_count": 12,
     "metadata": {},
     "output_type": "execute_result"
    }
   ],
   "source": [
    "array1 = np.array([[1, 2], [3, 4]], dtype=np.float64)\n",
    "array2 = np.array([[5, 6], [7, 8]], dtype=np.float64)\n",
    "# addition\n",
    "m_sum1 = array1 + array2\n",
    "m_sum2 = np.add(array1, array2)\n",
    "\n",
    "# сравнение матриц происходит между единицами.\n",
    "m_sum1 == m_sum2"
   ]
  },
  {
   "cell_type": "code",
   "execution_count": 13,
   "id": "8342cb6f",
   "metadata": {},
   "outputs": [
    {
     "data": {
      "text/plain": [
       "(array([[-4., -4.],\n",
       "        [-4., -4.]]),\n",
       " array([[-4., -4.],\n",
       "        [-4., -4.]]))"
      ]
     },
     "execution_count": 13,
     "metadata": {},
     "output_type": "execute_result"
    }
   ],
   "source": [
    "# поэлементарное вычитание\n",
    "s1, s2 = array1 - array2, np.subtract(array1, array2)\n",
    "\n",
    "s1, s2"
   ]
  },
  {
   "cell_type": "code",
   "execution_count": 17,
   "id": "3d2248d0",
   "metadata": {},
   "outputs": [
    {
     "data": {
      "text/plain": [
       "array([[ True,  True],\n",
       "       [ True,  True]])"
      ]
     },
     "execution_count": 17,
     "metadata": {},
     "output_type": "execute_result"
    }
   ],
   "source": [
    "# multiply\n",
    "s1, s2 = array1 * array2, np.multiply(array1, array2)\n",
    "s1 == s2"
   ]
  },
  {
   "cell_type": "markdown",
   "id": "094f65af",
   "metadata": {},
   "source": [
    "f arange т.е. array range"
   ]
  },
  {
   "cell_type": "code",
   "execution_count": 4,
   "id": "597d1678",
   "metadata": {},
   "outputs": [
    {
     "data": {
      "text/plain": [
       "array([0, 2, 4, 6, 8])"
      ]
     },
     "execution_count": 4,
     "metadata": {},
     "output_type": "execute_result"
    }
   ],
   "source": [
    "np.arange(10, step=2)"
   ]
  },
  {
   "cell_type": "markdown",
   "id": "fe03fc78",
   "metadata": {},
   "source": [
    "m reshape((rows, cols)) делит одномерный на многомерный массив."
   ]
  },
  {
   "cell_type": "code",
   "execution_count": 4,
   "id": "bce8e042",
   "metadata": {},
   "outputs": [
    {
     "data": {
      "text/plain": [
       "array([[0, 1, 2, 3, 4],\n",
       "       [5, 6, 7, 8, 9]])"
      ]
     },
     "execution_count": 4,
     "metadata": {},
     "output_type": "execute_result"
    }
   ],
   "source": [
    "a = np.arange(10)\n",
    "a.reshape((2, 5))"
   ]
  },
  {
   "cell_type": "markdown",
   "id": "8624c937",
   "metadata": {},
   "source": [
    "f union1d вернет array с общими значениями оп одному разу.\n",
    "f concatenate аналогично, но не сортирует"
   ]
  },
  {
   "cell_type": "code",
   "execution_count": 7,
   "id": "6cca62d6",
   "metadata": {},
   "outputs": [
    {
     "data": {
      "text/plain": [
       "0    1\n",
       "1    2\n",
       "2    3\n",
       "3    4\n",
       "4    5\n",
       "5    6\n",
       "dtype: int64"
      ]
     },
     "execution_count": 7,
     "metadata": {},
     "output_type": "execute_result"
    }
   ],
   "source": [
    "a = pd.Series([1, 2, 3, 4])\n",
    "b = pd.Series([3, 4, 5, 6, 3])\n",
    "w = pd.Series(np.union1d(a, b))\n",
    "w"
   ]
  },
  {
   "cell_type": "markdown",
   "id": "d939d7a0",
   "metadata": {},
   "source": [
    "f np.intersect1d вернет array с пересекающимися знаениями"
   ]
  },
  {
   "cell_type": "code",
   "execution_count": 8,
   "id": "d12610bf",
   "metadata": {},
   "outputs": [
    {
     "data": {
      "text/plain": [
       "0    3\n",
       "1    4\n",
       "dtype: int64"
      ]
     },
     "execution_count": 8,
     "metadata": {},
     "output_type": "execute_result"
    }
   ],
   "source": [
    "l = pd.Series(np.intersect1d(a, b))\n",
    "l"
   ]
  },
  {
   "cell_type": "markdown",
   "id": "9b0da52a",
   "metadata": {},
   "source": [
    "f linespace(start, stop, amount) - вернет array чисел, от start до stop с кол-вом чисел amount, между которыми одинаковый интервал."
   ]
  },
  {
   "cell_type": "code",
   "execution_count": 4,
   "id": "c90ee5b3",
   "metadata": {},
   "outputs": [
    {
     "data": {
      "text/plain": [
       "array([ 1.  ,  3.25,  5.5 ,  7.75, 10.  ])"
      ]
     },
     "execution_count": 4,
     "metadata": {},
     "output_type": "execute_result"
    }
   ],
   "source": [
    "np.linspace(1, 10, 5)"
   ]
  },
  {
   "cell_type": "markdown",
   "id": "b5da539d",
   "metadata": {},
   "source": [
    "#### random module"
   ]
  },
  {
   "cell_type": "code",
   "execution_count": 4,
   "id": "994deba4",
   "metadata": {},
   "outputs": [
    {
     "data": {
      "text/plain": [
       "array([[0.39644194, 0.22084716, 0.34059099, 0.71674046, 0.32091371],\n",
       "       [0.22049875, 0.31969473, 0.90630989, 0.44192773, 0.88898049],\n",
       "       [0.36279004, 0.67757648, 0.4267943 , 0.94496051, 0.84399969]])"
      ]
     },
     "execution_count": 4,
     "metadata": {},
     "output_type": "execute_result"
    }
   ],
   "source": [
    "# rand(n, m) - random decimal values (<1), n-rows and m-cols.\n",
    "np.random.rand(3, 5)"
   ]
  },
  {
   "cell_type": "code",
   "execution_count": null,
   "id": "e3c7916f",
   "metadata": {},
   "outputs": [],
   "source": [
    "# randint - random imteger from low to high\n",
    "np.random.randint(1, 10)"
   ]
  },
  {
   "cell_type": "code",
   "execution_count": 7,
   "id": "3a397f50",
   "metadata": {
    "scrolled": true
   },
   "outputs": [
    {
     "data": {
      "text/plain": [
       "array([0.92595413, 0.55393597, 0.23086826, 0.47942633, 0.63716663,\n",
       "       0.06079934, 0.75160233, 0.6893118 , 0.90545859, 0.86733877])"
      ]
     },
     "execution_count": 7,
     "metadata": {},
     "output_type": "execute_result"
    }
   ],
   "source": [
    "# random_sample\n",
    "np.random.random_sample(10)"
   ]
  },
  {
   "cell_type": "code",
   "execution_count": 20,
   "id": "fbe6b79a",
   "metadata": {},
   "outputs": [
    {
     "data": {
      "text/plain": [
       "array([-0.81798887, -0.92337735,  1.56544189,  1.01053747,  0.65759917,\n",
       "        0.24912741, -0.04236247,  0.36528244, -0.34704886,  1.09608025])"
      ]
     },
     "execution_count": 20,
     "metadata": {},
     "output_type": "execute_result"
    }
   ],
   "source": [
    "# random numbers from low to high\n",
    "np.random.randn(10)"
   ]
  },
  {
   "cell_type": "code",
   "execution_count": 26,
   "id": "a4cbc4e7",
   "metadata": {
    "scrolled": true
   },
   "outputs": [
    {
     "data": {
      "text/plain": [
       "array([ 1.79785683, -1.76418243, -0.80054348, -1.45176872, -1.17710498,\n",
       "        0.98494893,  1.41371173, -2.39873883,  0.27421767,  0.44023701,\n",
       "        0.63342775,  0.50897746,  0.21536471, -0.00903414,  1.30342343,\n",
       "        0.23228767,  0.61457397,  0.16456004, -0.32263014,  0.34309738,\n",
       "       -0.86108342,  0.622687  , -1.31656178,  0.25202594, -0.34015092,\n",
       "        0.60614778,  1.52002609, -0.41548814,  1.01168106,  1.66742926,\n",
       "        0.42625471,  0.0414708 , -0.21808325, -0.75304798, -0.62007133,\n",
       "       -0.70261709,  0.5844689 ,  2.62195187,  0.30223728, -1.1380207 ,\n",
       "        1.02782531, -0.36607731, -1.50503552,  1.76692042, -0.77019789,\n",
       "       -0.3433448 ,  0.73215463, -2.27792261,  0.22534981,  0.24488333,\n",
       "        0.04436734, -1.50484332,  0.55955569,  0.16543161,  0.97273209,\n",
       "        0.73317929,  0.92730129, -0.92227463, -0.50216   ,  1.09212269,\n",
       "        2.08182528,  0.85830823,  0.19056015, -1.17657852,  0.19878596,\n",
       "       -1.54011742,  1.669123  ,  1.35102652, -0.65368009, -0.87170063,\n",
       "        1.23498186, -0.01464887,  0.74064808,  1.14526804,  0.9748244 ,\n",
       "        0.26389144, -1.3828418 , -0.02860038,  1.197441  ,  1.4234614 ,\n",
       "       -0.3847689 ,  0.75464258, -0.58579333,  1.45147557,  0.77505755,\n",
       "       -2.41461741, -0.46423727, -0.38276843,  0.47158539, -0.5445059 ,\n",
       "       -2.17085824, -0.80937941, -0.00521393, -0.22657914,  1.87308061,\n",
       "        0.21644817, -1.57025312,  0.34986677,  1.33640565, -0.32796463])"
      ]
     },
     "execution_count": 26,
     "metadata": {},
     "output_type": "execute_result"
    }
   ],
   "source": [
    "# random data for normal distibution normal(mean-center, std, len of data)\n",
    "np.random.normal(0, 1, 100)"
   ]
  }
 ],
 "metadata": {
  "kernelspec": {
   "display_name": "Python 3 (ipykernel)",
   "language": "python",
   "name": "python3"
  },
  "language_info": {
   "codemirror_mode": {
    "name": "ipython",
    "version": 3
   },
   "file_extension": ".py",
   "mimetype": "text/x-python",
   "name": "python",
   "nbconvert_exporter": "python",
   "pygments_lexer": "ipython3",
   "version": "3.11.3"
  }
 },
 "nbformat": 4,
 "nbformat_minor": 5
}
